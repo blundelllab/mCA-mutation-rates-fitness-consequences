{
 "cells": [
  {
   "cell_type": "markdown",
   "id": "4e30cedf",
   "metadata": {
    "toc": true
   },
   "source": [
    "<h1>Table of Contents<span class=\"tocSkip\"></span></h1>\n",
    "<div class=\"toc\"><ul class=\"toc-item\"><li><span><a href=\"#Notebook-setup\" data-toc-modified-id=\"Notebook-setup-1\"><span class=\"toc-item-num\">1&nbsp;&nbsp;</span>Notebook setup</a></span></li><li><span><a href=\"#Import-data\" data-toc-modified-id=\"Import-data-2\"><span class=\"toc-item-num\">2&nbsp;&nbsp;</span>Import data</a></span><ul class=\"toc-item\"><li><span><a href=\"#UK-Biobank-mCA-calls\" data-toc-modified-id=\"UK-Biobank-mCA-calls-2.1\"><span class=\"toc-item-num\">2.1&nbsp;&nbsp;</span>UK Biobank mCA calls</a></span></li><li><span><a href=\"#Inferred-s-and-mu-values\" data-toc-modified-id=\"Inferred-s-and-mu-values-2.2\"><span class=\"toc-item-num\">2.2&nbsp;&nbsp;</span>Inferred s and mu values</a></span><ul class=\"toc-item\"><li><span><a href=\"#Both-sexes-together\" data-toc-modified-id=\"Both-sexes-together-2.2.1\"><span class=\"toc-item-num\">2.2.1&nbsp;&nbsp;</span>Both sexes together</a></span></li><li><span><a href=\"#Sex-specific\" data-toc-modified-id=\"Sex-specific-2.2.2\"><span class=\"toc-item-num\">2.2.2&nbsp;&nbsp;</span>Sex-specific</a></span></li></ul></li></ul></li><li><span><a href=\"#Functions\" data-toc-modified-id=\"Functions-3\"><span class=\"toc-item-num\">3&nbsp;&nbsp;</span>Functions</a></span><ul class=\"toc-item\"><li><span><a href=\"#Functions-for-calculating-degree-of-deviation-in-age-dependence\" data-toc-modified-id=\"Functions-for-calculating-degree-of-deviation-in-age-dependence-3.1\"><span class=\"toc-item-num\">3.1&nbsp;&nbsp;</span>Functions for calculating degree of deviation in age dependence</a></span></li><li><span><a href=\"#Functions-for-calculating-degree-of-deviation-in-age-dependence,-if-including-more-than-1-mCA\" data-toc-modified-id=\"Functions-for-calculating-degree-of-deviation-in-age-dependence,-if-including-more-than-1-mCA-3.2\"><span class=\"toc-item-num\">3.2&nbsp;&nbsp;</span>Functions for calculating degree of deviation in age dependence, if including more than 1 mCA</a></span></li><li><span><a href=\"#Functions-for-plotting-degree-of-deviation-in-age-dependence\" data-toc-modified-id=\"Functions-for-plotting-degree-of-deviation-in-age-dependence-3.3\"><span class=\"toc-item-num\">3.3&nbsp;&nbsp;</span>Functions for plotting degree of deviation in age dependence</a></span></li></ul></li><li><span><a href=\"#Deviation-from-expected-age-dependence-(Figure-3d)\" data-toc-modified-id=\"Deviation-from-expected-age-dependence-(Figure-3d)-4\"><span class=\"toc-item-num\">4&nbsp;&nbsp;</span>Deviation from expected age dependence (Figure 3d)</a></span><ul class=\"toc-item\"><li><span><a href=\"#Can-decline-in-prevalence-with-age-for-some-mCAs-be-explained-by-acquisition-of-additional-mCAs?-(Supplementary-Figure-19)\" data-toc-modified-id=\"Can-decline-in-prevalence-with-age-for-some-mCAs-be-explained-by-acquisition-of-additional-mCAs?-(Supplementary-Figure-19)-4.1\"><span class=\"toc-item-num\">4.1&nbsp;&nbsp;</span>Can decline in prevalence with age for some mCAs be explained by acquisition of additional mCAs? (Supplementary Figure 19)</a></span></li></ul></li></ul></div>"
   ]
  },
  {
   "cell_type": "code",
   "execution_count": 1,
   "id": "c0da8ff5",
   "metadata": {
    "ExecuteTime": {
     "end_time": "2023-08-14T17:17:58.613083Z",
     "start_time": "2023-08-14T17:17:58.551200Z"
    }
   },
   "outputs": [
    {
     "data": {
      "text/html": [
       "<style>.container { width:80% !important; }</style>"
      ],
      "text/plain": [
       "<IPython.core.display.HTML object>"
      ]
     },
     "metadata": {},
     "output_type": "display_data"
    }
   ],
   "source": [
    "from IPython.core.display import display, HTML\n",
    "display(HTML(\"<style>.container { width:80% !important; }</style>\"))"
   ]
  },
  {
   "cell_type": "markdown",
   "id": "da9c2925",
   "metadata": {},
   "source": [
    "# Notebook setup"
   ]
  },
  {
   "cell_type": "code",
   "execution_count": 2,
   "id": "00602ff1",
   "metadata": {
    "ExecuteTime": {
     "end_time": "2023-08-14T17:18:06.092803Z",
     "start_time": "2023-08-14T17:18:00.341332Z"
    }
   },
   "outputs": [],
   "source": [
    "# imported packages\n",
    "import matplotlib\n",
    "import matplotlib.pyplot as plt\n",
    "from matplotlib.lines import Line2D\n",
    "import matplotlib.ticker as ticker\n",
    "import pandas as pd\n",
    "import numpy as np\n",
    "import scipy\n",
    "from scipy import integrate\n",
    "from scipy.interpolate import interp1d\n",
    "from datetime import datetime\n",
    "import zipfile"
   ]
  },
  {
   "cell_type": "code",
   "execution_count": 3,
   "id": "7b24c7ab",
   "metadata": {
    "ExecuteTime": {
     "end_time": "2023-08-14T17:18:06.124653Z",
     "start_time": "2023-08-14T17:18:06.100483Z"
    }
   },
   "outputs": [],
   "source": [
    "plt.style.use('cwpython.mplstyle') #use custom style file"
   ]
  },
  {
   "cell_type": "code",
   "execution_count": 4,
   "id": "0ba624d5",
   "metadata": {
    "ExecuteTime": {
     "end_time": "2023-08-14T17:18:06.154787Z",
     "start_time": "2023-08-14T17:18:06.131231Z"
    },
    "code_folding": [
     0
    ]
   },
   "outputs": [],
   "source": [
    "#define the colors from colorbrewer2\n",
    "orange1 = '#feedde'\n",
    "orange2 = '#fdbe85'\n",
    "orange3 = '#fd8d3c'\n",
    "orange4 = '#e6550d'\n",
    "orange5 = '#a63603'\n",
    "blue1 = '#eff3ff'\n",
    "blue2 = '#bdd7e7'\n",
    "blue3 = '#6baed6'\n",
    "blue4 = '#3182bd'\n",
    "blue5 = '#08519c'\n",
    "green1 = '#edf8e9'\n",
    "green2 = '#bae4b3'\n",
    "green3 = '#74c476'\n",
    "green4 = '#31a354'\n",
    "green5 = '#006d2c'\n",
    "grey1 = '#f7f7f7'\n",
    "grey2 = '#cccccc'\n",
    "grey3 = '#969696'\n",
    "grey4 = '#636363'\n",
    "grey5 = '#252525'\n",
    "purple1 = '#f2f0f7'\n",
    "purple2 = '#cbc9e2'\n",
    "purple3 = '#9e9ac8'\n",
    "purple4 = '#756bb1'\n",
    "purple5 = '#54278f'\n",
    "red1 = '#fee5d9'\n",
    "red2 = '#fcae91'\n",
    "red3 = '#fb6a4a'\n",
    "red4 = '#de2d26'\n",
    "red5 = '#a50f15'"
   ]
  },
  {
   "cell_type": "code",
   "execution_count": 5,
   "id": "77e29212",
   "metadata": {
    "ExecuteTime": {
     "end_time": "2023-08-14T17:18:06.172549Z",
     "start_time": "2023-08-14T17:18:06.163442Z"
    }
   },
   "outputs": [],
   "source": [
    "neutral_color='#fdbf6f'\n",
    "gain_color = '#e31a1c'\n",
    "loss_color = '#a6cee3'"
   ]
  },
  {
   "cell_type": "code",
   "execution_count": 6,
   "id": "4aeabbaa",
   "metadata": {
    "ExecuteTime": {
     "end_time": "2023-08-14T17:18:08.299474Z",
     "start_time": "2023-08-14T17:18:08.287325Z"
    }
   },
   "outputs": [],
   "source": [
    "male_gain_color = '#650913'\n",
    "female_gain_color = gain_color\n",
    "male_loss_color = '#213468'\n",
    "female_loss_color = '#6badd6'\n",
    "male_neutral_color = '#cb4e27'\n",
    "female_neutral_color = neutral_color"
   ]
  },
  {
   "cell_type": "code",
   "execution_count": 7,
   "id": "a5a5e54b",
   "metadata": {
    "ExecuteTime": {
     "end_time": "2023-08-14T17:18:08.903761Z",
     "start_time": "2023-08-14T17:18:08.889514Z"
    }
   },
   "outputs": [],
   "source": [
    "colors_dict_mCAs = {'+': {'male': male_gain_color, 'female': female_gain_color}, \n",
    "                    '-': {'female': female_loss_color, 'male': male_loss_color},\n",
    "                   '=': {'male': male_neutral_color, 'female': female_neutral_color}}"
   ]
  },
  {
   "cell_type": "code",
   "execution_count": 8,
   "id": "67d5dc40",
   "metadata": {
    "ExecuteTime": {
     "end_time": "2023-08-14T17:18:09.638830Z",
     "start_time": "2023-08-14T17:18:09.626349Z"
    },
    "code_folding": [
     0
    ]
   },
   "outputs": [],
   "source": [
    "sex_colors_dict = {'M': \n",
    "                      {'+': \n",
    "                       {'observed': '#a50f15',\n",
    "                       'expected': '#ef3b2c'},\n",
    "                      '-':\n",
    "                      {'observed': '#08306b',\n",
    "                      'expected': '#2171b5'},\n",
    "                      '=':\n",
    "                      {'observed': '#993404',\n",
    "                      'expected': '#ec7014'}},\n",
    "                     'F':\n",
    "                     {'+': \n",
    "                       {'observed': '#fb6a4a',\n",
    "                       'expected': '#fcbba1'},\n",
    "                      '-':\n",
    "                      {'observed': '#4292c6',\n",
    "                      'expected': '#9ecae1'},\n",
    "                      '=':\n",
    "                      {'observed': '#fe9929',\n",
    "                      'expected': '#fee391'}}}"
   ]
  },
  {
   "cell_type": "markdown",
   "id": "28ce6746",
   "metadata": {},
   "source": [
    "# Import data"
   ]
  },
  {
   "cell_type": "markdown",
   "id": "92720aab",
   "metadata": {},
   "source": [
    "## UK Biobank mCA calls"
   ]
  },
  {
   "cell_type": "code",
   "execution_count": 9,
   "id": "66e88704",
   "metadata": {
    "ExecuteTime": {
     "end_time": "2023-08-14T17:18:14.680100Z",
     "start_time": "2023-08-14T17:18:11.974508Z"
    }
   },
   "outputs": [
    {
     "data": {
      "text/html": [
       "<div>\n",
       "<style scoped>\n",
       "    .dataframe tbody tr th:only-of-type {\n",
       "        vertical-align: middle;\n",
       "    }\n",
       "\n",
       "    .dataframe tbody tr th {\n",
       "        vertical-align: top;\n",
       "    }\n",
       "\n",
       "    .dataframe thead th {\n",
       "        text-align: right;\n",
       "    }\n",
       "</style>\n",
       "<table border=\"1\" class=\"dataframe\">\n",
       "  <thead>\n",
       "    <tr style=\"text-align: right;\">\n",
       "      <th></th>\n",
       "      <th>Unnamed: 0</th>\n",
       "      <th>ID</th>\n",
       "      <th>SEX</th>\n",
       "      <th>AGE</th>\n",
       "      <th>PREV_CANCER</th>\n",
       "      <th>CHR</th>\n",
       "      <th>START_MB</th>\n",
       "      <th>END_MB</th>\n",
       "      <th>SIZE_MB</th>\n",
       "      <th>BAF (SE)</th>\n",
       "      <th>...</th>\n",
       "      <th>END_MB_RANGE</th>\n",
       "      <th>affects</th>\n",
       "      <th>proportion_of_chrom_or_arm</th>\n",
       "      <th>annotation</th>\n",
       "      <th>bands_involved</th>\n",
       "      <th>genes_involved</th>\n",
       "      <th>number_genes_involved</th>\n",
       "      <th>total_mCAs</th>\n",
       "      <th>persons_total_mCAs</th>\n",
       "      <th>persons_total_known_mCAs</th>\n",
       "    </tr>\n",
       "  </thead>\n",
       "  <tbody>\n",
       "    <tr>\n",
       "      <th>1</th>\n",
       "      <td>1</td>\n",
       "      <td>2</td>\n",
       "      <td>M</td>\n",
       "      <td>55-60</td>\n",
       "      <td>0</td>\n",
       "      <td>1</td>\n",
       "      <td>0.84</td>\n",
       "      <td>249.16</td>\n",
       "      <td>248.32</td>\n",
       "      <td>0.0042 (0.0006)</td>\n",
       "      <td>...</td>\n",
       "      <td>249.1-249.2</td>\n",
       "      <td>whole-chromosome</td>\n",
       "      <td>0.996</td>\n",
       "      <td>1=</td>\n",
       "      <td>['1p36.33', '1p36.32', '1p36.31', '1p36.23', '...</td>\n",
       "      <td>['SGIP1', 'SLC45A1', 'NECAP2', 'CLIC4', 'AZIN2...</td>\n",
       "      <td>2611</td>\n",
       "      <td>1</td>\n",
       "      <td>['1=']</td>\n",
       "      <td>['1=']</td>\n",
       "    </tr>\n",
       "    <tr>\n",
       "      <th>2</th>\n",
       "      <td>2</td>\n",
       "      <td>3</td>\n",
       "      <td>F</td>\n",
       "      <td>45-50</td>\n",
       "      <td>1</td>\n",
       "      <td>1</td>\n",
       "      <td>0.84</td>\n",
       "      <td>249.20</td>\n",
       "      <td>248.36</td>\n",
       "      <td>0.0034 (0.0005)</td>\n",
       "      <td>...</td>\n",
       "      <td>249.2-249.2</td>\n",
       "      <td>whole-chromosome</td>\n",
       "      <td>0.996</td>\n",
       "      <td>1?</td>\n",
       "      <td>['1p36.33', '1p36.32', '1p36.31', '1p36.23', '...</td>\n",
       "      <td>['SGIP1', 'SLC45A1', 'NECAP2', 'CLIC4', 'AZIN2...</td>\n",
       "      <td>2611</td>\n",
       "      <td>1</td>\n",
       "      <td>['1?']</td>\n",
       "      <td>[]</td>\n",
       "    </tr>\n",
       "    <tr>\n",
       "      <th>3</th>\n",
       "      <td>3</td>\n",
       "      <td>4</td>\n",
       "      <td>M</td>\n",
       "      <td>60-65</td>\n",
       "      <td>0</td>\n",
       "      <td>1</td>\n",
       "      <td>0.75</td>\n",
       "      <td>249.22</td>\n",
       "      <td>248.47</td>\n",
       "      <td>0.0041 (0.0006)</td>\n",
       "      <td>...</td>\n",
       "      <td>249.2-249.2</td>\n",
       "      <td>whole-chromosome</td>\n",
       "      <td>0.997</td>\n",
       "      <td>1?</td>\n",
       "      <td>['1p36.33', '1p36.32', '1p36.31', '1p36.23', '...</td>\n",
       "      <td>['SGIP1', 'SLC45A1', 'NECAP2', 'CLIC4', 'AZIN2...</td>\n",
       "      <td>2616</td>\n",
       "      <td>1</td>\n",
       "      <td>['1?']</td>\n",
       "      <td>[]</td>\n",
       "    </tr>\n",
       "    <tr>\n",
       "      <th>5</th>\n",
       "      <td>5</td>\n",
       "      <td>6</td>\n",
       "      <td>F</td>\n",
       "      <td>65-70</td>\n",
       "      <td>0</td>\n",
       "      <td>1</td>\n",
       "      <td>0.75</td>\n",
       "      <td>249.21</td>\n",
       "      <td>248.46</td>\n",
       "      <td>0.0039 (0.0007)</td>\n",
       "      <td>...</td>\n",
       "      <td>249.2-249.2</td>\n",
       "      <td>whole-chromosome</td>\n",
       "      <td>0.997</td>\n",
       "      <td>1?</td>\n",
       "      <td>['1p36.33', '1p36.32', '1p36.31', '1p36.23', '...</td>\n",
       "      <td>['SGIP1', 'SLC45A1', 'NECAP2', 'CLIC4', 'AZIN2...</td>\n",
       "      <td>2616</td>\n",
       "      <td>1</td>\n",
       "      <td>['1?']</td>\n",
       "      <td>[]</td>\n",
       "    </tr>\n",
       "    <tr>\n",
       "      <th>6</th>\n",
       "      <td>6</td>\n",
       "      <td>7</td>\n",
       "      <td>M</td>\n",
       "      <td>65-70</td>\n",
       "      <td>0</td>\n",
       "      <td>1</td>\n",
       "      <td>0.75</td>\n",
       "      <td>249.22</td>\n",
       "      <td>248.47</td>\n",
       "      <td>0.0030 (0.0005)</td>\n",
       "      <td>...</td>\n",
       "      <td>249.2-249.2</td>\n",
       "      <td>whole-chromosome</td>\n",
       "      <td>0.997</td>\n",
       "      <td>1?</td>\n",
       "      <td>['1p36.33', '1p36.32', '1p36.31', '1p36.23', '...</td>\n",
       "      <td>['SGIP1', 'SLC45A1', 'NECAP2', 'CLIC4', 'AZIN2...</td>\n",
       "      <td>2616</td>\n",
       "      <td>1</td>\n",
       "      <td>['1?']</td>\n",
       "      <td>[]</td>\n",
       "    </tr>\n",
       "  </tbody>\n",
       "</table>\n",
       "<p>5 rows × 25 columns</p>\n",
       "</div>"
      ],
      "text/plain": [
       "   Unnamed: 0  ID SEX    AGE  PREV_CANCER  CHR  START_MB  END_MB  SIZE_MB  \\\n",
       "1           1   2   M  55-60            0    1      0.84  249.16   248.32   \n",
       "2           2   3   F  45-50            1    1      0.84  249.20   248.36   \n",
       "3           3   4   M  60-65            0    1      0.75  249.22   248.47   \n",
       "5           5   6   F  65-70            0    1      0.75  249.21   248.46   \n",
       "6           6   7   M  65-70            0    1      0.75  249.22   248.47   \n",
       "\n",
       "          BAF (SE)  ... END_MB_RANGE           affects  \\\n",
       "1  0.0042 (0.0006)  ...  249.1-249.2  whole-chromosome   \n",
       "2  0.0034 (0.0005)  ...  249.2-249.2  whole-chromosome   \n",
       "3  0.0041 (0.0006)  ...  249.2-249.2  whole-chromosome   \n",
       "5  0.0039 (0.0007)  ...  249.2-249.2  whole-chromosome   \n",
       "6  0.0030 (0.0005)  ...  249.2-249.2  whole-chromosome   \n",
       "\n",
       "  proportion_of_chrom_or_arm  annotation  \\\n",
       "1                      0.996          1=   \n",
       "2                      0.996          1?   \n",
       "3                      0.997          1?   \n",
       "5                      0.997          1?   \n",
       "6                      0.997          1?   \n",
       "\n",
       "                                      bands_involved  \\\n",
       "1  ['1p36.33', '1p36.32', '1p36.31', '1p36.23', '...   \n",
       "2  ['1p36.33', '1p36.32', '1p36.31', '1p36.23', '...   \n",
       "3  ['1p36.33', '1p36.32', '1p36.31', '1p36.23', '...   \n",
       "5  ['1p36.33', '1p36.32', '1p36.31', '1p36.23', '...   \n",
       "6  ['1p36.33', '1p36.32', '1p36.31', '1p36.23', '...   \n",
       "\n",
       "                                      genes_involved number_genes_involved  \\\n",
       "1  ['SGIP1', 'SLC45A1', 'NECAP2', 'CLIC4', 'AZIN2...                  2611   \n",
       "2  ['SGIP1', 'SLC45A1', 'NECAP2', 'CLIC4', 'AZIN2...                  2611   \n",
       "3  ['SGIP1', 'SLC45A1', 'NECAP2', 'CLIC4', 'AZIN2...                  2616   \n",
       "5  ['SGIP1', 'SLC45A1', 'NECAP2', 'CLIC4', 'AZIN2...                  2616   \n",
       "6  ['SGIP1', 'SLC45A1', 'NECAP2', 'CLIC4', 'AZIN2...                  2616   \n",
       "\n",
       "   total_mCAs persons_total_mCAs persons_total_known_mCAs  \n",
       "1           1             ['1=']                   ['1=']  \n",
       "2           1             ['1?']                       []  \n",
       "3           1             ['1?']                       []  \n",
       "5           1             ['1?']                       []  \n",
       "6           1             ['1?']                       []  \n",
       "\n",
       "[5 rows x 25 columns]"
      ]
     },
     "execution_count": 9,
     "metadata": {},
     "output_type": "execute_result"
    }
   ],
   "source": [
    "zf = zipfile.ZipFile('Data_files/Supplementary_data_annotated_cw.csv.zip') \n",
    "df_biobank = pd.read_csv(zf.open('Supplementary_data_annotated_cw.csv'))\n",
    "df_biobank_known = df_biobank[df_biobank['CELL_FRAC']!='unknown'] \n",
    "df_single_mCAs = df_biobank[df_biobank['total_mCAs']==1] #create a dataframe that only contains mCAs observed as the only mCA event\n",
    "df_single_mCAs.head()"
   ]
  },
  {
   "cell_type": "markdown",
   "id": "17c962d5",
   "metadata": {},
   "source": [
    "## Inferred s and mu values"
   ]
  },
  {
   "cell_type": "markdown",
   "id": "9c264db5",
   "metadata": {},
   "source": [
    "### Both sexes together"
   ]
  },
  {
   "cell_type": "code",
   "execution_count": 10,
   "id": "2b814a25",
   "metadata": {
    "ExecuteTime": {
     "end_time": "2023-08-14T17:18:19.475329Z",
     "start_time": "2023-08-14T17:18:19.440174Z"
    }
   },
   "outputs": [],
   "source": [
    "#s and mu values inferred from MLE\n",
    "mCA_s_mu = pd.read_csv('Data_files/mCA_s_mu_with_confidence_intervals_individual_mCAs.txt', sep = '\\t')\n",
    "mCA_s_mu = mCA_s_mu.set_index('mCA')\n",
    "mCA_s_mu_dict = pd.DataFrame.to_dict(mCA_s_mu, orient = 'index')"
   ]
  },
  {
   "cell_type": "markdown",
   "id": "601b0b9a",
   "metadata": {},
   "source": [
    "### Sex-specific"
   ]
  },
  {
   "cell_type": "code",
   "execution_count": 11,
   "id": "a161f4f4",
   "metadata": {
    "ExecuteTime": {
     "end_time": "2023-08-14T17:18:20.819245Z",
     "start_time": "2023-08-14T17:18:20.778039Z"
    },
    "code_folding": []
   },
   "outputs": [],
   "source": [
    "#sex-specific s and mu values inferred from MLE\n",
    "sex_specific_s_mu = pd.read_csv('Data_files/mCA_s_mu_with_confidence_intervals_sex_differences.txt', sep = '\\t')\n",
    "sex_specific_s_mu = sex_specific_s_mu.set_index('mCA')\n",
    "sex_specific_s_mu_dict = pd.DataFrame.to_dict(sex_specific_s_mu, orient = 'index')"
   ]
  },
  {
   "cell_type": "code",
   "execution_count": 12,
   "id": "3b92815d",
   "metadata": {
    "ExecuteTime": {
     "end_time": "2023-08-14T17:18:21.468981Z",
     "start_time": "2023-08-14T17:18:21.455068Z"
    },
    "code_folding": [
     0
    ]
   },
   "outputs": [],
   "source": [
    "#create a list for each mCA class of each of the mCAs that had enough data (>=10) to infer a sex-specific mCA fitness and mutation rate\n",
    "gains_list_male = []\n",
    "losses_list_male = []\n",
    "CNLOH_list_male = []\n",
    "\n",
    "gains_list_female = []\n",
    "losses_list_female = []\n",
    "CNLOH_list_female = []\n",
    "\n",
    "for k, v in sex_specific_s_mu_dict.items():\n",
    "    if v['N_women']>=10:\n",
    "        if k[-1]=='+':\n",
    "            gains_list_female.append(k)\n",
    "        if k[-1]=='-':\n",
    "            losses_list_female.append(k)\n",
    "        if k[-1]=='=':\n",
    "            CNLOH_list_female.append(k)\n",
    "    if v['N_men']>=10:\n",
    "        if k[-1]=='+':\n",
    "            gains_list_male.append(k)\n",
    "        if k[-1]=='-':\n",
    "            losses_list_male.append(k)\n",
    "        if k[-1]=='=':\n",
    "            CNLOH_list_male.append(k)"
   ]
  },
  {
   "cell_type": "code",
   "execution_count": 13,
   "id": "bf27661e",
   "metadata": {
    "ExecuteTime": {
     "end_time": "2023-08-14T17:18:22.269424Z",
     "start_time": "2023-08-14T17:18:22.255442Z"
    },
    "code_folding": [
     0
    ]
   },
   "outputs": [
    {
     "name": "stdout",
     "output_type": "stream",
     "text": [
      "gains seen in 30 or more men and 30 or more women =  ['12+', '14q+', '15q+', '21q+', '22q+', '8+']\n",
      "losses seen in 30 or more men and 30 or more women =  ['10q-', '11q-', '13q-', '14q-', '20q-', '2p-', '4q-', '5q-', '7q-']\n",
      "CNLOH seen in 30 or more men and 30 or more women =  ['11p=', '11q=', '12q=', '13q=', '14q=', '15q=', '16p=', '16q=', '17p=', '17q=', '19p=', '19q=', '1p=', '1q=', '20q=', '21q=', '22q=', '2p=', '2q=', '3p=', '3q=', '4q=', '5q=', '6p=', '7q=', '8q=', '9p=', '9q=']\n"
     ]
    }
   ],
   "source": [
    "#create a list for each mCA class of the mCAs that were observed 30 or more times in men and 30 or more times in women\n",
    "gains_30_or_more = []\n",
    "losses_30_or_more = []\n",
    "CNLOH_30_or_more = []\n",
    "for k, v in sex_specific_s_mu_dict.items():\n",
    "    female_n = v['N_women']\n",
    "    male_n = v['N_men']\n",
    "    if (female_n >= 30) and (male_n >=30):\n",
    "        if k[-1]=='+':\n",
    "            gains_30_or_more.append(k)\n",
    "        if k[-1]=='-':\n",
    "            losses_30_or_more.append(k)\n",
    "        if k[-1]=='=':\n",
    "            CNLOH_30_or_more.append(k)\n",
    "            \n",
    "print('gains seen in 30 or more men and 30 or more women = ', gains_30_or_more)\n",
    "print('losses seen in 30 or more men and 30 or more women = ', losses_30_or_more)\n",
    "print('CNLOH seen in 30 or more men and 30 or more women = ', CNLOH_30_or_more)"
   ]
  },
  {
   "cell_type": "code",
   "execution_count": 14,
   "id": "5d3928f0",
   "metadata": {
    "ExecuteTime": {
     "end_time": "2023-08-14T17:18:24.817379Z",
     "start_time": "2023-08-14T17:18:24.812312Z"
    }
   },
   "outputs": [],
   "source": [
    "men_ratio = 229122/(229122+273383)\n",
    "women_ratio = 273383/(229122+273383)"
   ]
  },
  {
   "cell_type": "code",
   "execution_count": 15,
   "id": "28170dd9",
   "metadata": {
    "ExecuteTime": {
     "end_time": "2023-08-14T17:18:25.338613Z",
     "start_time": "2023-08-14T17:18:25.333299Z"
    }
   },
   "outputs": [],
   "source": [
    "total_age_40_49 = 119000\n",
    "total_age_50_59 = 168000\n",
    "total_age_60_69 = 213000"
   ]
  },
  {
   "cell_type": "markdown",
   "id": "b116f2f2",
   "metadata": {},
   "source": [
    "# Functions"
   ]
  },
  {
   "cell_type": "code",
   "execution_count": 55,
   "id": "dd469c45",
   "metadata": {
    "ExecuteTime": {
     "end_time": "2023-08-14T17:33:36.335163Z",
     "start_time": "2023-08-14T17:33:36.327395Z"
    },
    "code_folding": [
     0
    ]
   },
   "outputs": [],
   "source": [
    "def filter_by_number_mCAs(number_mCAs, dataframe): #e.g. filter by those that only have 1 total mCA\n",
    "    mask = dataframe['total_mCAs']==number_mCAs\n",
    "    return dataframe[mask].copy()"
   ]
  },
  {
   "cell_type": "code",
   "execution_count": 56,
   "id": "8015f2d0",
   "metadata": {
    "ExecuteTime": {
     "end_time": "2023-08-14T17:33:37.002503Z",
     "start_time": "2023-08-14T17:33:36.981250Z"
    },
    "code_folding": [
     0
    ]
   },
   "outputs": [],
   "source": [
    "def observed_numbers_by_age_sex(mCA, df, fmin, sex): #if only want single mCAs, need to filter the dataframe first\n",
    "    \n",
    "    df_mCA = df[df['annotation']==mCA].copy(deep = True) #filter the dataframe to only include the mCAs of interest\n",
    "    df_mCA_sex = df_mCA[df_mCA['SEX']==sex].copy(deep = True) #filter the dataframe to only include the mCAs of interest\n",
    "    df_mCA_sex['CELL_FRAC'] = df_mCA_sex['CELL_FRAC'].astype(float) #convert the cell fractions to floats\n",
    "    min_cell_fraction = float(df_mCA_sex.min()['CELL_FRAC']) #the minimum cell fraction seen for that mCA\n",
    "\n",
    "    df_mCA_fmin = df_mCA_sex[df_mCA_sex['CELL_FRAC']>=fmin] #filter the dataframe to only include those mCAs that are bigger than the minimum chosen cell fraction\n",
    "\n",
    "    df_ages = {'40-45': 0, '45-50': 0, '50-55': 0, '55-60': 0, '60-65': 0, '65-70': 0} #create all the age groups (which will then get updated with the actual values if there are people in that age group)\n",
    "    df_ages_mCA = df_mCA_fmin.groupby(by = ['AGE']).count()['total_mCAs'].to_dict()\n",
    "\n",
    "    for k, v in df_ages_mCA.items():\n",
    "        df_ages[k]=v #update the df_ages dictionary with the number in each age group if there is anyone in that age grou\n",
    "\n",
    "    number_mCA_40_49 = (df_ages['40-45']+df_ages['45-50'])\n",
    "    number_mCA_50_59 = (df_ages['50-55']+df_ages['55-60'])\n",
    "    number_mCA_60_69 = (df_ages['60-65']+df_ages['65-70'])\n",
    "\n",
    "    freq40_49 = number_mCA_40_49/total_age_40_49\n",
    "    freq50_59 = number_mCA_50_59/total_age_50_59\n",
    "    freq60_69 = number_mCA_60_69/total_age_60_69\n",
    "    \n",
    "    return (number_mCA_40_49, number_mCA_50_59, number_mCA_60_69), (freq40_49, freq50_59, freq60_69)"
   ]
  },
  {
   "cell_type": "code",
   "execution_count": 57,
   "id": "4c27cd20",
   "metadata": {
    "ExecuteTime": {
     "end_time": "2023-08-14T17:33:37.615151Z",
     "start_time": "2023-08-14T17:33:37.602206Z"
    },
    "code_folding": [
     0
    ]
   },
   "outputs": [],
   "source": [
    "def expected_number_by_age_sex(mCA, fmin, sex_specific_s_mu_dict, gender):\n",
    "    \n",
    "    if gender == 'M':\n",
    "        sex = 'male'\n",
    "    if gender == 'F':\n",
    "        sex = 'female'\n",
    "\n",
    "    s = sex_specific_s_mu_dict[mCA][sex+'_s']\n",
    "    u = sex_specific_s_mu_dict[mCA][sex+'_mu']\n",
    "\n",
    "    xx=np.array([t for t in range(0,80)])\n",
    "    yy=[expected_prevalence_diploid(t, u, s, fmin, mCA) for t in xx]\n",
    "\n",
    "    age_expected = {}\n",
    "    for age, expected in zip(xx, yy):\n",
    "        age_expected[age]=expected\n",
    "\n",
    "    return age_expected"
   ]
  },
  {
   "cell_type": "code",
   "execution_count": 58,
   "id": "9bf94da3",
   "metadata": {
    "ExecuteTime": {
     "end_time": "2023-08-14T17:33:38.256773Z",
     "start_time": "2023-08-14T17:33:38.246101Z"
    },
    "code_folding": [
     0
    ]
   },
   "outputs": [],
   "source": [
    "def mCA_specfic_fmin(mCA, df): #not gender specific\n",
    "    \n",
    "    df_single_mCA = filter_by_number_mCAs(1, df)\n",
    "    df_mCA = df_single_mCA[df_single_mCA['annotation']==mCA]\n",
    "    df_mCA['CELL_FRAC'] = df_mCA['CELL_FRAC'].astype(float)\n",
    "    cell_fractions = df_mCA['CELL_FRAC'].tolist()\n",
    "    min_cell_frac = min(cell_fractions)\n",
    "    fmin = min_cell_frac*1.5\n",
    "    \n",
    "    return fmin"
   ]
  },
  {
   "cell_type": "code",
   "execution_count": 59,
   "id": "58defad9",
   "metadata": {
    "ExecuteTime": {
     "end_time": "2023-08-14T17:33:38.867844Z",
     "start_time": "2023-08-14T17:33:38.856320Z"
    },
    "code_folding": [
     0
    ]
   },
   "outputs": [],
   "source": [
    "def density_of_clones_diploid(f, u, s, t):\n",
    "    N = 9.40166610e+04\n",
    "    s = float(s)\n",
    "    u = float(u)\n",
    "    return ((N*u)/(f*(1-f)))*np.exp(-f/((1-f)*((np.exp(s*t)-1)/(N*s))))"
   ]
  },
  {
   "cell_type": "code",
   "execution_count": 60,
   "id": "851cecfc",
   "metadata": {
    "ExecuteTime": {
     "end_time": "2023-08-14T17:33:39.491107Z",
     "start_time": "2023-08-14T17:33:39.479681Z"
    },
    "code_folding": [
     0
    ]
   },
   "outputs": [],
   "source": [
    "def expected_prevalence_diploid(t, u, s, fmin, mCA): \n",
    "    N = 9.40166610e+04\n",
    "    \n",
    "    mCA_type = mCA[-1]\n",
    "    if mCA_type == '+':\n",
    "        integral_limit = 0.99999\n",
    "    if mCA_type == '-':\n",
    "        integral_limit = 0.67\n",
    "    if mCA_type == '=':\n",
    "        integral_limit = 0.54\n",
    "    \n",
    "    return integrate.quad(lambda f: density_of_clones_diploid(f, u, s, t), fmin, integral_limit)[0]"
   ]
  },
  {
   "cell_type": "markdown",
   "id": "0e27187e",
   "metadata": {},
   "source": [
    "## Functions for calculating degree of deviation in age dependence"
   ]
  },
  {
   "cell_type": "code",
   "execution_count": 61,
   "id": "2f7a79e2",
   "metadata": {
    "ExecuteTime": {
     "end_time": "2023-08-14T17:33:40.279257Z",
     "start_time": "2023-08-14T17:33:40.243792Z"
    },
    "code_folding": [
     0
    ]
   },
   "outputs": [],
   "source": [
    "def observed_and_expected_frequencies_by_age_sex(mCA, df_single, sex_specific_s_mu_dict, fmin, sex):\n",
    "    \n",
    "    #OBSERVED VS EXPECTED NUMBERS\n",
    "    #actual frequencies\n",
    "    if sex == 'M':\n",
    "        ratio = men_ratio\n",
    "    if sex == 'F':\n",
    "        ratio = women_ratio\n",
    "        \n",
    "    expected_dict = expected_number_by_age_sex(mCA, fmin, sex_specific_s_mu_dict, sex)\n",
    "        \n",
    "    numbers_dict = {'40-50': 0, '50-60': 0, '60-70': 0}\n",
    "    numbers, freqs = observed_numbers_by_age_sex(mCA, df_single, fmin, sex)\n",
    "    numbers_dict['40-50']+=numbers[0]\n",
    "    numbers_dict['50-60']+=numbers[1]\n",
    "    numbers_dict['60-70']+=numbers[2]\n",
    "    \n",
    "    expected_frequencies = {}\n",
    "    observed_numbers = {}\n",
    "    for k, v in numbers_dict.items():\n",
    "        expected_total_for_age_range = 0\n",
    "        lower_age = k.split('-')[0] #e.g. 40\n",
    "        upper_age = k.split('-')[1] #e.g. 50\n",
    "        mid_point = np.mean([int(lower_age), int(upper_age)])\n",
    "        for age in range(int(lower_age), int(upper_age)): #will get all from 40, 41, 42, 43, 44, 45, 46, 47, 48, 49\n",
    "            expected = expected_dict[age]\n",
    "            expected_total_for_age_range+=expected\n",
    "        expected_frequencies[mid_point]=expected_total_for_age_range/10 #is this correct to divide by 10?!\n",
    "        observed_numbers[mid_point]=v\n",
    "\n",
    "    #convert expected numbers to frequencies\n",
    "    expected_numbers = {}\n",
    "    expected_numbers[45.0]=expected_frequencies[45.0]*(total_age_40_49*ratio)\n",
    "    expected_numbers[55.0]=expected_frequencies[55.0]*(total_age_50_59*ratio)\n",
    "    expected_numbers[65.0]=expected_frequencies[65.0]*(total_age_60_69*ratio)\n",
    "\n",
    "    print('observed_numbers = ', observed_numbers)\n",
    "    print('expected_numbers = ', expected_numbers)\n",
    "\n",
    "    \n",
    "    #OBSERVED VS EXPECTED FREQUENCIES\n",
    "    freq_dict = {}\n",
    "    freq_dict['40-50']=numbers_dict['40-50']/(total_age_40_49*ratio)\n",
    "    freq_dict['50-60']=numbers_dict['50-60']/(total_age_50_59*ratio)\n",
    "    freq_dict['60-70']=numbers_dict['60-70']/(total_age_60_69*ratio)\n",
    "\n",
    "    observed_frequencies = {}\n",
    "    for k, v in freq_dict.items():\n",
    "        expected_total_for_age_range = 0\n",
    "        lower_age = k.split('-')[0] #e.g. 40\n",
    "        upper_age = k.split('-')[1] #e.g. 50\n",
    "        mid_point = np.mean([int(lower_age), int(upper_age)])\n",
    "        observed_frequencies[mid_point]=v\n",
    "\n",
    "    print('observed_frequencies = ', observed_frequencies)\n",
    "    print('expected_frequencies = ', expected_frequencies)\n",
    "    print()\n",
    "    \n",
    "    return observed_frequencies, expected_frequencies"
   ]
  },
  {
   "cell_type": "code",
   "execution_count": 62,
   "id": "4b4edf88",
   "metadata": {
    "ExecuteTime": {
     "end_time": "2023-08-14T17:33:40.791545Z",
     "start_time": "2023-08-14T17:33:40.783966Z"
    },
    "code_folding": [
     0
    ]
   },
   "outputs": [],
   "source": [
    "def age_group_to_exclude(observed): #exclude an age group (from observed and expected) if the observed frequency is 0\n",
    "    ages_to_exclude = []\n",
    "    for k, v in observed.items():\n",
    "        if v == 0:\n",
    "            ages_to_exclude.append(k)\n",
    "    \n",
    "    return ages_to_exclude"
   ]
  },
  {
   "cell_type": "code",
   "execution_count": 63,
   "id": "1ad3e88b",
   "metadata": {
    "ExecuteTime": {
     "end_time": "2023-08-14T17:33:41.336162Z",
     "start_time": "2023-08-14T17:33:41.325799Z"
    },
    "code_folding": [
     0
    ]
   },
   "outputs": [],
   "source": [
    "def grid_limits(mCA, gender):\n",
    "    \n",
    "    grid_limits_df = pd.read_csv('Data_files/Heatmap_grid_ranges_age_dependence_deviation.txt', sep = '\\t')\n",
    "    \n",
    "    df_mCA = grid_limits_df[grid_limits_df['mCA']==mCA]\n",
    "    df_mCA_gender = df_mCA[df_mCA['gender']==gender]\n",
    "    df_mCA_gender = df_mCA_gender.set_index(['mCA'])\n",
    "    limits_dict = pd.DataFrame.to_dict(df_mCA_gender, orient = 'index')\n",
    "    return limits_dict"
   ]
  },
  {
   "cell_type": "code",
   "execution_count": 64,
   "id": "5ae87794",
   "metadata": {
    "ExecuteTime": {
     "end_time": "2023-08-14T17:33:42.022461Z",
     "start_time": "2023-08-14T17:33:42.007102Z"
    },
    "code_folding": [
     0
    ]
   },
   "outputs": [],
   "source": [
    "def best_fit_line_accounting_for_error(params, age_y_list, gender, ages_to_exclude_list):\n",
    "    m = params[0]\n",
    "    c = params[1]\n",
    "    \n",
    "    if gender == 'M':\n",
    "        ratio = men_ratio\n",
    "    if gender == 'F':\n",
    "        ratio = women_ratio\n",
    "    \n",
    "    total_ages = {45.0: total_age_40_49*ratio, 55.0: total_age_50_59*ratio, 65.0: total_age_60_69*ratio}\n",
    "    \n",
    "    sum_scaled_square_difference = 0\n",
    "    \n",
    "    for x, y in age_y_list.items(): #x = age, y = freq\n",
    "        if x not in ages_to_exclude_list:\n",
    "            total_age = total_ages[x] #total number of people in that age group\n",
    "            y_fit = (m*x)+c \n",
    "            y_diff = y_fit-y #difference between frequency inferred by fitted straight line and actual frequency\n",
    "            square_difference = (y_diff)**2\n",
    "            scaled_square_difference = (square_difference*total_age)/(2*y) #taking in to account the error on the frequency\n",
    "            sum_scaled_square_difference+=scaled_square_difference\n",
    "\n",
    "    return sum_scaled_square_difference"
   ]
  },
  {
   "cell_type": "code",
   "execution_count": 65,
   "id": "75dd3cf9",
   "metadata": {
    "ExecuteTime": {
     "end_time": "2023-08-14T17:33:42.574806Z",
     "start_time": "2023-08-14T17:33:42.547625Z"
    },
    "code_folding": [
     0
    ]
   },
   "outputs": [],
   "source": [
    "def heatmap_line_best_fit_custom_range(age_y_list, observed_or_expected, sex, mCA, ages_to_exclude_list, m_range, c_range):\n",
    "    \n",
    "    labelname = mCA+' '+sex+' '+observed_or_expected\n",
    "    \n",
    "    #Step 1: create a new list without the excluded ages\n",
    "    age_list_without_excluded = []\n",
    "    y_list_without_excluded = []\n",
    "    for x, y in age_y_list.items(): #x = age, y = freq\n",
    "        if x not in ages_to_exclude_list:\n",
    "            age_list_without_excluded.append(x)\n",
    "            y_list_without_excluded.append(y)\n",
    "\n",
    "    #Step 2: first do the best fit line, without accounting for error, to get close to the values of m and c\n",
    "    best_fit_poly1d = np.polyfit(age_list_without_excluded, y_list_without_excluded, 1)\n",
    "    m_initial = best_fit_poly1d[0]\n",
    "    c_initial = best_fit_poly1d[1]\n",
    "    \n",
    "    print('initial m = ', m_initial)\n",
    "    print('initial c = ', c_initial)\n",
    "    \n",
    "    #Step 3: now use these m and c to help guide the grid for the heatmap, but now take in to account error on the measurement\n",
    "    print('m range =', m_range)\n",
    "    print('c range = ', c_range)\n",
    "    \n",
    "    grid_size = 500\n",
    "\n",
    "    m_list = np.linspace(m_range[0], m_range[1], grid_size) #list of possible values for m\n",
    "    c_list = np.linspace(c_range[0], c_range[1], grid_size) #list of possible values for c\n",
    "\n",
    "    #MLE\n",
    "    Probs = np.array([[best_fit_line_accounting_for_error([m, c], age_y_list, sex, ages_to_exclude_list) for m in m_list] for c in c_list])\n",
    "\n",
    "    # Plot the density map using nearest-neighbor interpolation\n",
    "    x1 = m_list\n",
    "    y1 = c_list\n",
    "    x1, y1 = np.meshgrid(x1, y1)\n",
    "    Probs_m = (-Probs)\n",
    "    max_x, max_y = np.unravel_index(np.argmax(Probs_m), Probs_m.shape)\n",
    "    z_max = Probs_m[max_x, max_y]\n",
    "    z1 = np.exp(Probs_m)\n",
    "\n",
    "    # calculate best values for s and mu (max points in 3D space (x,y,z))\n",
    "    xmax, ymax = np.unravel_index(np.argmax(z1), z1.shape)\n",
    "    c_max = y1[xmax, ymax]\n",
    "    m_max = x1[xmax, ymax]\n",
    "    z_max = z1[xmax, ymax]\n",
    "\n",
    "    return [x1, y1, z1], m_max, c_max, m_initial, c_initial"
   ]
  },
  {
   "cell_type": "code",
   "execution_count": 66,
   "id": "fdaeeea1",
   "metadata": {
    "ExecuteTime": {
     "end_time": "2023-08-14T17:33:43.129204Z",
     "start_time": "2023-08-14T17:33:43.096851Z"
    },
    "code_folding": [
     0
    ]
   },
   "outputs": [],
   "source": [
    "def plot_heatmaps(observed_xyz, expected_xyz, observed_m, observed_c, expected_m, expected_c, mCA, gender):\n",
    "    # Plotting the maximum likelihood estimates on a colormesh plot\n",
    "    f, (ax1, ax2) = plt.subplots(1, 2, sharey=True, sharex = True, figsize=(12, 5))\n",
    "    gs = matplotlib.gridspec.GridSpec(1, 2, width_ratios=[1, 1], height_ratios=[1])\n",
    "    ax1 = plt.subplot(gs[0])\n",
    "    ax2 = plt.subplot(gs[1])\n",
    "    gs.update(wspace=0.4)\n",
    "    \n",
    "    axisfont=15\n",
    "    titlefont=18\n",
    "    axislabelfont=18\n",
    "    m_size=8\n",
    "    scale = 1\n",
    "    \n",
    "    cmap = plt.cm.coolwarm #define colors\n",
    "\n",
    "    #Observed heatmap\n",
    "    ax1.pcolormesh(observed_xyz[0], observed_xyz[1], observed_xyz[2], cmap = cmap)\n",
    "    ax1.scatter(observed_m, observed_c, marker = '+', s = 500, color = grey1, lw = 5)\n",
    "    \n",
    "    #Expected heatmap\n",
    "    ax2.pcolormesh(expected_xyz[0], expected_xyz[1], expected_xyz[2], cmap = cmap)\n",
    "    ax2.scatter(expected_m, expected_c, marker = '+', s = 500, color = grey1, lw = 5)\n",
    "\n",
    "    #set labels\n",
    "    for ax in [ax1, ax2]:\n",
    "        ax.set_xlabel('gradient (m)')\n",
    "        ax.set_ylabel('intercept (c)')\n",
    "        ax.xaxis.set_tick_params(width=2, color = grey3, length = 6, labelsize = 16)\n",
    "        ax.yaxis.set_tick_params(width=scale, color = grey3, length = 6, labelsize = 16)\n",
    "        ax.ticklabel_format(axis=\"x\", style=\"sci\", scilimits=(0,0))\n",
    "\n",
    "    ax1.set_title(mCA+' '+gender+': observed')\n",
    "    ax2.set_title(mCA+' '+gender+': expected')\n",
    "\n",
    "    if mCA[-1]=='+':\n",
    "        mCA_type = 'gain'\n",
    "    if mCA[-1]=='-':\n",
    "        mCA_type = 'loss'\n",
    "    if mCA[-1]=='=':\n",
    "        mCA_type = 'CNLOH'\n",
    "\n",
    "    plt.tight_layout()\n",
    "    plt.savefig('Figures/MLE_heatmaps_age_dependence_gradients/'+mCA_type+'_'+mCA+'_age_dependence_observed_expected_gradient_heatmaps.pdf')\n",
    "\n",
    "    return plt.show()"
   ]
  },
  {
   "cell_type": "code",
   "execution_count": 67,
   "id": "7294a32d",
   "metadata": {
    "ExecuteTime": {
     "end_time": "2023-08-14T17:33:43.729913Z",
     "start_time": "2023-08-14T17:33:43.690558Z"
    },
    "code_folding": [
     0
    ]
   },
   "outputs": [],
   "source": [
    "def plot_lines_best_fit(observed, expected, observed_m, observed_c, expected_m, expected_c, obs_m_initial, obs_c_initial, exp_m_initial, exp_c_initial, mCA, sex):\n",
    "    f, (ax1, ax2) = plt.subplots(1, 2, sharey=True, sharex = True, figsize=(12, 4))\n",
    "    gs = matplotlib.gridspec.GridSpec(1, 2, width_ratios=[1, 1], height_ratios=[1])\n",
    "    ax1 = plt.subplot(gs[0])\n",
    "    ax2 = plt.subplot(gs[1])\n",
    "    gs.update(wspace=0.4)\n",
    "    \n",
    "    #Observed\n",
    "    mCA_color = sex_colors_dict[sex][mCA[-1]]['observed']\n",
    "        \n",
    "    x = []\n",
    "    y_actual_o = []\n",
    "    y_fit = []\n",
    "    y_fit_without_error = []\n",
    "    \n",
    "    for k, v in observed.items(): #dictionary of age: frequency\n",
    "        x.append(k)\n",
    "        y_actual_o.append(v)\n",
    "        y_fit.append((observed_m*k)+observed_c)\n",
    "        y_fit_without_error.append((obs_m_initial*k)+obs_c_initial)\n",
    "\n",
    "    ax1.scatter(x, y_actual_o, color = mCA_color, s = 50)\n",
    "    ax1.plot(x, y_fit, color = mCA_color, zorder =10)\n",
    "    ax1.plot(x, y_fit_without_error, color = grey2, linestyle = ':')\n",
    "    \n",
    "    #Expected\n",
    "    mCA_color = sex_colors_dict[sex][mCA[-1]]['expected']\n",
    "        \n",
    "    x = []\n",
    "    y_actual_e = []\n",
    "    y_fit = []\n",
    "    y_fit_without_error = []\n",
    "    \n",
    "    for k, v in expected.items(): #dictionary of age: frequency\n",
    "        x.append(k)\n",
    "        y_actual_e.append(v)\n",
    "        y_fit.append((expected_m*k)+expected_c)\n",
    "        y_fit_without_error.append((exp_m_initial*k)+exp_c_initial)\n",
    "        \n",
    "    ax2.scatter(x, y_actual_e, color = mCA_color, s = 50)\n",
    "    ax2.plot(x, y_fit, color = mCA_color, zorder =10)\n",
    "    ax2.plot(x, y_fit_without_error, color = grey2, linestyle = ':')\n",
    "    \n",
    "    for ax in [ax1, ax2]:\n",
    "        ax.set_xlabel('age')\n",
    "        ax.set_ylabel('frequency')\n",
    "        ax.set_xlim(0, 80)\n",
    "        ax.set_ylim(0, max([max(y_actual_o), max(y_actual_e)])*1.5)\n",
    "        \n",
    "    ax1.set_title(mCA+' '+sex+': observed')\n",
    "    ax2.set_title(mCA+' '+sex+': expected')\n",
    "    \n",
    "    if mCA[-1]=='+':\n",
    "        mCA_type = 'gain'\n",
    "    if mCA[-1]=='-':\n",
    "        mCA_type = 'loss'\n",
    "    if mCA[-1]=='=':\n",
    "        mCA_type = 'CNLOH'\n",
    "    \n",
    "    plt.tight_layout()\n",
    "    plt.savefig('Figures/Age_depdendence_observed_expected_gradient_lines_best_fit/'+mCA_type+'_'+mCA+'_age_dependence_observed_expected_gradient_lines_best_fit.pdf')\n",
    "    \n",
    "    return plt.show()"
   ]
  },
  {
   "cell_type": "code",
   "execution_count": 68,
   "id": "f9e33fbe",
   "metadata": {
    "ExecuteTime": {
     "end_time": "2023-08-14T17:33:44.358084Z",
     "start_time": "2023-08-14T17:33:44.319481Z"
    },
    "code_folding": [
     0
    ]
   },
   "outputs": [],
   "source": [
    "def confidence_interval_95_m(x1, y1, z1, mCA, ax, observed_or_expected, sex): #95% confidence interval for s\n",
    "    axisfont=17\n",
    "    titlefont=20\n",
    "    axislabelfont=21\n",
    "    m_size=8\n",
    "    scale = 1\n",
    "\n",
    "    x1y1z1 = zip(x1, y1, z1)\n",
    "    mCA_color = sex_colors_dict[sex][mCA[-1]][observed_or_expected]\n",
    "    \n",
    "    xyz_list=[]\n",
    "    for a, b, c in x1y1z1:\n",
    "        xyz_list.append([a, b, c])\n",
    "\n",
    "    total_prob_array=np.array([0.0 for i in range(len(xyz_list[0][0]))])\n",
    "    for entry in xyz_list:\n",
    "        m_array=entry[0] #i.e. x1\n",
    "        prob_array=entry[2] #i.e.z1\n",
    "        total_prob_array=total_prob_array+prob_array\n",
    "\n",
    "    total_prob=sum(total_prob_array)\n",
    "    normalized_prob_array=total_prob_array/total_prob\n",
    "\n",
    "    cumulative_prob=0.0\n",
    "\n",
    "    m_list = []\n",
    "    probs_list = []\n",
    "    m_95_range=[]\n",
    "    m_range_probs = []\n",
    "    m_95CI_range=[]\n",
    "    m_cumulative_prob_95_range=[]\n",
    "    for m, p in zip(m_array, normalized_prob_array):\n",
    "        m_list.append(m)\n",
    "        probs_list.append(p)\n",
    "        m_range_probs.append((m,p))\n",
    "        cumulative_prob=cumulative_prob+p\n",
    "        if 0.025<cumulative_prob<0.975:\n",
    "            m_95_range.append(m)\n",
    "            m_95CI_range.append((m, p))\n",
    "            m_cumulative_prob_95_range.append((m, p, cumulative_prob))\n",
    "\n",
    "    min_m=min(m_95_range)\n",
    "    max_m=max(m_95_range)\n",
    "\n",
    "    print('95% confidence interval for m ('+observed_or_expected+': lower m =', min_m)\n",
    "    print('95% confidence interval for m: upper m =', max_m)\n",
    "\n",
    "    #plotting the most likely s\n",
    "    xmax, ymax = np.unravel_index(np.argmax(z1), z1.shape)\n",
    "    m_mle = x1[xmax, ymax]\n",
    "\n",
    "    #plot distribution\n",
    "    ax.plot(m_list, probs_list, color = mCA_color, lw = 2, label = observed_or_expected)\n",
    "    \n",
    "    m_listCI = []\n",
    "    probs_listCI = []\n",
    "    probs_95_list = []\n",
    "    for (m, probs) in m_95CI_range:\n",
    "        m_listCI.append(m)\n",
    "        probs_listCI.append(probs)\n",
    "\n",
    "    ax.fill_between(m_listCI, probs_listCI, color = mCA_color, alpha = 0.2)\n",
    "\n",
    "    #plot confidence interval\n",
    "    ax.plot([min_m, min_m], [0, 1], linestyle = ':', color = grey4, lw = 2)\n",
    "    ax.plot([max_m, max_m], [0, 1], linestyle = ':', color = grey4, lw = 2)\n",
    "    ax.plot([m_mle, m_mle], [0, 1], linestyle = ':', color = mCA_color, lw = 2)\n",
    "\n",
    "    return min_m, max_m, m_list, probs_list, max(probs_list)"
   ]
  },
  {
   "cell_type": "code",
   "execution_count": 69,
   "id": "ef8a6c45",
   "metadata": {
    "ExecuteTime": {
     "end_time": "2023-08-14T17:33:44.985417Z",
     "start_time": "2023-08-14T17:33:44.946190Z"
    },
    "code_folding": [
     0
    ]
   },
   "outputs": [],
   "source": [
    "def confidence_intervals_plots(observed_m_xyz, expected_m_xyz, mCA, labelname, gender):\n",
    "    f, ax1 = plt.subplots(1, 1, sharey=True, sharex = True, figsize=(8, 6))\n",
    "\n",
    "    axisfont=17\n",
    "    titlefont=20\n",
    "    axislabelfont=21\n",
    "    m_size=8\n",
    "    scale = 1\n",
    "\n",
    "    ox1m = observed_m_xyz[0]\n",
    "    oy1m = observed_m_xyz[1]\n",
    "    oz1m = observed_m_xyz[2]\n",
    "\n",
    "    ex1m = expected_m_xyz[0]\n",
    "    ey1m = expected_m_xyz[1]\n",
    "    ez1m = expected_m_xyz[2]\n",
    "\n",
    "    observed_min_m, observed_max_m, observed_m_list, observed_probs_list, observed_m_ymax = confidence_interval_95_m(ox1m, oy1m, oz1m, mCA, ax1, 'observed', gender)\n",
    "    expected_min_m, expected_max_m, expected_m_list, expected_probs_list, expected_m_ymax = confidence_interval_95_m(ex1m, ey1m, ez1m, mCA, ax1, 'expected', gender)\n",
    "\n",
    "    ax1.set_ylim(0, max([observed_m_ymax,expected_m_ymax])*1.1)\n",
    "    \n",
    "    ax1.set_title('95% confidence intervals for gradients')\n",
    "    ax1.legend(frameon=False, fontsize = 14)\n",
    "    ax1.ticklabel_format(axis=\"x\", style=\"sci\", scilimits=(0,0))\n",
    "    \n",
    "    # Axis labels\n",
    "    ax1.set_xlabel('gradient', fontsize = axislabelfont, labelpad = 10, fontweight = 'medium')\n",
    "    ax1.set_ylabel('probability', fontsize = axislabelfont, labelpad = 10, fontweight = 'medium')\n",
    "\n",
    "    ax1.xaxis.set_tick_params(width=scale, color = grey3, length = 6, labelsize = 16, top = False, labeltop = False)\n",
    "    ax1.yaxis.set_tick_params(width=scale, color = grey3, length = 6, labelsize = 16)\n",
    "\n",
    "    #Only show the required axis lines\n",
    "    ax1.spines['top'].set_visible(False)\n",
    "    ax1.spines['right'].set_visible(False)\n",
    "\n",
    "    for axis in ['bottom','left']:\n",
    "        ax1.spines[axis].set_linewidth(1.5)\n",
    "\n",
    "    for axis in ['bottom','left']:\n",
    "        ax1.spines[axis].set_color(grey3)\n",
    "    \n",
    "    if mCA[-1]=='+':\n",
    "        mCA_type = 'gain'\n",
    "    if mCA[-1]=='-':\n",
    "        mCA_type = 'loss'\n",
    "    if mCA[-1]=='=':\n",
    "        mCA_type = 'CNLOH'\n",
    "\n",
    "    plt.tight_layout()\n",
    "    plt.savefig('Figures/Confidence_intervals_age_dependence_deviation/'+mCA_type+'_'+mCA+'_age_dependence_observed_expected_95_gradient_confidence_intervals.pdf')\n",
    "    plt.show()\n",
    "\n",
    "    return observed_min_m, observed_max_m, expected_min_m, expected_max_m, observed_m_list, observed_probs_list, expected_m_list, expected_probs_list "
   ]
  },
  {
   "cell_type": "code",
   "execution_count": 70,
   "id": "bf9172fa",
   "metadata": {
    "ExecuteTime": {
     "end_time": "2023-08-14T17:33:45.635127Z",
     "start_time": "2023-08-14T17:33:45.628105Z"
    },
    "code_folding": [
     0
    ]
   },
   "outputs": [],
   "source": [
    "def g(higher_interpolated_distribution, x):\n",
    "    return higher_interpolated_distribution(x) #expected interpolated function"
   ]
  },
  {
   "cell_type": "code",
   "execution_count": 71,
   "id": "cba6a9cd",
   "metadata": {
    "ExecuteTime": {
     "end_time": "2023-08-14T17:33:46.279835Z",
     "start_time": "2023-08-14T17:33:46.273313Z"
    },
    "code_folding": [
     0
    ]
   },
   "outputs": [],
   "source": [
    "def h(lower_interpolated_distribution, x, D):\n",
    "    return lower_interpolated_distribution(x-D) #observed interpolated function in terms of y = x - delta (delta = x - y)"
   ]
  },
  {
   "cell_type": "code",
   "execution_count": 72,
   "id": "ab7ddd99",
   "metadata": {
    "ExecuteTime": {
     "end_time": "2023-08-14T17:33:46.869081Z",
     "start_time": "2023-08-14T17:33:46.860338Z"
    },
    "code_folding": [
     0
    ]
   },
   "outputs": [],
   "source": [
    "def distribution_of_difference(higher_interpolated_distribution, lower_interpolated_distribution, xnew, D):\n",
    "    return integrate.quad(lambda x: g(higher_interpolated_distribution, x)*h(lower_interpolated_distribution, x, D), xnew[0], xnew[-1], limit=1000)[0] #integrate between lowest x-axis value and highest x-axis value"
   ]
  },
  {
   "cell_type": "code",
   "execution_count": 73,
   "id": "e59d7d8e",
   "metadata": {
    "ExecuteTime": {
     "end_time": "2023-08-14T17:33:47.437271Z",
     "start_time": "2023-08-14T17:33:47.422804Z"
    },
    "code_folding": [
     0
    ]
   },
   "outputs": [],
   "source": [
    "def p_value(higher_interpolated_distribution, lower_interpolated_distribution, xnew, lower_D): #where lower_D is the lower limit to integrate down to (i.e. p-value = area under the curve between lower D and 0)\n",
    "    #calculate the full area under the curve:\n",
    "    upper_full_area = max(xnew)-min(xnew)\n",
    "    lower_full_area = -upper_full_area\n",
    "    print('upper full area = ', upper_full_area)\n",
    "    print('lower full area = ', lower_full_area)\n",
    "    full_area = integrate.quad(lambda D: distribution_of_difference(higher_interpolated_distribution, lower_interpolated_distribution, xnew, D), lower_full_area, upper_full_area, limit=10000)[0] #integrate between -100 and 100\n",
    "    under_zero_area = integrate.quad(lambda D: distribution_of_difference(higher_interpolated_distribution, lower_interpolated_distribution,xnew,  D), lower_D, 0, limit=10000)[0] #integrate between lower_D and 0\n",
    "    print('full area = ', full_area)\n",
    "    print('under zero area = ', under_zero_area)\n",
    "    return under_zero_area/full_area"
   ]
  },
  {
   "cell_type": "code",
   "execution_count": 74,
   "id": "38836900",
   "metadata": {
    "ExecuteTime": {
     "end_time": "2023-08-14T17:33:48.063154Z",
     "start_time": "2023-08-14T17:33:48.032654Z"
    },
    "code_folding": [
     0
    ]
   },
   "outputs": [],
   "source": [
    "def plot_distributions_with_interpolation(expected_x, expected_y, expected_inter, observed_x, observed_y, observed_inter, mCA, sex, ax):\n",
    "    min_x = min([min(expected_x), min(observed_x)]) #minimum x-axis value from the observed and expected distributions\n",
    "    max_x = max([max(expected_x), max(observed_x)]) #maximum x-axis value from the observed and expected distributions\n",
    "    xnew = np.linspace(min_x, max_x, num=100, endpoint=True) #full range of x-axis values for the observed and expected distributions\n",
    "    \n",
    "    expected_mCA_color = sex_colors_dict[sex][mCA[-1]]['expected']\n",
    "    observed_mCA_color = sex_colors_dict[sex][mCA[-1]]['observed']\n",
    "\n",
    "    ax.plot(expected_x, expected_y, color = expected_mCA_color, lw = 2) #plot the expected distribution\n",
    "    ax.scatter(xnew, expected_inter(xnew), color = expected_mCA_color) #plot the interpolated distribution to check it is working ok\n",
    "    ax.plot(observed_x, observed_y, color = observed_mCA_color, lw = 2) #plot the observed distribution\n",
    "    ax.scatter(xnew, observed_inter(xnew), color = observed_mCA_color) #plot the interpolated distribution to check it is working ok\n",
    "    for spine in ('top', 'right'):\n",
    "        ax.spines[spine].set_visible(False)\n",
    "        \n",
    "    ax.set_xlabel('m', fontsize = 14)\n",
    "    ax.set_ylabel('probability', fontsize = 14)\n",
    "    \n",
    "    custom_lines = [Line2D([0], [0], color=expected_mCA_color, lw=2),\n",
    "                    Line2D([0], [0], color=observed_mCA_color, lw=2),\n",
    "                    Line2D([0], [0], color=expected_mCA_color, lw=0, marker = 'o'),\n",
    "                    Line2D([0], [0], color=observed_mCA_color, lw=0, marker = 'o')]\n",
    "    ax.legend(custom_lines, ['expected', 'observed', 'expected interpolated', 'observed interpolated'], frameon = False, loc = 'upper right')\n",
    "    \n",
    "    ax.set_title(mCA+' '+sex, fontsize = 14)\n",
    "    ax.xaxis.set_tick_params(width=1, color = grey3, length = 6, labelsize = 14, top = False, labeltop = False)\n",
    "    ax.yaxis.set_tick_params(width=1, color = grey3, length = 6, labelsize = 14, top = False, labeltop = False)\n",
    "    for axis in ['bottom','left']:\n",
    "        ax.spines[axis].set_linewidth(1.5)\n",
    "        ax.spines[axis].set_color(grey3)\n",
    "    \n",
    "    return ax"
   ]
  },
  {
   "cell_type": "code",
   "execution_count": 75,
   "id": "cdc01585",
   "metadata": {
    "ExecuteTime": {
     "end_time": "2023-08-14T17:33:48.632740Z",
     "start_time": "2023-08-14T17:33:48.596103Z"
    },
    "code_folding": [
     0
    ]
   },
   "outputs": [],
   "source": [
    "def plot_distribution_differences_with_95_CI(xnew, higher_interpolated_distribution, lower_interpolated_distribution, p_val, mCA, ax):\n",
    "    upper_full_area = max(xnew)-min(xnew) #upper limit for integration under the curve = difference between highest and lowest points of the 2 distributions\n",
    "    lower_full_area = -upper_full_area #lower limit for integration under the curve\n",
    "    xx=np.array([D for D in np.linspace(lower_full_area, upper_full_area, 100)])\n",
    "    yy=[distribution_of_difference(higher_interpolated_distribution, lower_interpolated_distribution, xnew, D) for D in xx]\n",
    "\n",
    "    ax.fill_between(xx, yy, where= xx<=0, zorder = 0, facecolor = 'white', hatch = '///')\n",
    "    ax.plot(xx, yy, color = grey4, lw = 2, zorder = 1)\n",
    "    ax.plot([0, 0], [0, max(yy)], color = grey4, lw = 2, zorder = 70)\n",
    "    \n",
    "    #Calculate 95% CI of the distribution of difference\n",
    "    total_yy = 0\n",
    "    for entry in yy:\n",
    "        total_yy = total_yy+entry\n",
    "    normalised_y_array = np.array(yy)/total_yy\n",
    "\n",
    "    cumulative_y = 0\n",
    "    x_95_range = []\n",
    "    for x, norm_y in zip(xx, normalised_y_array):\n",
    "        cumulative_y=cumulative_y+norm_y\n",
    "        if 0.025<cumulative_y<0.975:\n",
    "            x_95_range.append(x)\n",
    "\n",
    "    if len(x_95_range)>0:\n",
    "        min_x_95=min(x_95_range)\n",
    "        max_x_95=max(x_95_range)\n",
    "\n",
    "        ax.plot([min_x_95, min_x_95], [0, max(yy)], color = purple3, lw = 2, zorder = 70)\n",
    "        ax.plot([max_x_95, max_x_95], [0, max(yy)], color = purple3, lw = 2, zorder = 70)\n",
    "    else:\n",
    "        print('x 95 range is empty')\n",
    "        min_x_95 = np.nan\n",
    "        max_x_95 = np.nan\n",
    "    \n",
    "    for spine in ('top', 'right', 'left'):\n",
    "        ax.spines[spine].set_visible(False)\n",
    "    ax.set_yticks([])\n",
    "    ax.set_ylim(0, max(yy))\n",
    "    ax.set_xlabel('gradient (m) difference for '+mCA, fontsize = 14)\n",
    "    ax.text(0, 0.9, 'p-value = '+str(\"{:.2e}\".format(p_val)), horizontalalignment='left', transform=ax.transAxes, fontsize = 12)\n",
    "    \n",
    "    ax.xaxis.set_tick_params(width=1, color = grey3, length = 6, labelsize = 14, top = False, labeltop = False)\n",
    "    for axis in ['bottom']:\n",
    "        ax.spines[axis].set_linewidth(1.5)\n",
    "        ax.spines[axis].set_color(grey3)\n",
    "\n",
    "    return ax, min_x_95, max_x_95"
   ]
  },
  {
   "cell_type": "code",
   "execution_count": 76,
   "id": "0fcf2626",
   "metadata": {
    "ExecuteTime": {
     "end_time": "2023-08-14T17:33:49.377209Z",
     "start_time": "2023-08-14T17:33:49.339874Z"
    },
    "code_folding": [
     0
    ]
   },
   "outputs": [],
   "source": [
    "def calculate_distribution_of_differences_CIs_p_values(mCA, expected_m, observed_m, expected_m_probs_list, observed_m_probs_list, sex):\n",
    "    print('calculating p-value for gradient difference for '+mCA+':')\n",
    "    print()\n",
    "    #Step 1 = get the arrays\n",
    "    expected_m_list = expected_m_probs_list[0]\n",
    "    expected_probs_list = expected_m_probs_list[1]\n",
    "    observed_m_list = observed_m_probs_list[0]\n",
    "    observed_probs_list = observed_m_probs_list[1]\n",
    "\n",
    "    #Step 2 = generate the functions for the expected and observed distributions\n",
    "    expected_inter = interp1d(expected_m_list, expected_probs_list, fill_value=0, bounds_error=False) #interpolate the expected distribution\n",
    "    observed_inter = interp1d(observed_m_list, observed_probs_list, fill_value=0, bounds_error=False) #interpolate the expected distribution\n",
    "\n",
    "    #Step 3 = Determine which distribution is the one with the suspected higher m value:\n",
    "    if expected_m >= observed_m:\n",
    "        higher_interpolated_distribution = expected_inter\n",
    "        lower_interpolated_distribution = observed_inter\n",
    "    else:\n",
    "        higher_interpolated_distribution = observed_inter\n",
    "        lower_interpolated_distribution = expected_inter\n",
    "\n",
    "    #Step 4 = Calculate the p-value\n",
    "    min_x = min([min(expected_m_list), min(observed_m_list)]) #minimum x-axis value from the observed and expected distributions\n",
    "    max_x = max([max(expected_m_list), max(observed_m_list)]) #maximum x-axis value from the observed and expected distributions\n",
    "    xnew = np.linspace(min_x, max_x, num=100000, endpoint=True) #full range of x-axis values for the observed and expected distributions\n",
    "    upper_full_area = max(xnew)-min(xnew) #upper limit for integration under the curve = difference between highest and lowest points of the 2 distributions\n",
    "    lower_full_area = -upper_full_area #lower limit for integration under the curve\n",
    "    p_val = p_value(higher_interpolated_distribution, lower_interpolated_distribution, xnew, lower_full_area)\n",
    "    print('')\n",
    "    print('p-value = ', p_val)\n",
    "\n",
    "    #Step 5 = plot the distributions and distribution of differences\n",
    "    fig, axes = plt.subplots(1, 2, figsize = (14, 4))\n",
    "    ax1 = axes[0]\n",
    "    ax2 = axes[1]\n",
    "    plot_distributions_with_interpolation(expected_m_list, expected_probs_list, expected_inter, observed_m_list, observed_probs_list, observed_inter, mCA, sex, ax1)\n",
    "    ax2, lower_CI_difference, upper_CI_difference = plot_distribution_differences_with_95_CI(xnew, higher_interpolated_distribution, lower_interpolated_distribution, p_val, mCA, ax2)\n",
    "    ax1.ticklabel_format(axis=\"x\", style=\"sci\", scilimits=(0,0))\n",
    "    ax2.ticklabel_format(axis=\"x\", style=\"sci\", scilimits=(0,0))\n",
    "    \n",
    "    print('lower CI difference = ', lower_CI_difference)\n",
    "    print('upper CI difference = ', upper_CI_difference)\n",
    "    \n",
    "    if mCA[-1]=='+':\n",
    "        mCA_type = 'gain'\n",
    "    if mCA[-1]=='-':\n",
    "        mCA_type = 'loss'\n",
    "    if mCA[-1]=='=':\n",
    "        mCA_type = 'CNLOH'\n",
    "    \n",
    "    plt.tight_layout()\n",
    "    plt.savefig('Figures/P_value_plots_age_dependence_deviation/'+mCA_type+'_'+mCA+'_age_dependence_deviation_distribution_differences_p_value_calculation.pdf')\n",
    "    \n",
    "    plt.show()\n",
    "    print()\n",
    "    return p_val, lower_CI_difference, upper_CI_difference"
   ]
  },
  {
   "cell_type": "code",
   "execution_count": 77,
   "id": "b277d3bb",
   "metadata": {
    "ExecuteTime": {
     "end_time": "2023-08-14T17:33:49.922385Z",
     "start_time": "2023-08-14T17:33:49.898538Z"
    },
    "code_folding": [
     0
    ]
   },
   "outputs": [],
   "source": [
    "def observed_expected_heatmaps_confidence_intervals_p_values_custom_range(mCA, df_single_mCAs, sex_specific_s_mu_dict, fmin, sex, heatmap_grid_limits):\n",
    "        \n",
    "    #Step 1: Get dictionaries of observed and expected frequencies (2 dictionaries e.g.: observed = {45: 0, 55: 0.001, 65: 0.002}, expected = {45: 0.001, 55: 0.002, 65: 0.003})\n",
    "    observed, expected = observed_and_expected_frequencies_by_age_sex(mCA, df_single_mCAs, sex_specific_s_mu_dict, fmin, sex)\n",
    "    \n",
    "    #Step 2: Create a list of the ages to exclude from the gradient fit (exclude age groups from the fit if the observed frequency in that age group is 0), e.g. [45.0]\n",
    "    ages_to_exclude_list = age_group_to_exclude(observed)\n",
    "    print('ages to exclude = ', ages_to_exclude_list)\n",
    "    \n",
    "    #Step 3: Calculate the line of best fit (y = mx+c) through the observed and expected datapoints, using heatmaps\n",
    "    observed_m_range = (heatmap_grid_limits[mCA]['observed m lower'], heatmap_grid_limits[mCA]['observed m higher'])\n",
    "    observed_c_range = (heatmap_grid_limits[mCA]['observed c lower'], heatmap_grid_limits[mCA]['observed c higher'])\n",
    "    expected_m_range = (heatmap_grid_limits[mCA]['expected m lower'], heatmap_grid_limits[mCA]['expected m higher'])\n",
    "    expected_c_range = (heatmap_grid_limits[mCA]['expected c lower'], heatmap_grid_limits[mCA]['expected c higher'])\n",
    "    \n",
    "    observed_xyz, observed_m, observed_c, obs_m_initial, obs_c_initial = heatmap_line_best_fit_custom_range(observed, 'observed', sex, mCA, ages_to_exclude_list, observed_m_range, observed_c_range)\n",
    "    expected_xyz, expected_m, expected_c, exp_m_initial, exp_c_initial = heatmap_line_best_fit_custom_range(expected, 'expected', sex, mCA, ages_to_exclude_list, expected_m_range, expected_c_range)\n",
    "    \n",
    "    #Step 4: Plot the heatmaps\n",
    "    plot_heatmaps(observed_xyz, expected_xyz, observed_m, observed_c, expected_m, expected_c, mCA, sex)\n",
    "    \n",
    "    #Step 5: Plot the lines of best fit\n",
    "    plot_lines_best_fit(observed, expected, observed_m, observed_c, expected_m, expected_c, obs_m_initial, obs_c_initial, exp_m_initial, exp_c_initial, mCA, sex)\n",
    "    \n",
    "    #Step 6: Plot the confidence intervals for the observed and expected gradients\n",
    "    observed_min_m, observed_max_m, expected_min_m, expected_max_m, observed_m_list, observed_probs_list, expected_m_list, expected_probs_list = confidence_intervals_plots(observed_xyz, expected_xyz, mCA, mCA, sex)\n",
    "    \n",
    "    #Step 7:  \n",
    "    expected_m_probs_list = [expected_m_list, expected_probs_list]\n",
    "    observed_m_probs_list = [observed_m_list, observed_probs_list]\n",
    "    p_val, lower_CI_difference, upper_CI_difference = calculate_distribution_of_differences_CIs_p_values(mCA, expected_m, observed_m, expected_m_probs_list, observed_m_probs_list, sex)\n",
    "    \n",
    "    gradient_difference = abs(expected_m-observed_m)\n",
    "    gradient_relative_difference = (observed_m-expected_m)/expected_m\n",
    "    \n",
    "    return {'expected_gradient': expected_m, 'observed_gradient': observed_m, 'gradient_difference': gradient_difference, 'gradient_relative_difference': gradient_relative_difference, 'lower_CI_difference': lower_CI_difference, 'upper_CI_difference': upper_CI_difference, 'p_value': p_val}"
   ]
  },
  {
   "cell_type": "markdown",
   "id": "d8d9faa2",
   "metadata": {},
   "source": [
    "## Functions for calculating degree of deviation in age dependence, if including more than 1 mCA"
   ]
  },
  {
   "cell_type": "code",
   "execution_count": 78,
   "id": "a0c88c64",
   "metadata": {
    "ExecuteTime": {
     "end_time": "2023-08-14T17:33:50.505089Z",
     "start_time": "2023-08-14T17:33:50.476278Z"
    },
    "code_folding": [
     0
    ]
   },
   "outputs": [],
   "source": [
    "def observed_and_expected_frequencies_by_age_sex_multimCAs(mCA, df, sex_specific_s_mu_dict, fmin, sex):\n",
    "    #OBSERVED VS EXPECTED NUMBERS\n",
    "    #actual frequencies\n",
    "    if sex == 'M':\n",
    "        ratio = men_ratio\n",
    "    if sex == 'F':\n",
    "        ratio = women_ratio\n",
    "        \n",
    "    expected_dict = expected_number_by_age_sex_at_least_1_mCA(mCA, fmin, sex_specific_s_mu_dict, sex)\n",
    "        \n",
    "    numbers_dict = {'40-50': 0, '50-60': 0, '60-70': 0}\n",
    "    numbers, freqs = single_and_multiple_observed_numbers_by_age_sex(mCA, df, fmin, sex)\n",
    "    numbers_dict['40-50']+=numbers[0]\n",
    "    numbers_dict['50-60']+=numbers[1]\n",
    "    numbers_dict['60-70']+=numbers[2]\n",
    "    \n",
    "    expected_frequencies = {}\n",
    "    observed_numbers = {}\n",
    "    for k, v in numbers_dict.items():\n",
    "        expected_total_for_age_range = 0\n",
    "        lower_age = k.split('-')[0] #e.g. 40\n",
    "        upper_age = k.split('-')[1] #e.g. 50\n",
    "        mid_point = np.mean([int(lower_age), int(upper_age)])\n",
    "        for age in range(int(lower_age), int(upper_age)): #will get all from 40, 41, 42, 43, 44, 45, 46, 47, 48, 49\n",
    "            expected = expected_dict[age]\n",
    "            expected_total_for_age_range+=expected\n",
    "        expected_frequencies[mid_point]=expected_total_for_age_range/10 #is this correct to divide by 10?!\n",
    "        observed_numbers[mid_point]=v\n",
    "\n",
    "    #convert expected numbers to frequencies\n",
    "    expected_numbers = {}\n",
    "    expected_numbers[45.0]=expected_frequencies[45.0]*(total_age_40_49*ratio)\n",
    "    expected_numbers[55.0]=expected_frequencies[55.0]*(total_age_50_59*ratio)\n",
    "    expected_numbers[65.0]=expected_frequencies[65.0]*(total_age_60_69*ratio)\n",
    "\n",
    "    print('observed_numbers = ', observed_numbers)\n",
    "    print('expected_numbers = ', expected_numbers)\n",
    "\n",
    "    \n",
    "    #OBSERVED VS EXPECTED FREQUENCIES\n",
    "    freq_dict = {}\n",
    "    freq_dict['40-50']=numbers_dict['40-50']/(total_age_40_49*ratio)\n",
    "    freq_dict['50-60']=numbers_dict['50-60']/(total_age_50_59*ratio)\n",
    "    freq_dict['60-70']=numbers_dict['60-70']/(total_age_60_69*ratio)\n",
    "\n",
    "    observed_frequencies = {}\n",
    "    for k, v in freq_dict.items():\n",
    "        expected_total_for_age_range = 0\n",
    "        lower_age = k.split('-')[0] #e.g. 40\n",
    "        upper_age = k.split('-')[1] #e.g. 50\n",
    "        mid_point = np.mean([int(lower_age), int(upper_age)])\n",
    "        observed_frequencies[mid_point]=v\n",
    "\n",
    "    print('observed_frequencies = ', observed_frequencies)\n",
    "    print('expected_frequencies = ', expected_frequencies)\n",
    "    print()\n",
    "    \n",
    "    return observed_frequencies, expected_frequencies"
   ]
  },
  {
   "cell_type": "code",
   "execution_count": 79,
   "id": "3e6babfe",
   "metadata": {
    "ExecuteTime": {
     "end_time": "2023-08-14T17:33:50.994624Z",
     "start_time": "2023-08-14T17:33:50.984282Z"
    },
    "code_folding": [
     0
    ]
   },
   "outputs": [],
   "source": [
    "def expected_prevalence_diploid_at_least_1_mCA(t, u, s, fmin, mCA): \n",
    "    N = 9.40166610e+04\n",
    "    \n",
    "    mCA_type = mCA[-1]\n",
    "    if mCA_type == '+':\n",
    "        integral_limit = 0.99999\n",
    "    if mCA_type == '-':\n",
    "        integral_limit = 0.67\n",
    "    if mCA_type == '=':\n",
    "        integral_limit = 0.54\n",
    "        \n",
    "    expected_number_clones = integrate.quad(lambda f: density_of_clones_diploid(f, u, s, t), fmin, integral_limit)[0]\n",
    "    \n",
    "    return 1.0-np.exp(-expected_number_clones)  #1-e^(-X): this is how many non-zeros there are in a Poisson distribution with mean of X"
   ]
  },
  {
   "cell_type": "code",
   "execution_count": 80,
   "id": "1fd33f0c",
   "metadata": {
    "ExecuteTime": {
     "end_time": "2023-08-14T17:33:51.516348Z",
     "start_time": "2023-08-14T17:33:51.479230Z"
    },
    "code_folding": [
     0
    ]
   },
   "outputs": [],
   "source": [
    "def single_and_multiple_observed_numbers_by_age_sex(mCA, df, fmin, sex):\n",
    "    \n",
    "    #single mCAs\n",
    "    df_mCA = df[df['annotation']==mCA].copy(deep = True) #filter the dataframe to only include the mCAs of interest\n",
    "    df_mCA_sex = df_mCA[df_mCA['SEX']==sex].copy(deep = True) #filter the dataframe to only include the mCAs of interest\n",
    "    df_mCA_sex['CELL_FRAC'] = df_mCA_sex['CELL_FRAC'].astype(float) #convert the cell fractions to floats\n",
    "    df_mCA_fmin = df_mCA_sex[df_mCA_sex['CELL_FRAC']>=fmin] #filter the dataframe to only include those mCAs that are bigger than the minimum chosen cell fraction\n",
    "\n",
    "    df_ages_single = {'40-45': 0, '45-50': 0, '50-55': 0, '55-60': 0, '60-65': 0, '65-70': 0} #create all the age groups (which will then get updated with the actual values if there are people in that age group)\n",
    "    df_ages_mCA = df_mCA_fmin.groupby(by = ['AGE']).count()['total_mCAs'].to_dict()\n",
    "\n",
    "    for k, v in df_ages_mCA.items():\n",
    "        df_ages_single[k]=v #update the df_ages dictionary with the number in each age group if there is anyone in that age grou\n",
    "\n",
    "    #multiple mCAs\n",
    "    df_ages_multiple = {}\n",
    "    for age_range in ['40-45', '45-50', '50-55', '55-60', '60-65', '65-70']:\n",
    "        asynchronous_count = 0\n",
    "        synchronous_count = 0\n",
    "\n",
    "        df_age = df[df['AGE']==age_range]\n",
    "        df_multiple = df_age[df_age['total_mCAs']>1]\n",
    "        df_multiple_mCA = df_multiple[df_multiple['annotation']==mCA].copy(deep = True) #filter the dataframe to only include the mCAs of interest\n",
    "        df_multiple_mCA_sex = df_multiple_mCA[df_multiple_mCA['SEX']==sex].copy(deep = True) #filter the dataframe to only include the mCAs of interest\n",
    "        df_multiple_mCA_sex['CELL_FRAC'] = df_multiple_mCA_sex['CELL_FRAC'].astype(float) #convert the cell fractions to floats\n",
    "        df_multiple_mCA_fmin = df_multiple_mCA_sex[df_multiple_mCA_sex['CELL_FRAC']>=fmin] #filter the dataframe to only include those mCAs that are bigger than the minimum chosen cell fraction\n",
    "        IDs = df_multiple_mCA_fmin['ID'].to_list()\n",
    "\n",
    "        unique_IDs = []\n",
    "        for ID in IDs:\n",
    "            if ID not in unique_IDs:\n",
    "                unique_IDs.append(ID)\n",
    "\n",
    "        for ID in unique_IDs:\n",
    "            df_ID = df_multiple_mCA_fmin[df_multiple_mCA_fmin['ID']==ID]\n",
    "            df_ID_mCA = df_ID[df_ID['annotation']==mCA]\n",
    "            mCA_cell_fraction = df_ID_mCA['CELL_FRAC'].to_list()[0]\n",
    "            df_ID_non_mCA = df_ID[df_ID['annotation']!=mCA]\n",
    "            non_mCA_cell_fractions = df_ID_non_mCA['CELL_FRAC'].to_list()\n",
    "\n",
    "            synchronous = 0\n",
    "            for cell_fraction in non_mCA_cell_fractions:\n",
    "                if cell_fraction != '':\n",
    "                    diff = abs(float(mCA_cell_fraction) - float(cell_fraction))\n",
    "                    if diff <0.02:\n",
    "                        synchronous+=1\n",
    "\n",
    "            if synchronous == 0:\n",
    "                asynchronous_count +=1\n",
    "            else:\n",
    "                synchronous_count +=1\n",
    "        \n",
    "        df_ages_multiple[age_range]=asynchronous_count\n",
    "    \n",
    "    \n",
    "    number_mCA_40_49 = (df_ages_single['40-45']+df_ages_single['45-50']+df_ages_multiple['40-45']+df_ages_multiple['45-50'])\n",
    "    number_mCA_50_59 = (df_ages_single['50-55']+df_ages_single['55-60']+df_ages_multiple['50-55']+df_ages_multiple['55-60'])\n",
    "    number_mCA_60_69 = (df_ages_single['60-65']+df_ages_single['65-70']+df_ages_multiple['60-65']+df_ages_multiple['65-70'])\n",
    "    \n",
    "    print(mCA+' '+sex)\n",
    "    print('number aged 40-49 = '+str(number_mCA_40_49))\n",
    "    print('number aged 50-59 = '+str(number_mCA_50_59))\n",
    "    print('number aged 60-69 = '+str(number_mCA_60_69))\n",
    "    print('single count = ', df_ages_single)\n",
    "    print('multiple count = ', df_ages_multiple)\n",
    "\n",
    "    freq40_49 = number_mCA_40_49/total_age_40_49\n",
    "    freq50_59 = number_mCA_50_59/total_age_50_59\n",
    "    freq60_69 = number_mCA_60_69/total_age_60_69\n",
    "    \n",
    "    return (number_mCA_40_49, number_mCA_50_59, number_mCA_60_69), (freq40_49, freq50_59, freq60_69)"
   ]
  },
  {
   "cell_type": "code",
   "execution_count": 81,
   "id": "48228130",
   "metadata": {
    "ExecuteTime": {
     "end_time": "2023-08-14T17:33:51.985239Z",
     "start_time": "2023-08-14T17:33:51.972984Z"
    },
    "code_folding": [
     0
    ]
   },
   "outputs": [],
   "source": [
    "def expected_number_by_age_sex_at_least_1_mCA(mCA, fmin, sex_specific_s_mu_dict, gender):\n",
    "    \n",
    "    if gender == 'M':\n",
    "        sex = 'male'\n",
    "    if gender == 'F':\n",
    "        sex = 'female'\n",
    "\n",
    "    s = sex_specific_s_mu_dict[mCA][sex+'_s']\n",
    "    u = sex_specific_s_mu_dict[mCA][sex+'_mu']\n",
    "\n",
    "    xx=np.array([t for t in range(0,80)])\n",
    "    yy=[expected_prevalence_diploid_at_least_1_mCA(t, u, s, fmin, mCA) for t in xx]\n",
    "\n",
    "    age_expected = {}\n",
    "    for age, expected in zip(xx, yy):\n",
    "        age_expected[age]=expected\n",
    "\n",
    "    return age_expected"
   ]
  },
  {
   "cell_type": "code",
   "execution_count": 82,
   "id": "26c6d8d6",
   "metadata": {
    "ExecuteTime": {
     "end_time": "2023-08-14T17:33:52.482347Z",
     "start_time": "2023-08-14T17:33:52.473269Z"
    },
    "code_folding": [
     0
    ]
   },
   "outputs": [],
   "source": [
    "def grid_limits_multimCAs(mCA, gender):\n",
    "    \n",
    "    grid_limits_df = pd.read_csv('Data_files/Heatmap_grid_ranges_age_dependence_deviation_multimCAs.txt', sep = '\\t')\n",
    "    \n",
    "    df_mCA = grid_limits_df[grid_limits_df['mCA']==mCA]\n",
    "    df_mCA_gender = df_mCA[df_mCA['gender']==gender]\n",
    "    df_mCA_gender = df_mCA_gender.set_index(['mCA'])\n",
    "    limits_dict = pd.DataFrame.to_dict(df_mCA_gender, orient = 'index')\n",
    "    return limits_dict"
   ]
  },
  {
   "cell_type": "code",
   "execution_count": 83,
   "id": "398fd0d1",
   "metadata": {
    "ExecuteTime": {
     "end_time": "2023-08-14T17:33:52.994654Z",
     "start_time": "2023-08-14T17:33:52.967324Z"
    },
    "code_folding": [
     0
    ]
   },
   "outputs": [],
   "source": [
    "def plot_heatmaps_multimCAs(observed_xyz, expected_xyz, observed_m, observed_c, expected_m, expected_c, mCA, gender):\n",
    "    # Plotting the maximum likelihood estimates on a colormesh plot\n",
    "    f, (ax1, ax2) = plt.subplots(1, 2, sharey=True, sharex = True, figsize=(12, 5))\n",
    "    gs = matplotlib.gridspec.GridSpec(1, 2, width_ratios=[1, 1], height_ratios=[1])\n",
    "    ax1 = plt.subplot(gs[0])\n",
    "    ax2 = plt.subplot(gs[1])\n",
    "    gs.update(wspace=0.4)\n",
    "    \n",
    "    axisfont=15\n",
    "    titlefont=18\n",
    "    axislabelfont=18\n",
    "    m_size=8\n",
    "    scale = 1\n",
    "    \n",
    "    cmap = plt.cm.coolwarm #define colors\n",
    "\n",
    "    #Observed heatmap\n",
    "    ax1.pcolormesh(observed_xyz[0], observed_xyz[1], observed_xyz[2], cmap = cmap)\n",
    "    ax1.scatter(observed_m, observed_c, marker = '+', s = 500, color = grey1, lw = 5)\n",
    "    \n",
    "    #Expected heatmap\n",
    "    ax2.pcolormesh(expected_xyz[0], expected_xyz[1], expected_xyz[2], cmap = cmap)\n",
    "    ax2.scatter(expected_m, expected_c, marker = '+', s = 500, color = grey1, lw = 5)\n",
    "\n",
    "    #set labels\n",
    "    for ax in [ax1, ax2]:\n",
    "        ax.set_xlabel('gradient (m)')\n",
    "        ax.set_ylabel('intercept (c)')\n",
    "        ax.xaxis.set_tick_params(width=2, color = grey3, length = 6, labelsize = 16)\n",
    "        ax.yaxis.set_tick_params(width=scale, color = grey3, length = 6, labelsize = 16)\n",
    "        ax.ticklabel_format(axis=\"x\", style=\"sci\", scilimits=(0,0))\n",
    "\n",
    "    ax1.set_title(mCA+' '+gender+': observed')\n",
    "    ax2.set_title(mCA+' '+gender+': expected')\n",
    "\n",
    "    if mCA[-1]=='+':\n",
    "        mCA_type = 'gain'\n",
    "    if mCA[-1]=='-':\n",
    "        mCA_type = 'loss'\n",
    "    if mCA[-1]=='=':\n",
    "        mCA_type = 'CNLOH'\n",
    "\n",
    "    plt.tight_layout()\n",
    "    plt.savefig('Figures/MLE_heatmaps_age_dependence_gradients/'+mCA_type+'_'+mCA+'_age_dependence_observed_expected_gradient_heatmaps_at_least_1_mCA.pdf')\n",
    "\n",
    "    return plt.show()"
   ]
  },
  {
   "cell_type": "code",
   "execution_count": 84,
   "id": "20dbd346",
   "metadata": {
    "ExecuteTime": {
     "end_time": "2023-08-14T17:33:53.516186Z",
     "start_time": "2023-08-14T17:33:53.481743Z"
    },
    "code_folding": [
     0
    ]
   },
   "outputs": [],
   "source": [
    "def plot_lines_best_fit_multimCAs(observed, expected, observed_m, observed_c, expected_m, expected_c, obs_m_initial, obs_c_initial, exp_m_initial, exp_c_initial, mCA, sex):\n",
    "    f, (ax1, ax2) = plt.subplots(1, 2, sharey=True, sharex = True, figsize=(12, 4))\n",
    "    gs = matplotlib.gridspec.GridSpec(1, 2, width_ratios=[1, 1], height_ratios=[1])\n",
    "    ax1 = plt.subplot(gs[0])\n",
    "    ax2 = plt.subplot(gs[1])\n",
    "    gs.update(wspace=0.4)\n",
    "    \n",
    "    #Observed\n",
    "    mCA_color = sex_colors_dict[sex][mCA[-1]]['observed']\n",
    "        \n",
    "    x = []\n",
    "    y_actual_o = []\n",
    "    y_fit = []\n",
    "    y_fit_without_error = []\n",
    "    \n",
    "    for k, v in observed.items(): #dictionary of age: frequency\n",
    "        x.append(k)\n",
    "        y_actual_o.append(v)\n",
    "        y_fit.append((observed_m*k)+observed_c)\n",
    "        y_fit_without_error.append((obs_m_initial*k)+obs_c_initial)\n",
    "\n",
    "    ax1.scatter(x, y_actual_o, color = mCA_color, s = 50)\n",
    "    ax1.plot(x, y_fit, color = mCA_color, zorder =10)\n",
    "    ax1.plot(x, y_fit_without_error, color = grey2, linestyle = ':')\n",
    "    \n",
    "    #Expected\n",
    "    mCA_color = sex_colors_dict[sex][mCA[-1]]['expected']\n",
    "        \n",
    "    x = []\n",
    "    y_actual_e = []\n",
    "    y_fit = []\n",
    "    y_fit_without_error = []\n",
    "    \n",
    "    for k, v in expected.items(): #dictionary of age: frequency\n",
    "        x.append(k)\n",
    "        y_actual_e.append(v)\n",
    "        y_fit.append((expected_m*k)+expected_c)\n",
    "        y_fit_without_error.append((exp_m_initial*k)+exp_c_initial)\n",
    "        \n",
    "    ax2.scatter(x, y_actual_e, color = mCA_color, s = 50)\n",
    "    ax2.plot(x, y_fit, color = mCA_color, zorder =10)\n",
    "    ax2.plot(x, y_fit_without_error, color = grey2, linestyle = ':')\n",
    "    \n",
    "    for ax in [ax1, ax2]:\n",
    "        ax.set_xlabel('age')\n",
    "        ax.set_ylabel('frequency')\n",
    "        ax.set_xlim(0, 80)\n",
    "        ax.set_ylim(0, max([max(y_actual_o), max(y_actual_e)])*1.5)\n",
    "        \n",
    "    ax1.set_title(mCA+' '+sex+': observed')\n",
    "    ax2.set_title(mCA+' '+sex+': expected')\n",
    "    \n",
    "    if mCA[-1]=='+':\n",
    "        mCA_type = 'gain'\n",
    "    if mCA[-1]=='-':\n",
    "        mCA_type = 'loss'\n",
    "    if mCA[-1]=='=':\n",
    "        mCA_type = 'CNLOH'\n",
    "    \n",
    "    plt.tight_layout()\n",
    "    plt.savefig('Figures/Age_depdendence_observed_expected_gradient_lines_best_fit/'+mCA_type+'_'+mCA+'_age_dependence_observed_expected_gradient_lines_best_fit_at_least_1_mCA.pdf')\n",
    "    \n",
    "    return plt.show()"
   ]
  },
  {
   "cell_type": "code",
   "execution_count": 85,
   "id": "7d1c110d",
   "metadata": {
    "ExecuteTime": {
     "end_time": "2023-08-14T17:33:54.167199Z",
     "start_time": "2023-08-14T17:33:54.136791Z"
    },
    "code_folding": [
     0
    ]
   },
   "outputs": [],
   "source": [
    "def confidence_intervals_plots_multimCAs(observed_m_xyz, expected_m_xyz, mCA, labelname, gender):\n",
    "    f, ax1 = plt.subplots(1, 1, sharey=True, sharex = True, figsize=(8, 6))\n",
    "\n",
    "    axisfont=17\n",
    "    titlefont=20\n",
    "    axislabelfont=21\n",
    "    m_size=8\n",
    "    scale = 1\n",
    "\n",
    "    ox1m = observed_m_xyz[0]\n",
    "    oy1m = observed_m_xyz[1]\n",
    "    oz1m = observed_m_xyz[2]\n",
    "\n",
    "    ex1m = expected_m_xyz[0]\n",
    "    ey1m = expected_m_xyz[1]\n",
    "    ez1m = expected_m_xyz[2]\n",
    "\n",
    "    observed_min_m, observed_max_m, observed_m_list, observed_probs_list, observed_m_ymax = confidence_interval_95_m(ox1m, oy1m, oz1m, mCA, ax1, 'observed', gender)\n",
    "    expected_min_m, expected_max_m, expected_m_list, expected_probs_list, expected_m_ymax = confidence_interval_95_m(ex1m, ey1m, ez1m, mCA, ax1, 'expected', gender)\n",
    "\n",
    "    ax1.set_ylim(0, max([observed_m_ymax,expected_m_ymax])*1.1)\n",
    "    \n",
    "    ax1.set_title('95% confidence intervals for gradients')\n",
    "    ax1.legend(frameon=False, fontsize = 14)\n",
    "    ax1.ticklabel_format(axis=\"x\", style=\"sci\", scilimits=(0,0))\n",
    "    \n",
    "    # Axis labels\n",
    "    ax1.set_xlabel('gradient', fontsize = axislabelfont, labelpad = 10, fontweight = 'medium')\n",
    "    ax1.set_ylabel('probability', fontsize = axislabelfont, labelpad = 10, fontweight = 'medium')\n",
    "\n",
    "    ax1.xaxis.set_tick_params(width=scale, color = grey3, length = 6, labelsize = 16, top = False, labeltop = False)\n",
    "    ax1.yaxis.set_tick_params(width=scale, color = grey3, length = 6, labelsize = 16)\n",
    "\n",
    "    #Only show the required axis lines\n",
    "    ax1.spines['top'].set_visible(False)\n",
    "    ax1.spines['right'].set_visible(False)\n",
    "\n",
    "    for axis in ['bottom','left']:\n",
    "        ax1.spines[axis].set_linewidth(1.5)\n",
    "\n",
    "    for axis in ['bottom','left']:\n",
    "        ax1.spines[axis].set_color(grey3)\n",
    "    \n",
    "    if mCA[-1]=='+':\n",
    "        mCA_type = 'gain'\n",
    "    if mCA[-1]=='-':\n",
    "        mCA_type = 'loss'\n",
    "    if mCA[-1]=='=':\n",
    "        mCA_type = 'CNLOH'\n",
    "\n",
    "    plt.tight_layout()\n",
    "    plt.savefig('Figures/Confidence_intervals_age_dependence_deviation/'+mCA_type+'_'+mCA+'_age_dependence_observed_expected_95_gradient_confidence_intervals_at_least_1_mCA.pdf')\n",
    "    plt.show()\n",
    "\n",
    "    return observed_min_m, observed_max_m, expected_min_m, expected_max_m, observed_m_list, observed_probs_list, expected_m_list, expected_probs_list "
   ]
  },
  {
   "cell_type": "code",
   "execution_count": 86,
   "id": "11aaad47",
   "metadata": {
    "ExecuteTime": {
     "end_time": "2023-08-14T17:33:54.725711Z",
     "start_time": "2023-08-14T17:33:54.695297Z"
    },
    "code_folding": [
     0
    ]
   },
   "outputs": [],
   "source": [
    "def calculate_distribution_of_differences_CIs_p_values_multimCAs(mCA, expected_m, observed_m, expected_m_probs_list, observed_m_probs_list, sex):\n",
    "    print('calculating p-value for gradient difference for '+mCA+':')\n",
    "    print()\n",
    "    #Step 1 = get the arrays\n",
    "    expected_m_list = expected_m_probs_list[0]\n",
    "    expected_probs_list = expected_m_probs_list[1]\n",
    "    observed_m_list = observed_m_probs_list[0]\n",
    "    observed_probs_list = observed_m_probs_list[1]\n",
    "\n",
    "    #Step 2 = generate the functions for the expected and observed distributions\n",
    "    expected_inter = interp1d(expected_m_list, expected_probs_list, fill_value=0, bounds_error=False) #interpolate the expected distribution\n",
    "    observed_inter = interp1d(observed_m_list, observed_probs_list, fill_value=0, bounds_error=False) #interpolate the expected distribution\n",
    "\n",
    "    #Step 3 = Determine which distribution is the one with the suspected higher m value:\n",
    "    if expected_m >= observed_m:\n",
    "        higher_interpolated_distribution = expected_inter\n",
    "        lower_interpolated_distribution = observed_inter\n",
    "    else:\n",
    "        higher_interpolated_distribution = observed_inter\n",
    "        lower_interpolated_distribution = expected_inter\n",
    "\n",
    "    #Step 4 = Calculate the p-value\n",
    "    min_x = min([min(expected_m_list), min(observed_m_list)]) #minimum x-axis value from the observed and expected distributions\n",
    "    max_x = max([max(expected_m_list), max(observed_m_list)]) #maximum x-axis value from the observed and expected distributions\n",
    "    xnew = np.linspace(min_x, max_x, num=100000, endpoint=True) #full range of x-axis values for the observed and expected distributions\n",
    "    upper_full_area = max(xnew)-min(xnew) #upper limit for integration under the curve = difference between highest and lowest points of the 2 distributions\n",
    "    lower_full_area = -upper_full_area #lower limit for integration under the curve\n",
    "    p_val = p_value(higher_interpolated_distribution, lower_interpolated_distribution, xnew, lower_full_area)\n",
    "    print('')\n",
    "    print('p-value = ', p_val)\n",
    "\n",
    "    #Step 5 = plot the distributions and distribution of differences\n",
    "    fig, axes = plt.subplots(1, 2, figsize = (14, 4))\n",
    "    ax1 = axes[0]\n",
    "    ax2 = axes[1]\n",
    "    plot_distributions_with_interpolation(expected_m_list, expected_probs_list, expected_inter, observed_m_list, observed_probs_list, observed_inter, mCA, sex, ax1)\n",
    "    ax2, lower_CI_difference, upper_CI_difference = plot_distribution_differences_with_95_CI(xnew, higher_interpolated_distribution, lower_interpolated_distribution, p_val, mCA, ax2)\n",
    "    ax1.ticklabel_format(axis=\"x\", style=\"sci\", scilimits=(0,0))\n",
    "    ax2.ticklabel_format(axis=\"x\", style=\"sci\", scilimits=(0,0))\n",
    "    \n",
    "    print('lower CI difference = ', lower_CI_difference)\n",
    "    print('upper CI difference = ', upper_CI_difference)\n",
    "    \n",
    "    if mCA[-1]=='+':\n",
    "        mCA_type = 'gain'\n",
    "    if mCA[-1]=='-':\n",
    "        mCA_type = 'loss'\n",
    "    if mCA[-1]=='=':\n",
    "        mCA_type = 'CNLOH'\n",
    "    \n",
    "    plt.tight_layout()\n",
    "#     plt.savefig('Figures/P_value_plots_age_dependence_deviation/'+mCA_type+'_'+mCA+'_age_dependence_deviation_distribution_differences_p_value_calculation_at_least_1_mCA.pdf')\n",
    "    \n",
    "    plt.show()\n",
    "    print()\n",
    "    return p_val, lower_CI_difference, upper_CI_difference"
   ]
  },
  {
   "cell_type": "code",
   "execution_count": 87,
   "id": "ff0d10e4",
   "metadata": {
    "ExecuteTime": {
     "end_time": "2023-08-14T17:33:55.290636Z",
     "start_time": "2023-08-14T17:33:55.265733Z"
    },
    "code_folding": []
   },
   "outputs": [],
   "source": [
    "def observed_expected_heatmaps_confidence_intervals_p_values_custom_range_multimCAs(mCA, df_single_mCAs, sex_specific_s_mu_dict, fmin, sex, heatmap_grid_limits):\n",
    "        \n",
    "    #Step 1: Get dictionaries of observed and expected frequencies (2 dictionaries e.g.: observed = {45: 0, 55: 0.001, 65: 0.002}, expected = {45: 0.001, 55: 0.002, 65: 0.003})\n",
    "    observed, expected = observed_and_expected_frequencies_by_age_sex_multimCAs(mCA, df_single_mCAs, sex_specific_s_mu_dict, fmin, sex)\n",
    "    \n",
    "    #Step 2: Create a list of the ages to exclude from the gradient fit (exclude age groups from the fit if the observed frequency in that age group is 0), e.g. [45.0]\n",
    "    ages_to_exclude_list = age_group_to_exclude(observed)\n",
    "    print('ages to exclude = ', ages_to_exclude_list)\n",
    "    \n",
    "    #Step 3: Calculate the line of best fit (y = mx+c) through the observed and expected datapoints, using heatmaps\n",
    "    observed_m_range = (heatmap_grid_limits[mCA]['observed m lower'], heatmap_grid_limits[mCA]['observed m higher'])\n",
    "    observed_c_range = (heatmap_grid_limits[mCA]['observed c lower'], heatmap_grid_limits[mCA]['observed c higher'])\n",
    "    expected_m_range = (heatmap_grid_limits[mCA]['expected m lower'], heatmap_grid_limits[mCA]['expected m higher'])\n",
    "    expected_c_range = (heatmap_grid_limits[mCA]['expected c lower'], heatmap_grid_limits[mCA]['expected c higher'])\n",
    "    \n",
    "    observed_xyz, observed_m, observed_c, obs_m_initial, obs_c_initial = heatmap_line_best_fit_custom_range(observed, 'observed', sex, mCA, ages_to_exclude_list, observed_m_range, observed_c_range)\n",
    "    expected_xyz, expected_m, expected_c, exp_m_initial, exp_c_initial = heatmap_line_best_fit_custom_range(expected, 'expected', sex, mCA, ages_to_exclude_list, expected_m_range, expected_c_range)\n",
    "    \n",
    "    #Step 4: Plot the heatmaps\n",
    "    plot_heatmaps_multimCAs(observed_xyz, expected_xyz, observed_m, observed_c, expected_m, expected_c, mCA, sex)\n",
    "    \n",
    "    #Step 5: Plot the lines of best fit\n",
    "    plot_lines_best_fit_multimCAs(observed, expected, observed_m, observed_c, expected_m, expected_c, obs_m_initial, obs_c_initial, exp_m_initial, exp_c_initial, mCA, sex)\n",
    "    \n",
    "    #Step 6: Plot the confidence intervals for the observed and expected gradients\n",
    "    observed_min_m, observed_max_m, expected_min_m, expected_max_m, observed_m_list, observed_probs_list, expected_m_list, expected_probs_list = confidence_intervals_plots_multimCAs(observed_xyz, expected_xyz, mCA, mCA, sex)\n",
    "    \n",
    "    #Step 7:  \n",
    "    expected_m_probs_list = [expected_m_list, expected_probs_list]\n",
    "    observed_m_probs_list = [observed_m_list, observed_probs_list]\n",
    "    p_val, lower_CI_difference, upper_CI_difference = calculate_distribution_of_differences_CIs_p_values_multimCAs(mCA, expected_m, observed_m, expected_m_probs_list, observed_m_probs_list, sex)\n",
    "    \n",
    "    gradient_difference = abs(expected_m-observed_m)\n",
    "    gradient_relative_difference = (observed_m-expected_m)/expected_m\n",
    "    \n",
    "    return {'expected_gradient': expected_m, 'observed_gradient': observed_m, 'gradient_difference': gradient_difference, 'gradient_relative_difference': gradient_relative_difference, 'lower_CI_difference': lower_CI_difference, 'upper_CI_difference': upper_CI_difference, 'p_value': p_val}"
   ]
  },
  {
   "cell_type": "markdown",
   "id": "3d67b08d",
   "metadata": {},
   "source": [
    "## Functions for plotting degree of deviation in age dependence"
   ]
  },
  {
   "cell_type": "code",
   "execution_count": 88,
   "id": "7c3352f6",
   "metadata": {
    "ExecuteTime": {
     "end_time": "2023-08-14T17:33:55.892086Z",
     "start_time": "2023-08-14T17:33:55.852514Z"
    },
    "code_folding": [
     0
    ]
   },
   "outputs": [],
   "source": [
    "def plot_deviation_from_expected_age_dependence(mCA_type, sorted_gradients_diff_dicts, differences_dict, ax):\n",
    "    x = [] #mCA name\n",
    "    y1 = [] #male\n",
    "    y2 = [] #female\n",
    "    colors_female = []\n",
    "    colors_male = []\n",
    "    significant_differences = {}\n",
    "    mCA_y_dict = {}\n",
    "\n",
    "    for mCA in sorted_gradients_diff_dicts.keys(): #sorted from biggest age dependence deviation to smallest\n",
    "        if mCA[-1]==mCA_type:\n",
    "            male_expected_gradient = differences_dict[mCA+'_male']['expected_gradient']\n",
    "            male_observed_gradient = differences_dict[mCA+'_male']['observed_gradient']\n",
    "            relative_difference_gradient_male = differences_dict[mCA+'_male']['gradient_relative_difference']\n",
    "            male_p_value = differences_dict[mCA+'_male']['p_value']\n",
    "            \n",
    "            female_expected_gradient = differences_dict[mCA+'_female']['expected_gradient']\n",
    "            female_observed_gradient = differences_dict[mCA+'_female']['observed_gradient']\n",
    "            relative_difference_gradient_female = differences_dict[mCA+'_female']['gradient_relative_difference']\n",
    "            female_p_value = differences_dict[mCA+'_female']['p_value']\n",
    "\n",
    "            x.append(mCA)\n",
    "            y1.append(relative_difference_gradient_male)\n",
    "            y2.append(relative_difference_gradient_female)\n",
    "            mCA_y_dict[mCA]={'male': relative_difference_gradient_male, 'female': relative_difference_gradient_female}\n",
    "\n",
    "            if mCA[-1]=='+':\n",
    "                colors_female.append(female_gain_color)\n",
    "                colors_male.append(male_gain_color)\n",
    "            if mCA[-1]=='-':\n",
    "                colors_female.append(female_loss_color)\n",
    "                colors_male.append(male_loss_color)\n",
    "            if mCA[-1]=='=':\n",
    "                colors_female.append(female_neutral_color)\n",
    "                colors_male.append(male_neutral_color)\n",
    "                \n",
    "            if female_p_value <0.05:\n",
    "                significant_differences[mCA]=['female']\n",
    "            if male_p_value <0.05:\n",
    "                if mCA in significant_differences.keys():\n",
    "                    significant_differences[mCA].append('male')\n",
    "                else:\n",
    "                    significant_differences[mCA]=['male']\n",
    "\n",
    "    width = 0.35\n",
    "    x_vals = []\n",
    "    significant_x_vals = []\n",
    "    significant_y_vals = []\n",
    "    for a, b in enumerate(x):\n",
    "        x_vals.append(a)\n",
    "        if b in significant_differences.keys():\n",
    "            if 'male' in significant_differences[b]:\n",
    "                significant_x_vals.append(a-width/2)\n",
    "                relative_diff = mCA_y_dict[b]['male']\n",
    "                if relative_diff >0:\n",
    "                    significant_y_vals.append(relative_diff+0.4)\n",
    "                else:\n",
    "                    significant_y_vals.append(relative_diff-0.4)\n",
    "            if 'female' in significant_differences[b]:\n",
    "                significant_x_vals.append(a+width/2)\n",
    "                relative_diff = mCA_y_dict[b]['female']\n",
    "                if relative_diff >0:\n",
    "                    significant_y_vals.append(relative_diff+0.4)\n",
    "                else:\n",
    "                    significant_y_vals.append(relative_diff-0.4)\n",
    "\n",
    "    ax.bar([x1 - width/2 for x1 in x_vals], y1, width, label='Men', color = colors_male, alpha = 0.9, zorder = 50)\n",
    "    ax.bar([x1 + width/2 for x1 in x_vals], y2, width, label='Women', color = colors_female, alpha = 0.9, zorder = 50)\n",
    "    ax.scatter(significant_x_vals, significant_y_vals, s = 50, marker = (5, 2, 0), color = 'k', zorder = 50)\n",
    "    \n",
    "    ax.set_xticks(x_vals)\n",
    "    ax.set_xticklabels(x, fontsize = 16)\n",
    "\n",
    "    return ax"
   ]
  },
  {
   "cell_type": "code",
   "execution_count": 89,
   "id": "51134b85",
   "metadata": {
    "ExecuteTime": {
     "end_time": "2023-08-14T17:33:56.424920Z",
     "start_time": "2023-08-14T17:33:56.400909Z"
    },
    "code_folding": [
     0
    ]
   },
   "outputs": [],
   "source": [
    "def plot_fitness_effect(mCA_type, sorted_gradients_diff_dicts, sex_specific_s_mu_dict, ax):\n",
    "    x = [] #mCA name\n",
    "    y1 = [] #male\n",
    "    y2 = [] #female\n",
    "    colors_female = []\n",
    "    colors_male = []\n",
    "    significant_differences = {}\n",
    "    mCA_y_dict = {}\n",
    "\n",
    "    for mCA in sorted_gradients_diff_dicts.keys(): #sorted from biggest age dependence deviation to smallest\n",
    "        if mCA[-1]==mCA_type:\n",
    "            male_s = float(sex_specific_s_mu_dict[mCA]['male_s'])*100\n",
    "            female_s = float(sex_specific_s_mu_dict[mCA]['female_s'])*100\n",
    "\n",
    "            x.append(mCA)\n",
    "            y1.append(male_s)\n",
    "            y2.append(female_s)\n",
    "            \n",
    "            if mCA[-1]=='+':\n",
    "                colors_female.append(female_gain_color)\n",
    "                colors_male.append(male_gain_color)\n",
    "            if mCA[-1]=='-':\n",
    "                colors_female.append(female_loss_color)\n",
    "                colors_male.append(male_loss_color)\n",
    "            if mCA[-1]=='=':\n",
    "                colors_female.append(female_neutral_color)\n",
    "                colors_male.append(male_neutral_color)\n",
    "\n",
    "\n",
    "    width = 0.35\n",
    "    x_vals = []\n",
    "    for a, b in enumerate(x):\n",
    "        x_vals.append(a)\n",
    "\n",
    "    ax.scatter([x1 - width/2 for x1 in x_vals], y1, s = 50, label='Men', color = colors_male, alpha = 0.9, zorder = 50)\n",
    "    ax.scatter([x1 + width/2 for x1 in x_vals], y2, s = 50, label='Women', color = colors_female, alpha = 0.9, zorder = 50)\n",
    "    \n",
    "    ax.set_xticks(x_vals)\n",
    "    ax.set_xticklabels(x, fontsize = 16)\n",
    "\n",
    "    return ax"
   ]
  },
  {
   "cell_type": "markdown",
   "id": "f5ed2cd1",
   "metadata": {},
   "source": [
    "# Deviation from expected age dependence (Figure 3d)"
   ]
  },
  {
   "cell_type": "code",
   "execution_count": 90,
   "id": "c373d2e5",
   "metadata": {
    "ExecuteTime": {
     "end_time": "2023-08-14T17:33:57.162259Z",
     "start_time": "2023-08-14T17:33:57.156859Z"
    }
   },
   "outputs": [],
   "source": [
    "gradients_dict={}\n",
    "gradients_relative_dif_dict = {}"
   ]
  },
  {
   "cell_type": "code",
   "execution_count": 124,
   "id": "daf41d6a",
   "metadata": {
    "ExecuteTime": {
     "end_time": "2023-08-16T13:35:00.909278Z",
     "start_time": "2023-08-16T13:35:00.865124Z"
    },
    "code_folding": [],
    "scrolled": true
   },
   "outputs": [],
   "source": [
    "for mCA in gains_30_or_more:\n",
    "    fmin = mCA_specfic_fmin(mCA, df_single_mCAs)\n",
    "\n",
    "    male_grid_limits = grid_limits(mCA, 'M')\n",
    "    male = observed_expected_heatmaps_confidence_intervals_p_values_custom_range(mCA, df_single_mCAs, sex_specific_s_mu_dict, fmin, 'M', male_grid_limits)\n",
    "\n",
    "    female_grid_limits = grid_limits(mCA, 'F')\n",
    "    female = observed_expected_heatmaps_confidence_intervals_p_values_custom_range(mCA, df_single_mCAs, sex_specific_s_mu_dict, fmin, 'F', female_grid_limits)\n",
    "\n",
    "    now = datetime.now()\n",
    "    dt_string = now.strftime(\"%d/%m/%Y %H:%M:%S\")\n",
    "    \n",
    "    mCA_deviation_results = open('Data_files/mCA_age_dependence_deviation.txt', 'a') #'a' means append to the file, rather than overwrite it\n",
    "    mCA_deviation_results.write(dt_string+'\\t'+mCA+'\\t'+'male'+'\\t'+str(male['expected_gradient'])+'\\t'+str(male['observed_gradient'])+'\\t'+\n",
    "                                str(male['gradient_difference'])+'\\t'+str(male['gradient_relative_difference'])+'\\t'+\n",
    "                                str(male['lower_CI_difference'])+'\\t'+str(male['upper_CI_difference'])+'\\t'+str(male['p_value'])+'\\n')\n",
    "    mCA_deviation_results.write(dt_string+'\\t'+mCA+'\\t'+'female'+'\\t'+str(female['expected_gradient'])+'\\t'+str(female['observed_gradient'])+'\\t'+\n",
    "                                str(female['gradient_difference'])+'\\t'+str(female['gradient_relative_difference'])+'\\t'+\n",
    "                                str(female['lower_CI_difference'])+'\\t'+str(female['upper_CI_difference'])+'\\t'+str(female['p_value'])+'\\n')\n",
    "    \n",
    "    mCA_deviation_results.close()\n",
    "    \n",
    "    gradients_dict[mCA]={}\n",
    "    gradients_dict[mCA]['male']=male\n",
    "    gradients_dict[mCA]['female']=female\n",
    "    gradients_relative_dif_dict[mCA]=max([abs(male['gradient_relative_difference']), abs(female['gradient_relative_difference'])])"
   ]
  },
  {
   "cell_type": "code",
   "execution_count": 125,
   "id": "2cf584a6",
   "metadata": {
    "ExecuteTime": {
     "end_time": "2023-08-16T13:35:09.480676Z",
     "start_time": "2023-08-16T13:35:09.472685Z"
    },
    "code_folding": [
     0
    ],
    "scrolled": true
   },
   "outputs": [],
   "source": [
    "for mCA in losses_30_or_more:\n",
    "    fmin = mCA_specfic_fmin(mCA, df_single_mCAs)\n",
    "\n",
    "    male_grid_limits = grid_limits(mCA, 'M')\n",
    "    male = observed_expected_heatmaps_confidence_intervals_p_values_custom_range(mCA, df_single_mCAs, sex_specific_s_mu_dict, fmin, 'M', male_grid_limits)\n",
    "\n",
    "    female_grid_limits = grid_limits(mCA, 'F')\n",
    "    female = observed_expected_heatmaps_confidence_intervals_p_values_custom_range(mCA, df_single_mCAs, sex_specific_s_mu_dict, fmin, 'F', female_grid_limits)\n",
    "\n",
    "    now = datetime.now()\n",
    "    dt_string = now.strftime(\"%d/%m/%Y %H:%M:%S\")\n",
    "    \n",
    "    mCA_deviation_results = open('Data_files/mCA_age_dependence_deviation.txt', 'a') #'a' means append to the file, rather than overwrite it\n",
    "    mCA_deviation_results.write(dt_string+'\\t'+mCA+'\\t'+'male'+'\\t'+str(male['expected_gradient'])+'\\t'+str(male['observed_gradient'])+'\\t'+\n",
    "                                str(male['gradient_difference'])+'\\t'+str(male['gradient_relative_difference'])+'\\t'+\n",
    "                                str(male['lower_CI_difference'])+'\\t'+str(male['upper_CI_difference'])+'\\t'+str(male['p_value'])+'\\n')\n",
    "    mCA_deviation_results.write(dt_string+'\\t'+mCA+'\\t'+'female'+'\\t'+str(female['expected_gradient'])+'\\t'+str(female['observed_gradient'])+'\\t'+\n",
    "                                str(female['gradient_difference'])+'\\t'+str(female['gradient_relative_difference'])+'\\t'+\n",
    "                                str(female['lower_CI_difference'])+'\\t'+str(female['upper_CI_difference'])+'\\t'+str(female['p_value'])+'\\n')\n",
    "    \n",
    "    mCA_deviation_results.close()\n",
    "    \n",
    "    gradients_dict[mCA]={}\n",
    "    gradients_dict[mCA]['male']=male\n",
    "    gradients_dict[mCA]['female']=female\n",
    "    gradients_relative_dif_dict[mCA]=max([abs(male['gradient_relative_difference']), abs(female['gradient_relative_difference'])])"
   ]
  },
  {
   "cell_type": "code",
   "execution_count": 126,
   "id": "bfaba909",
   "metadata": {
    "ExecuteTime": {
     "end_time": "2023-08-16T13:35:15.256616Z",
     "start_time": "2023-08-16T13:35:15.248536Z"
    },
    "code_folding": [
     0
    ],
    "scrolled": true
   },
   "outputs": [],
   "source": [
    "for mCA in CNLOH_30_or_more:\n",
    "    print(mCA)\n",
    "    fmin = mCA_specfic_fmin(mCA, df_single_mCAs)\n",
    "\n",
    "    male_grid_limits = grid_limits(mCA, 'M')\n",
    "    male = observed_expected_heatmaps_confidence_intervals_p_values_custom_range(mCA, df_single_mCAs, sex_specific_s_mu_dict, fmin, 'M', male_grid_limits)\n",
    "\n",
    "    female_grid_limits = grid_limits(mCA, 'F')\n",
    "    female = observed_expected_heatmaps_confidence_intervals_p_values_custom_range(mCA, df_single_mCAs, sex_specific_s_mu_dict, fmin, 'F', female_grid_limits)\n",
    "\n",
    "    now = datetime.now()\n",
    "    dt_string = now.strftime(\"%d/%m/%Y %H:%M:%S\")\n",
    "    \n",
    "    mCA_deviation_results = open('Data_files/mCA_age_dependence_deviation.txt', 'a') #'a' means append to the file, rather than overwrite it\n",
    "    mCA_deviation_results.write(dt_string+'\\t'+mCA+'\\t'+'male'+'\\t'+str(male['expected_gradient'])+'\\t'+str(male['observed_gradient'])+'\\t'+\n",
    "                                str(male['gradient_difference'])+'\\t'+str(male['gradient_relative_difference'])+'\\t'+\n",
    "                                str(male['lower_CI_difference'])+'\\t'+str(male['upper_CI_difference'])+'\\t'+str(male['p_value'])+'\\n')\n",
    "    mCA_deviation_results.write(dt_string+'\\t'+mCA+'\\t'+'female'+'\\t'+str(female['expected_gradient'])+'\\t'+str(female['observed_gradient'])+'\\t'+\n",
    "                                str(female['gradient_difference'])+'\\t'+str(female['gradient_relative_difference'])+'\\t'+\n",
    "                                str(female['lower_CI_difference'])+'\\t'+str(female['upper_CI_difference'])+'\\t'+str(female['p_value'])+'\\n')\n",
    "    \n",
    "    mCA_deviation_results.close()\n",
    "    \n",
    "    gradients_dict[mCA]={}\n",
    "    gradients_dict[mCA]['male']=male\n",
    "    gradients_dict[mCA]['female']=female\n",
    "    gradients_relative_dif_dict[mCA]=max([abs(male['gradient_relative_difference']), abs(female['gradient_relative_difference'])])"
   ]
  },
  {
   "cell_type": "code",
   "execution_count": 97,
   "id": "010fc547",
   "metadata": {
    "ExecuteTime": {
     "end_time": "2023-08-14T21:01:05.261712Z",
     "start_time": "2023-08-14T21:01:05.238971Z"
    }
   },
   "outputs": [],
   "source": [
    "#import data for each mCA (or use dictionary created above)\n",
    "differences = pd.read_csv('Data_files/mCA_age_dependence_deviation.txt', sep = '\\t')\n",
    "differences['mCA_sex']=differences['mCA']+'_'+differences['sex']\n",
    "differences = differences.set_index('mCA_sex')\n",
    "differences_dict = pd.DataFrame.to_dict(differences, orient = 'index')"
   ]
  },
  {
   "cell_type": "code",
   "execution_count": 98,
   "id": "e3974c84",
   "metadata": {
    "ExecuteTime": {
     "end_time": "2023-08-14T21:01:07.341425Z",
     "start_time": "2023-08-14T21:01:07.332234Z"
    },
    "scrolled": true
   },
   "outputs": [],
   "source": [
    "#create a dictionary of relative differences for each mCA (where the stored relative difference is the largest of the male and female for that mCA)\n",
    "gradients_relative_difference_dict = {}\n",
    "for k, v in differences_dict.items():\n",
    "    mCA = v['mCA']\n",
    "    sex = v['sex']\n",
    "    gradient_relative_difference = abs(v['gradient_relative_difference'])\n",
    "    if mCA in gradients_relative_difference_dict.keys():\n",
    "        other_sex_result = gradients_relative_difference_dict[mCA]\n",
    "        gradients_relative_difference_dict[mCA]=max([gradient_relative_difference, other_sex_result])\n",
    "    else:\n",
    "        gradients_relative_difference_dict[mCA]=gradient_relative_difference"
   ]
  },
  {
   "cell_type": "code",
   "execution_count": 99,
   "id": "fbb9206f",
   "metadata": {
    "ExecuteTime": {
     "end_time": "2023-08-14T21:01:08.642575Z",
     "start_time": "2023-08-14T21:01:08.636607Z"
    },
    "scrolled": true
   },
   "outputs": [],
   "source": [
    "#Sort the mCAs from mCA with lowest deviation from expected, to highest\n",
    "sorted_gradients_diff_dicts = {k: v for k, v in sorted(gradients_relative_difference_dict.items(), key=lambda item: item[1], reverse = False)}"
   ]
  },
  {
   "cell_type": "code",
   "execution_count": 123,
   "id": "6815693a",
   "metadata": {
    "ExecuteTime": {
     "end_time": "2023-08-14T23:38:27.964204Z",
     "start_time": "2023-08-14T23:38:19.977093Z"
    },
    "code_folding": []
   },
   "outputs": [
    {
     "data": {
      "image/png": "[encoded data removed]",
      "text/plain": [
       "<Figure size 2000x800 with 3 Axes>"
      ]
     },
     "metadata": {},
     "output_type": "display_data"
    }
   ],
   "source": [
    "# Plot the deviation from the expected age dependence\n",
    "fig, axes= plt.subplots(1, 3, figsize = (20, 8), sharey = True, gridspec_kw={'width_ratios': [6.6, 9.255, 26.8]})\n",
    "\n",
    "ax1 = axes[0]\n",
    "ax2 = axes[1]\n",
    "ax3 = axes[2]\n",
    "\n",
    "plot_deviation_from_expected_age_dependence('+', sorted_gradients_diff_dicts, differences_dict, ax1)\n",
    "plot_deviation_from_expected_age_dependence('-', sorted_gradients_diff_dicts, differences_dict, ax2)\n",
    "plot_deviation_from_expected_age_dependence('=', sorted_gradients_diff_dicts, differences_dict, ax3)\n",
    "\n",
    "for ax in axes.flatten():\n",
    "    ax.tick_params(axis='x', labelrotation = 90)\n",
    "    ax.tick_params(axis = 'both', which = 'major', color = grey4)\n",
    "    ax.tick_params(axis='x', which='minor', bottom=False)\n",
    "    ax.spines['bottom'].set_visible(False)\n",
    "    ax.grid(zorder = 0, axis = 'y')\n",
    "    ax.yaxis.set_major_locator(ticker.MultipleLocator(1))\n",
    "    \n",
    "ax1.set_ylabel('relative deviation from expected \\nage dependence', fontsize = 18)\n",
    "ax1.set_ylim(-2.5, 5.5)\n",
    "ax1.set_xlim(-1, 6)\n",
    "ax2.set_xlim(-1, 9)\n",
    "ax3.set_xlim(-1, 28)\n",
    "\n",
    "ax1.tick_params(axis='x', which='both',length=0)\n",
    "ax2.tick_params(axis='both', which='both',length=0)\n",
    "ax3.tick_params(axis='both', which='both',length=0)\n",
    "\n",
    "ax2.spines['left'].set_visible(False)\n",
    "ax3.spines['left'].set_visible(False)\n",
    "\n",
    "ax1.plot([-1, 6], [0, 0], color = grey4, lw = 2, zorder = 60)\n",
    "ax2.plot([-1, 9], [0, 0], color = grey4, lw = 2, zorder = 60)\n",
    "ax3.plot([-1, 79], [0, 0], color = grey4, lw = 2, zorder = 60)\n",
    "    \n",
    "ax1.tick_params(axis='y', labelsize=16)\n",
    "    \n",
    "plt.tight_layout()\n",
    "plt.savefig('Figures/Figure_3d_Deviation_from_expected_age_dependence.pdf')\n",
    "plt.show()"
   ]
  },
  {
   "cell_type": "markdown",
   "id": "c9e14605",
   "metadata": {},
   "source": [
    "## Can decline in prevalence with age for some mCAs be explained by acquisition of additional mCAs? (Supplementary Figure 19)"
   ]
  },
  {
   "cell_type": "code",
   "execution_count": 102,
   "id": "28a4cec9",
   "metadata": {
    "ExecuteTime": {
     "end_time": "2023-08-14T21:02:55.528525Z",
     "start_time": "2023-08-14T21:02:55.516225Z"
    },
    "scrolled": true
   },
   "outputs": [],
   "source": [
    "# Create a list of the mCAs that have the worst age dependence (i.e. negative age dependence)\n",
    "negative_gradient_relative_differences = []\n",
    "\n",
    "for mCA in gains_30_or_more+losses_30_or_more+CNLOH_30_or_more:\n",
    "    gradient_relative_difference_men = differences_dict[mCA+'_male']['gradient_relative_difference']\n",
    "    gradient_relative_difference_women = differences_dict[mCA+'_female']['gradient_relative_difference']\n",
    "    if gradient_relative_difference_men <0:\n",
    "        male_p_value = differences_dict[mCA+'_male']['p_value']\n",
    "        if male_p_value<0.05:\n",
    "            negative_gradient_relative_differences.append((mCA, 'M', gradient_relative_difference_men))\n",
    "    if gradient_relative_difference_women <0:\n",
    "        female_p_value = differences_dict[mCA+'_female']['p_value']\n",
    "        if female_p_value<0.05:\n",
    "            negative_gradient_relative_differences.append((mCA, 'F', gradient_relative_difference_women))\n",
    "    \n",
    "negative_gradient_relative_differences_sorted = sorted(negative_gradient_relative_differences, key=lambda item: item[2])"
   ]
  },
  {
   "cell_type": "code",
   "execution_count": 127,
   "id": "9d4e377c",
   "metadata": {
    "ExecuteTime": {
     "end_time": "2023-08-16T13:35:34.659974Z",
     "start_time": "2023-08-16T13:35:34.655407Z"
    },
    "code_folding": [],
    "scrolled": true
   },
   "outputs": [],
   "source": [
    "#Calculate the deviation in age dependence when allowing additional mCAS\n",
    "gradients_dict_multimCAs = {}\n",
    "gradients_multi_relative_dif_dict = {}\n",
    "for (mCA, sex, gradient) in negative_gradient_relative_differences_sorted:\n",
    "    fmin = mCA_specfic_fmin(mCA, df_single_mCAs)\n",
    "    \n",
    "    grid_lims = grid_limits_multimCAs(mCA, sex)\n",
    "    age_dep = observed_expected_heatmaps_confidence_intervals_p_values_custom_range_multimCAs(mCA, df_biobank, sex_specific_s_mu_dict, fmin, sex, grid_lims)\n",
    "\n",
    "    now = datetime.now()\n",
    "    dt_string = now.strftime(\"%d/%m/%Y %H:%M:%S\")\n",
    "    \n",
    "    if sex == 'M':\n",
    "        sex_written = 'male'\n",
    "    if sex == 'F':\n",
    "        sex_written = 'female'\n",
    "\n",
    "    mCA_deviation_results_multimCAs = open('Data_files/mCA_age_dependence_deviation_with_additional_mCAs.txt', 'a') #'a' means append to the file, rather than overwrite it\n",
    "    mCA_deviation_results_multimCAs.write(dt_string+'\\t'+mCA+'\\t'+sex_written+'\\t'+str(age_dep['expected_gradient'])+'\\t'+str(age_dep['observed_gradient'])+'\\t'+\n",
    "                                str(age_dep['gradient_difference'])+'\\t'+str(age_dep['gradient_relative_difference'])+'\\t'+\n",
    "                                str(age_dep['lower_CI_difference'])+'\\t'+str(age_dep['upper_CI_difference'])+'\\t'+str(age_dep['p_value'])+'\\n')\n",
    "    mCA_deviation_results_multimCAs.close()\n",
    "    \n",
    "    gradients_dict_multimCAs[mCA]={}\n",
    "    gradients_dict_multimCAs[mCA][sex_written]=age_dep    \n",
    "    gradients_multi_relative_dif_dict[mCA]=abs(age_dep['gradient_relative_difference'])"
   ]
  },
  {
   "cell_type": "code",
   "execution_count": 106,
   "id": "f8bae478",
   "metadata": {
    "ExecuteTime": {
     "end_time": "2023-08-14T22:37:00.148891Z",
     "start_time": "2023-08-14T22:37:00.122553Z"
    }
   },
   "outputs": [],
   "source": [
    "#import data for each mCA (or use data from dictionary above)\n",
    "differences_multi = pd.read_csv('Data_files/mCA_age_dependence_deviation_with_additional_mCAs.txt', sep = '\\t')\n",
    "differences_multi['mCA_sex']=differences_multi['mCA']+'_'+differences_multi['sex']\n",
    "differences_multi = differences_multi.set_index('mCA_sex')\n",
    "differences_multi_dict = pd.DataFrame.to_dict(differences_multi, orient = 'index')"
   ]
  },
  {
   "cell_type": "code",
   "execution_count": 107,
   "id": "f3a0eaa8",
   "metadata": {
    "ExecuteTime": {
     "end_time": "2023-08-14T22:37:02.605573Z",
     "start_time": "2023-08-14T22:37:02.594047Z"
    }
   },
   "outputs": [],
   "source": [
    "#create a dictionary of relative differences for each mCA (where the stored relative difference is the largest of the male and female for that mCA)\n",
    "gradients_multi_relative_difference_dict = {}\n",
    "for k, v in differences_multi_dict.items():\n",
    "    mCA = v['mCA']\n",
    "    sex = v['sex']\n",
    "    gradient_relative_difference = abs(v['gradient_relative_difference'])\n",
    "    if mCA in gradients_multi_relative_difference_dict.keys():\n",
    "        other_sex_result = gradients_multi_relative_difference_dict[mCA]\n",
    "        gradients_multi_relative_difference_dict[mCA]=max([gradient_relative_difference, other_sex_result])\n",
    "    else:\n",
    "        gradients_multi_relative_difference_dict[mCA]=gradient_relative_difference"
   ]
  },
  {
   "cell_type": "code",
   "execution_count": 111,
   "id": "b1428232",
   "metadata": {
    "ExecuteTime": {
     "end_time": "2023-08-14T22:43:21.565927Z",
     "start_time": "2023-08-14T22:43:13.175509Z"
    },
    "code_folding": [
     7
    ]
   },
   "outputs": [
    {
     "data": {
      "image/png": "[encoded data removed]",
      "text/plain": [
       "<Figure size 1800x400 with 3 Axes>"
      ]
     },
     "metadata": {},
     "output_type": "display_data"
    }
   ],
   "source": [
    "# Plot the deviation from the expected age dependence - sort according to the original sorting (as for a single mCA)\n",
    "fig, axes= plt.subplots(1, 3, figsize = (18, 4), sharey = True, gridspec_kw={'width_ratios': [2.1, 3, 25.5]})\n",
    "\n",
    "ax1 = axes[0]\n",
    "ax2 = axes[1]\n",
    "ax3 = axes[2]\n",
    "\n",
    "def plot_age_dep(mCA_type, negative_gradient_relative_differences_sorted, differences_multi_dict, ax):\n",
    "    x = []\n",
    "    colors = []\n",
    "    y1 = []\n",
    "    y2 = []\n",
    "    sigy1 = []\n",
    "    sigy2 = []\n",
    "    sigx1 = []\n",
    "    sigx2 = []\n",
    "    \n",
    "    n=0\n",
    "    for (mCA, sex, neg_diff) in negative_gradient_relative_differences_sorted:\n",
    "        if mCA[-1]==mCA_type:\n",
    "#             print(mCA)\n",
    "            x.append(mCA+' ('+sex+')')\n",
    "            if sex == 'M':\n",
    "                multi_relative_difference_gradient = differences_multi_dict[mCA+'_male']['gradient_relative_difference']\n",
    "                multi_p_value = differences_multi_dict[mCA+'_male']['p_value']\n",
    "                single_relative_difference_gradient = differences_dict[mCA+'_male']['gradient_relative_difference']\n",
    "                single_p_value = differences_dict[mCA+'_male']['p_value']\n",
    "                y1.append(single_relative_difference_gradient)\n",
    "                y2.append(multi_relative_difference_gradient)\n",
    "                colors.append(colors_dict_mCAs[mCA[-1]]['male'])\n",
    "                if single_p_value <0.05:\n",
    "                    sigy1.append(single_relative_difference_gradient-0.4)\n",
    "                    sigx1.append(n-(0.35/2))\n",
    "                if multi_p_value <0.05:\n",
    "                    sigy2.append(multi_relative_difference_gradient-0.4)\n",
    "                    sigx2.append(n+(0.35/2))\n",
    "            if sex == 'F':\n",
    "                multi_relative_difference_gradient = differences_multi_dict[mCA+'_female']['gradient_relative_difference']\n",
    "                multi_p_value = differences_multi_dict[mCA+'_female']['p_value']            \n",
    "                single_relative_difference_gradient = differences_dict[mCA+'_female']['gradient_relative_difference']\n",
    "                single_p_value = differences_dict[mCA+'_female']['p_value']\n",
    "                y1.append(single_relative_difference_gradient)\n",
    "                y2.append(multi_relative_difference_gradient)\n",
    "                colors.append(colors_dict_mCAs[mCA[-1]]['female'])\n",
    "                if single_p_value <0.05:\n",
    "                    sigy1.append(single_relative_difference_gradient-0.4)\n",
    "                    sigx1.append(n-(0.35/2))\n",
    "                if multi_p_value <0.05:\n",
    "                    sigy2.append(multi_relative_difference_gradient-0.4)\n",
    "                    sigx2.append(n+(0.35/2))\n",
    "            n+=1\n",
    "            \n",
    "    width = 0.35\n",
    "    x_vals = []\n",
    "    for a, b in enumerate(x):\n",
    "        x_vals.append(a) #convert mCA to a number\n",
    "        \n",
    "    ax.bar([(x1 - width/2)-0 for x1 in x_vals], y1, width, label='single mCA', color = colors, alpha = 0.9, zorder = 50, edgecolor = 'k', lw =0.5)\n",
    "    bars2 = ax.bar([(x1 + width/2)+0 for x1 in x_vals], y2, width, label='including multiple mCAs', color = colors, alpha = 0.9, zorder = 50, edgecolor = 'k', lw =0.5)\n",
    "#     ax.scatter(sigx1, sigy1, s = 50, marker = (5, 2, 0), color = 'k', zorder = 50)\n",
    "#     ax.scatter(sigx2, sigy2, s = 50, marker = (5, 2, 0), color = 'k', zorder = 50)\n",
    "    \n",
    "    ax.scatter(sigx1, [-1.45 for i in sigy1], s = 50, marker = (5, 2, 0), color = 'k', zorder = 50)\n",
    "    ax.scatter(sigx2, [-1.45 for i in sigy2], s = 50, marker = (5, 2, 0), color = 'k', zorder = 50)\n",
    "    \n",
    "    for patch in bars2.patches:\n",
    "        patch.set_hatch('///')\n",
    "\n",
    "    ax.set_xticks(x_vals)\n",
    "    ax.set_xticklabels(x, fontsize = 16)\n",
    "    \n",
    "    return ax\n",
    "    \n",
    "plot_age_dep('+', negative_gradient_relative_differences_sorted, differences_multi_dict, ax1)\n",
    "plot_age_dep('-', negative_gradient_relative_differences_sorted, differences_multi_dict, ax2)\n",
    "plot_age_dep('=', negative_gradient_relative_differences_sorted, differences_multi_dict, ax3)\n",
    "\n",
    "for ax in axes.flatten():\n",
    "    ax.tick_params(axis='x', labelrotation = 90)\n",
    "    ax.tick_params(axis = 'both', which = 'major', color = grey4)\n",
    "    ax.tick_params(axis='x', which='minor', bottom=False)\n",
    "    ax.spines['bottom'].set_visible(False)\n",
    "    ax.grid(zorder = 0, axis = 'y')\n",
    "    ax.yaxis.set_major_locator(ticker.MultipleLocator(1))\n",
    "    \n",
    "ax1.set_ylabel('relative deviation from \\nexpected age dependence', fontsize = 18)\n",
    "ax1.set_ylim(-2, 1)\n",
    "ax1.set_xlim(-0.5, 1.55)\n",
    "ax2.set_xlim(-0.5, 2.55)\n",
    "ax3.set_xlim(-0.5, 26.55)\n",
    "\n",
    "ax1.tick_params(axis='x', which='both',length=0)\n",
    "ax2.tick_params(axis='both', which='both',length=0)\n",
    "ax3.tick_params(axis='both', which='both',length=0)\n",
    "\n",
    "ax2.spines['left'].set_visible(False)\n",
    "ax3.spines['left'].set_visible(False)\n",
    "\n",
    "\n",
    "for i in range(0, 3):\n",
    "    ax1.plot([i-0.5, i-0.5], [-2, 1], color = grey4, lw = 1, linestyle = ':')\n",
    "for i in range(0, 6):\n",
    "    ax2.plot([i-0.5, i-0.5], [-2, 1], color = grey4, lw = 1, linestyle = ':')\n",
    "for i in range(0, 28):\n",
    "    ax3.plot([i-0.5, i-0.5], [-2, 1], color = grey4, lw = 1, linestyle = ':')\n",
    "\n",
    "ax1.plot([-0.5, 5.5], [0, 0], color = grey4, lw = 2, zorder = 60)\n",
    "ax2.plot([-0.5, 8.5], [0, 0], color = grey4, lw = 2, zorder = 60)\n",
    "ax3.plot([-0.5, 77.5], [0, 0], color = grey4, lw = 2, zorder = 60)\n",
    "    \n",
    "ax1.tick_params(axis='y', labelsize=16)\n",
    "    \n",
    "plt.tight_layout()\n",
    "plt.savefig('Figures/Supplement_deviation_from_expected_age_dependence_for_at_least_1_mCA.pdf')\n",
    "plt.show()"
   ]
  }
 ],
 "metadata": {
  "kernelspec": {
   "display_name": "Python 3 (ipykernel)",
   "language": "python",
   "name": "python3"
  },
  "language_info": {
   "codemirror_mode": {
    "name": "ipython",
    "version": 3
   },
   "file_extension": ".py",
   "mimetype": "text/x-python",
   "name": "python",
   "nbconvert_exporter": "python",
   "pygments_lexer": "ipython3",
   "version": "3.7.4"
  },
  "toc": {
   "base_numbering": 1,
   "nav_menu": {},
   "number_sections": true,
   "sideBar": true,
   "skip_h1_title": false,
   "title_cell": "Table of Contents",
   "title_sidebar": "Contents",
   "toc_cell": true,
   "toc_position": {
    "height": "calc(100% - 180px)",
    "left": "10px",
    "top": "150px",
    "width": "393.32720947265625px"
   },
   "toc_section_display": true,
   "toc_window_display": true
  }
 },
 "nbformat": 4,
 "nbformat_minor": 5
}
