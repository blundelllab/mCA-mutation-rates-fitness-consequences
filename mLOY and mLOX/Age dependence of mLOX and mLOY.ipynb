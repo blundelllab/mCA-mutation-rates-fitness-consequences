{
 "cells": [
  {
   "cell_type": "markdown",
   "id": "59dbc8b3",
   "metadata": {
    "toc": true
   },
   "source": [
    "<h1>Table of Contents<span class=\"tocSkip\"></span></h1>\n",
    "<div class=\"toc\"><ul class=\"toc-item\"><li><span><a href=\"#Notebook-setup\" data-toc-modified-id=\"Notebook-setup-1\"><span class=\"toc-item-num\">1&nbsp;&nbsp;</span>Notebook setup</a></span></li><li><span><a href=\"#Functions-for-plotting-age-dependence\" data-toc-modified-id=\"Functions-for-plotting-age-dependence-2\"><span class=\"toc-item-num\">2&nbsp;&nbsp;</span>Functions for plotting age dependence</a></span><ul class=\"toc-item\"><li><span><a href=\"#Single-fitness-effect-and-mutation-rate\" data-toc-modified-id=\"Single-fitness-effect-and-mutation-rate-2.1\"><span class=\"toc-item-num\">2.1&nbsp;&nbsp;</span>Single fitness effect and mutation rate</a></span></li><li><span><a href=\"#2-separate-fitness-effects-and-mutation-rates-(mLOX)\" data-toc-modified-id=\"2-separate-fitness-effects-and-mutation-rates-(mLOX)-2.2\"><span class=\"toc-item-num\">2.2&nbsp;&nbsp;</span>2 separate fitness effects and mutation rates (mLOX)</a></span></li></ul></li><li><span><a href=\"#Age-prevalence-of-mLOX-and-mLOY\" data-toc-modified-id=\"Age-prevalence-of-mLOX-and-mLOY-3\"><span class=\"toc-item-num\">3&nbsp;&nbsp;</span>Age prevalence of mLOX and mLOY</a></span><ul class=\"toc-item\"><li><span><a href=\"#mLOY\" data-toc-modified-id=\"mLOY-3.1\"><span class=\"toc-item-num\">3.1&nbsp;&nbsp;</span>mLOY</a></span></li><li><span><a href=\"#mLOX\" data-toc-modified-id=\"mLOX-3.2\"><span class=\"toc-item-num\">3.2&nbsp;&nbsp;</span>mLOX</a></span><ul class=\"toc-item\"><li><span><a href=\"#Age-dependence-assuming-mLOX-has-a-single-fitness-(s)-and-mutation-rate-(mu)\" data-toc-modified-id=\"Age-dependence-assuming-mLOX-has-a-single-fitness-(s)-and-mutation-rate-(mu)-3.2.1\"><span class=\"toc-item-num\">3.2.1&nbsp;&nbsp;</span>Age dependence assuming mLOX has a single fitness (s) and mutation rate (mu)</a></span></li><li><span><a href=\"#Age-dependence-for-mLOX-with-2-different-fitness-(s1,-s2)-and-mutation-rates-(mu1,-mu2)\" data-toc-modified-id=\"Age-dependence-for-mLOX-with-2-different-fitness-(s1,-s2)-and-mutation-rates-(mu1,-mu2)-3.2.2\"><span class=\"toc-item-num\">3.2.2&nbsp;&nbsp;</span>Age dependence for mLOX with 2 different fitness (s1, s2) and mutation rates (mu1, mu2)</a></span></li></ul></li><li><span><a href=\"#mLOY\" data-toc-modified-id=\"mLOY-3.3\"><span class=\"toc-item-num\">3.3&nbsp;&nbsp;</span>mLOY</a></span></li></ul></li><li><span><a href=\"#MLE-mLOX-with-2-s-and-2-mu\" data-toc-modified-id=\"MLE-mLOX-with-2-s-and-2-mu-4\"><span class=\"toc-item-num\">4&nbsp;&nbsp;</span>MLE mLOX with 2 s and 2 mu</a></span></li><li><span><a href=\"#X-chromosome-with-single-fit\" data-toc-modified-id=\"X-chromosome-with-single-fit-5\"><span class=\"toc-item-num\">5&nbsp;&nbsp;</span>X chromosome with single fit</a></span></li><li><span><a href=\"#Y-chromosome\" data-toc-modified-id=\"Y-chromosome-6\"><span class=\"toc-item-num\">6&nbsp;&nbsp;</span>Y chromosome</a></span></li></ul></div>"
   ]
  },
  {
   "cell_type": "code",
   "execution_count": 1,
   "id": "e9adcf5a",
   "metadata": {
    "ExecuteTime": {
     "end_time": "2023-06-25T09:11:43.615111Z",
     "start_time": "2023-06-25T09:11:43.602236Z"
    }
   },
   "outputs": [
    {
     "data": {
      "text/html": [
       "<style>.container { width:80% !important; }</style>"
      ],
      "text/plain": [
       "<IPython.core.display.HTML object>"
      ]
     },
     "metadata": {},
     "output_type": "display_data"
    }
   ],
   "source": [
    "from IPython.core.display import display, HTML\n",
    "display(HTML(\"<style>.container { width:80% !important; }</style>\"))"
   ]
  },
  {
   "cell_type": "markdown",
   "id": "3e176a74",
   "metadata": {},
   "source": [
    "# Notebook setup"
   ]
  },
  {
   "cell_type": "code",
   "execution_count": 38,
   "id": "87f33377",
   "metadata": {
    "ExecuteTime": {
     "end_time": "2023-06-25T10:01:33.080287Z",
     "start_time": "2023-06-25T10:01:33.077004Z"
    }
   },
   "outputs": [],
   "source": [
    "# imported packages\n",
    "import math\n",
    "import matplotlib\n",
    "import matplotlib.pyplot as plt\n",
    "import pandas as pd\n",
    "import numpy as np\n",
    "import scipy\n",
    "from scipy import integrate"
   ]
  },
  {
   "cell_type": "code",
   "execution_count": 34,
   "id": "019bd5eb",
   "metadata": {
    "ExecuteTime": {
     "end_time": "2023-06-25T10:00:58.064550Z",
     "start_time": "2023-06-25T10:00:58.060484Z"
    }
   },
   "outputs": [],
   "source": [
    "plt.style.use('cwpython.mplstyle') #use custom style file"
   ]
  },
  {
   "cell_type": "code",
   "execution_count": 4,
   "id": "bc40be84",
   "metadata": {
    "ExecuteTime": {
     "end_time": "2023-06-25T09:12:01.859409Z",
     "start_time": "2023-06-25T09:12:01.854054Z"
    },
    "code_folding": [
     0
    ]
   },
   "outputs": [],
   "source": [
    "#define the colors from colorbrewer2\n",
    "orange1 = '#feedde'\n",
    "orange2 = '#fdbe85'\n",
    "orange3 = '#fd8d3c'\n",
    "orange4 = '#e6550d'\n",
    "orange5 = '#a63603'\n",
    "blue1 = '#eff3ff'\n",
    "blue2 = '#bdd7e7'\n",
    "blue3 = '#6baed6'\n",
    "blue4 = '#3182bd'\n",
    "blue5 = '#08519c'\n",
    "green1 = '#edf8e9'\n",
    "green2 = '#bae4b3'\n",
    "green3 = '#74c476'\n",
    "green4 = '#31a354'\n",
    "green5 = '#006d2c'\n",
    "grey1 = '#f7f7f7'\n",
    "grey2 = '#cccccc'\n",
    "grey3 = '#969696'\n",
    "grey4 = '#636363'\n",
    "grey5 = '#252525'\n",
    "purple1 = '#f2f0f7'\n",
    "purple2 = '#cbc9e2'\n",
    "purple3 = '#9e9ac8'\n",
    "purple4 = '#756bb1'\n",
    "purple5 = '#54278f'\n",
    "red1 = '#fee5d9'\n",
    "red2 = '#fcae91'\n",
    "red3 = '#fb6a4a'\n",
    "red4 = '#de2d26'\n",
    "red5 = '#a50f15'"
   ]
  },
  {
   "cell_type": "code",
   "execution_count": 5,
   "id": "48d37e5c",
   "metadata": {
    "ExecuteTime": {
     "end_time": "2023-06-25T09:12:03.208316Z",
     "start_time": "2023-06-25T09:12:03.205580Z"
    }
   },
   "outputs": [],
   "source": [
    "neutral_color='#fdbf6f'\n",
    "gain_color = '#e31a1c'\n",
    "loss_color = '#a6cee3'"
   ]
  },
  {
   "cell_type": "code",
   "execution_count": 55,
   "id": "e660ff13",
   "metadata": {
    "ExecuteTime": {
     "end_time": "2023-06-25T11:52:48.046245Z",
     "start_time": "2023-06-25T11:52:48.043719Z"
    }
   },
   "outputs": [],
   "source": [
    "male_loss_color = '#243161'\n",
    "female_loss_color = '#6badd6'"
   ]
  },
  {
   "cell_type": "code",
   "execution_count": 7,
   "id": "08b53252",
   "metadata": {
    "ExecuteTime": {
     "end_time": "2023-06-06T19:08:05.895504Z",
     "start_time": "2023-06-06T19:08:05.891247Z"
    },
    "code_folding": [
     0
    ]
   },
   "outputs": [],
   "source": [
    "sex_colors_dict = {'M': \n",
    "                      {'+': \n",
    "                       {'observed': '#a50f15',\n",
    "                       'expected': '#ef3b2c'},\n",
    "                      '-':\n",
    "                      {'observed': '#08306b',\n",
    "                      'expected': '#2171b5'},\n",
    "                      '=':\n",
    "                      {'observed': '#993404',\n",
    "                      'expected': '#ec7014'}},\n",
    "                     'F':\n",
    "                     {'+': \n",
    "                       {'observed': '#fb6a4a',\n",
    "                       'expected': '#fcbba1'},\n",
    "                      '-':\n",
    "                      {'observed': '#4292c6',\n",
    "                      'expected': '#9ecae1'},\n",
    "                      '=':\n",
    "                      {'observed': '#fe9929',\n",
    "                      'expected': '#fee391'}}}"
   ]
  },
  {
   "cell_type": "markdown",
   "id": "64ffa043",
   "metadata": {},
   "source": [
    "# Functions for plotting age dependence"
   ]
  },
  {
   "cell_type": "code",
   "execution_count": 17,
   "id": "7f3a10d3",
   "metadata": {
    "ExecuteTime": {
     "end_time": "2023-06-25T09:59:26.004946Z",
     "start_time": "2023-06-25T09:59:26.001471Z"
    },
    "code_folding": [
     0
    ]
   },
   "outputs": [],
   "source": [
    "def mCA_specific_fmin_X_Y(df):\n",
    "    \n",
    "    df['CELL_FRAC'] = df['CELL_FRAC'].astype(float)\n",
    "    cell_fractions = df['CELL_FRAC'].tolist()\n",
    "    min_cell_frac = min(cell_fractions)\n",
    "    fmin = min_cell_frac*1.5\n",
    "    \n",
    "    return fmin"
   ]
  },
  {
   "cell_type": "code",
   "execution_count": 18,
   "id": "92c1877d",
   "metadata": {
    "ExecuteTime": {
     "end_time": "2023-06-25T09:59:26.383545Z",
     "start_time": "2023-06-25T09:59:26.379529Z"
    },
    "code_folding": [
     0
    ]
   },
   "outputs": [],
   "source": [
    "def errors(number_people_with_mCA, total_each_age_group):\n",
    "    square_root_number_mCA = [math.sqrt(i) for i in number_people_with_mCA]\n",
    "    error = [x/y for x, y in zip(map(int, square_root_number_mCA), map(float, total_each_age_group))]\n",
    "    error_percentage = [(x/y)*100 for x, y in zip(map(int, square_root_number_mCA), map(float, total_each_age_group))] #percentage rather than freq\n",
    "    return error_percentage"
   ]
  },
  {
   "cell_type": "code",
   "execution_count": null,
   "id": "4d06030d",
   "metadata": {},
   "outputs": [],
   "source": [
    "def density_of_clones(f, u, s, t):\n",
    "    N = 9.40166610e+04\n",
    "    s = float(s)\n",
    "    u = float(u)\n",
    "    return ((N*u)/(f*(1-f)))*np.exp(-f/((1-f)*((np.exp(s*t)-1)/(N*s))))"
   ]
  },
  {
   "cell_type": "markdown",
   "id": "e83f8791",
   "metadata": {
    "ExecuteTime": {
     "end_time": "2023-06-25T09:18:56.040305Z",
     "start_time": "2023-06-25T09:18:56.037745Z"
    }
   },
   "source": [
    "## Single fitness effect and mutation rate"
   ]
  },
  {
   "cell_type": "code",
   "execution_count": 20,
   "id": "3604e5a3",
   "metadata": {
    "ExecuteTime": {
     "end_time": "2023-06-25T09:59:37.064669Z",
     "start_time": "2023-06-25T09:59:37.061259Z"
    },
    "code_folding": [
     0
    ]
   },
   "outputs": [],
   "source": [
    "def expected_prevalence_X_Y(t, u, s, fmin, mCA): \n",
    "    N = 9.40166610e+04\n",
    "    integral_limit = 0.67\n",
    "\n",
    "    return integrate.quad(lambda f: density_of_clones(f, u, s, t), fmin, integral_limit)[0]"
   ]
  },
  {
   "cell_type": "code",
   "execution_count": 21,
   "id": "5964dbf1",
   "metadata": {
    "ExecuteTime": {
     "end_time": "2023-06-25T09:59:37.381940Z",
     "start_time": "2023-06-25T09:59:37.377731Z"
    },
    "code_folding": [
     0
    ]
   },
   "outputs": [],
   "source": [
    "def expected_number_by_age(mCA, fmin, X_Y_s_mu_dict):\n",
    "\n",
    "    s = X_Y_s_mu_dict[mCA]['s']\n",
    "    u = X_Y_s_mu_dict[mCA]['mu']\n",
    "\n",
    "    xx=np.array([t for t in range(0,80)])\n",
    "    yy=[expected_prevalence_X_Y(t, u, s, fmin, mCA) for t in xx]\n",
    "\n",
    "    age_expected = {}\n",
    "    for age, expected in zip(xx, yy):\n",
    "        age_expected[age]=expected\n",
    "\n",
    "    return age_expected"
   ]
  },
  {
   "cell_type": "code",
   "execution_count": 22,
   "id": "b6f2474f",
   "metadata": {
    "ExecuteTime": {
     "end_time": "2023-06-25T09:59:37.701763Z",
     "start_time": "2023-06-25T09:59:37.693835Z"
    },
    "code_folding": [
     0
    ]
   },
   "outputs": [],
   "source": [
    "def plot_observed_expected_prevalence_mCA_X_Y(mCA, observed_dict, total_people_dict, X_Y_s_mu_dict, fmin, sex, ax): #can have just 1 mCA in the list of mCAs\n",
    "    \n",
    "    if sex == 'M':\n",
    "        expected_label = 'expected male'\n",
    "        observed_label = 'observed male'\n",
    "        color = male_loss_color\n",
    "        \n",
    "    if sex == 'F':\n",
    "        expected_label = 'expected female'\n",
    "        observed_label = 'observed female'\n",
    "        color = female_loss_color\n",
    "\n",
    "    marker = 'o'\n",
    "    \n",
    "    ## PLOT THE EXPECTED #####\n",
    "    total_expected = expected_number_by_age(mCA, fmin, X_Y_s_mu_dict) #dictionary where key = age, value = expected frequency\n",
    "\n",
    "    plot_x = []\n",
    "    plot_y = []\n",
    "    for k, v in total_expected.items():\n",
    "        plot_x.append(k)\n",
    "        plot_y.append(v*100) #multiply by 100 so in terms of percentage rather than frequency\n",
    "\n",
    "    ax.plot(plot_x, plot_y, color = color, lw = 2, zorder = 0, alpha = 1.0, label = expected_label)\n",
    "\n",
    "    ## PLOT THE OBSERVED ######\n",
    "    total = 0\n",
    "    numbers_list = observed_dict.values()\n",
    "    total_people_list = total_people_dict.values()\n",
    "    \n",
    "    freq_list_percentage = []\n",
    "    for a, b in zip(numbers_list, total_people_list):\n",
    "        frequency = a/b\n",
    "        freq_list_percentage.append(frequency*100)\n",
    "\n",
    "    errors_list = errors(numbers_list, total_people_list)\n",
    "\n",
    "    ax.errorbar([42.5, 47.5, 52.5, 57.5, 62.5, 67.5, 72.5], freq_list_percentage, yerr= errors_list, fmt = marker, ecolor = color, \\\n",
    "             elinewidth = 2, capsize = 4, capthick = 2, \\\n",
    "             markersize = 10, markeredgewidth = 2, markeredgecolor = color,\\\n",
    "             markerfacecolor = color, zorder=0, label = observed_label, alpha = 0.8)\n",
    "    \n",
    "    return ax"
   ]
  },
  {
   "cell_type": "code",
   "execution_count": 23,
   "id": "780b8cc8",
   "metadata": {
    "ExecuteTime": {
     "end_time": "2023-06-25T09:59:38.039700Z",
     "start_time": "2023-06-25T09:59:38.032693Z"
    },
    "code_folding": [
     0
    ]
   },
   "outputs": [],
   "source": [
    "def age_prevalence_mCA_plot_X_Y(observed_dict, total_people_dict, X_Y_s_mu_dict, fmin, mCA):\n",
    "    \n",
    "    if mCA == 'Y-':\n",
    "        sex = 'M'\n",
    "        sex_written = 'male'\n",
    "        mCA_name = 'mLOY'\n",
    "    if mCA == 'X-':\n",
    "        sex = 'F'\n",
    "        sex_written = 'female'\n",
    "        mCA_name = 'mLOX'\n",
    "    \n",
    "    total_people_with_mCA = 0\n",
    "    for k, v in observed_dict.items():\n",
    "        total_people_with_mCA+= v\n",
    "\n",
    "    fig, ax1 = plt.subplots(figsize=(6, 5), nrows=1, ncols=1)\n",
    "    fig.subplots_adjust(hspace=0.3, wspace = 0.6)\n",
    "    \n",
    "    plot_observed_expected_prevalence_mCA_X_Y(mCA, observed_dict, total_people_dict, X_Y_s_mu_dict, fmin, sex, ax1)\n",
    "\n",
    "    ax1.set_title(mCA_name+'\\n('+sex_written+' = '+str(total_people_with_mCA)+', fmin = '+str(round(fmin*100, 2))+'%)')\n",
    "    \n",
    "    ax1.legend()\n",
    "    \n",
    "    ax1.set_xlabel('age')\n",
    "    ax1.set_ylabel('proportion of individuals with '+mCA+' (%)')\n",
    "    ax1.tick_params(axis = 'both', which = 'major', color = grey4)\n",
    "    ax1.tick_params(axis = 'both', which='minor', bottom=False)\n",
    "    ax1.set_xlim(0, 80)\n",
    "        \n",
    "    plt.tight_layout()\n",
    "#     plt.savefig('Figures/Age_prevalence_'+mCA+'.pdf')\n",
    "\n",
    "    return plt.show()"
   ]
  },
  {
   "cell_type": "markdown",
   "id": "126e4d6e",
   "metadata": {},
   "source": [
    "## 2 separate fitness effects and mutation rates (mLOX)"
   ]
  },
  {
   "cell_type": "code",
   "execution_count": 41,
   "id": "d70c138e",
   "metadata": {
    "ExecuteTime": {
     "end_time": "2023-06-25T10:13:23.103493Z",
     "start_time": "2023-06-25T10:13:23.099177Z"
    },
    "code_folding": [
     0
    ]
   },
   "outputs": [],
   "source": [
    "def expected_prevalence_2s2mu(t, u1, u2, s1, s2, fmin, mCA): \n",
    "    N = 9.40166610e+04\n",
    "    \n",
    "    integral_limit = 0.67\n",
    "        \n",
    "    total_prevalence = integrate.quad(lambda f: density_of_clones(f, u1, s1, t), fmin, integral_limit)[0]+\\\n",
    "    integrate.quad(lambda f: density_of_clones(f, u2, s2, t), fmin, integral_limit)[0]\n",
    "\n",
    "    return total_prevalence"
   ]
  },
  {
   "cell_type": "code",
   "execution_count": 42,
   "id": "cd342c10",
   "metadata": {
    "ExecuteTime": {
     "end_time": "2023-06-25T10:13:23.418801Z",
     "start_time": "2023-06-25T10:13:23.414196Z"
    },
    "code_folding": [
     0
    ]
   },
   "outputs": [],
   "source": [
    "def expected_number_by_age_2s2mu(mCA, fmin, s1, s2, mu1, mu2):\n",
    "\n",
    "    s = X_Y_s_mu_dict[mCA]['s']\n",
    "    u = X_Y_s_mu_dict[mCA]['mu']\n",
    "\n",
    "    xx=np.array([t for t in range(0,80)])\n",
    "    yy=[expected_prevalence_2s2mu(t, mu1, mu2, s1, s2, fmin, mCA) for t in xx]\n",
    "\n",
    "    age_expected = {}\n",
    "    for age, expected in zip(xx, yy):\n",
    "        age_expected[age]=expected\n",
    "\n",
    "    return age_expected"
   ]
  },
  {
   "cell_type": "code",
   "execution_count": 43,
   "id": "3010166e",
   "metadata": {
    "ExecuteTime": {
     "end_time": "2023-06-25T10:13:23.779448Z",
     "start_time": "2023-06-25T10:13:23.771331Z"
    },
    "code_folding": [
     0
    ]
   },
   "outputs": [],
   "source": [
    "def plot_observed_expected_prevalence_mCA_2s2mu(mCA, observed_dict, total_people_dict, s1, s2, mu1, mu2, fmin, sex, ax): #can have just 1 mCA in the list of mCAs\n",
    "    \n",
    "    if sex == 'M':\n",
    "        expected_label = 'expected male'\n",
    "        observed_label = 'observed male'\n",
    "        color = male_loss_color\n",
    "        \n",
    "    if sex == 'F':\n",
    "        expected_label = 'expected female'\n",
    "        observed_label = 'observed female'\n",
    "        color = female_loss_color\n",
    "\n",
    "    marker = 'o'\n",
    "    \n",
    "    ## PLOT THE EXPECTED #####\n",
    "    total_expected = expected_number_by_age_2s2mu(mCA, fmin, s1, s2, mu1, mu2) #dictionary where key = age, value = expected frequency\n",
    "\n",
    "    plot_x = []\n",
    "    plot_y = []\n",
    "    for k, v in total_expected.items():\n",
    "        plot_x.append(k)\n",
    "        plot_y.append(v*100) #multiply by 100 so in terms of percentage rather than frequency\n",
    "\n",
    "    ax.plot(plot_x, plot_y, color = color, lw = 2, zorder = 0, alpha = 1.0, label = expected_label)\n",
    "\n",
    "    ## PLOT THE OBSERVED ######\n",
    "    total = 0\n",
    "    numbers_list = observed_dict.values()\n",
    "    total_people_list = total_people_dict.values()\n",
    "    \n",
    "    freq_list_percentage = []\n",
    "    for a, b in zip(numbers_list, total_people_list):\n",
    "        frequency = a/b\n",
    "        freq_list_percentage.append(frequency*100)\n",
    "\n",
    "    errors_list = errors(numbers_list, total_people_list)\n",
    "\n",
    "    ax.errorbar([42.5, 47.5, 52.5, 57.5, 62.5, 67.5, 72.5], freq_list_percentage, yerr= errors_list, fmt = marker, ecolor = color, \\\n",
    "             elinewidth = 2, capsize = 4, capthick = 2, \\\n",
    "             markersize = 10, markeredgewidth = 2, markeredgecolor = color,\\\n",
    "             markerfacecolor = color, zorder=0, label = observed_label, alpha = 0.8)\n",
    "    \n",
    "    return ax"
   ]
  },
  {
   "cell_type": "code",
   "execution_count": 48,
   "id": "c8e65130",
   "metadata": {
    "ExecuteTime": {
     "end_time": "2023-06-25T10:15:22.119305Z",
     "start_time": "2023-06-25T10:15:22.104651Z"
    },
    "code_folding": [
     0
    ]
   },
   "outputs": [],
   "source": [
    "def age_prevalence_mCA_plot_2s2mu(observed_dict, total_people_dict, s1, s2, mu1, mu2, fmin, mCA):\n",
    "    \n",
    "    if mCA == 'Y-':\n",
    "        sex = 'M'\n",
    "        sex_written = 'male'\n",
    "        mCA_name = 'mLOY'\n",
    "    if mCA == 'X-':\n",
    "        sex = 'F'\n",
    "        sex_written = 'female'\n",
    "        mCA_name = 'mLOX'\n",
    "    \n",
    "    total_people_with_mCA = 0\n",
    "    for k, v in observed_dict.items():\n",
    "        total_people_with_mCA+= v\n",
    "\n",
    "    fig, ax1 = plt.subplots(figsize=(6, 5), nrows=1, ncols=1)\n",
    "    fig.subplots_adjust(hspace=0.3, wspace = 0.6)\n",
    "    \n",
    "    plot_observed_expected_prevalence_mCA_2s2mu(mCA, observed_dict, total_people_dict, s1, s2, mu1, mu2, fmin, sex, ax1)\n",
    "\n",
    "    ax1.set_title(mCA_name+' (2 $s$, 2$\\u03BC$)\\n('+sex_written+' = '+str(total_people_with_mCA)+', fmin = '+str(round(fmin*100, 2))+'%)')\n",
    "    \n",
    "    ax1.legend()\n",
    "    \n",
    "    ax1.set_xlabel('age')\n",
    "    ax1.set_ylabel('proportion of individuals with '+mCA+' (%)')\n",
    "    ax1.tick_params(axis = 'both', which = 'major', color = grey4)\n",
    "    ax1.tick_params(axis = 'both', which='minor', bottom=False)\n",
    "    ax1.set_xlim(0, 80)\n",
    "        \n",
    "    plt.tight_layout()\n",
    "#     plt.savefig('Figures/Age_prevalence_'+mCA+'_2s2mu.pdf')\n",
    "\n",
    "    return plt.show()"
   ]
  },
  {
   "cell_type": "markdown",
   "id": "f56b5d2f",
   "metadata": {},
   "source": [
    "# Age prevalence of mLOX and mLOY"
   ]
  },
  {
   "cell_type": "code",
   "execution_count": 41,
   "id": "7924d936",
   "metadata": {
    "ExecuteTime": {
     "end_time": "2023-06-06T19:08:21.647657Z",
     "start_time": "2023-06-06T19:08:21.645443Z"
    }
   },
   "outputs": [],
   "source": [
    "losses_fmin = 0.041"
   ]
  },
  {
   "cell_type": "markdown",
   "id": "52210748",
   "metadata": {},
   "source": [
    "## mLOY"
   ]
  },
  {
   "cell_type": "code",
   "execution_count": 50,
   "id": "9ede3511",
   "metadata": {
    "ExecuteTime": {
     "end_time": "2023-06-25T10:17:56.804043Z",
     "start_time": "2023-06-25T10:17:56.789446Z"
    }
   },
   "outputs": [
    {
     "name": "stdout",
     "output_type": "stream",
     "text": [
      "mLOY_fmin =  0.03\n"
     ]
    }
   ],
   "source": [
    "mLOY_df = pd.read_csv('Data_files/X_Y_mCAs/mLOY_CELL_FRAC.txt', sep = '\\t')\n",
    "mLOY_fmin = mCA_specific_fmin_X_Y(mLOY_df)\n",
    "print('mLOY_fmin = ', mLOY_fmin)"
   ]
  },
  {
   "cell_type": "code",
   "execution_count": 52,
   "id": "7a2a5b0f",
   "metadata": {
    "ExecuteTime": {
     "end_time": "2023-06-25T10:18:58.836508Z",
     "start_time": "2023-06-25T10:18:58.829606Z"
    }
   },
   "outputs": [
    {
     "name": "stdout",
     "output_type": "stream",
     "text": [
      "total number of men with mLOY =  22367\n"
     ]
    }
   ],
   "source": [
    "mLOY_numbers = {\n",
    "    '40-45': 104,\n",
    "    '45-50': 367,\n",
    "    '50-55': 1163,\n",
    "    '55-60': 3075,\n",
    "    '60-65': 7629,\n",
    "    '65-70': 9722,\n",
    "    '70-75': 307}\n",
    "\n",
    "total_men_with_mLOY = 0\n",
    "for numbers in mLOY_numbers.values():\n",
    "    total_men_with_mLOY+=numbers\n",
    "\n",
    "print('total number of men with mLOY = ', total_men_with_mLOY)"
   ]
  },
  {
   "cell_type": "code",
   "execution_count": 53,
   "id": "920c51ec",
   "metadata": {
    "ExecuteTime": {
     "end_time": "2023-06-25T10:19:48.880102Z",
     "start_time": "2023-06-25T10:19:48.828213Z"
    }
   },
   "outputs": [
    {
     "name": "stdout",
     "output_type": "stream",
     "text": [
      "total number of men =  220893\n"
     ]
    }
   ],
   "source": [
    "total_men_age_groups = {\n",
    "    '40-45': 23078,\n",
    "    '45-50': 28156,\n",
    "    '50-55': 31869,\n",
    "    '55-60': 38614,\n",
    "    '60-65': 53462,\n",
    "    '65-70': 44527,\n",
    "    '70-75': 1187}\n",
    "\n",
    "total_men = 0\n",
    "for numbers in total_men_age_groups.values():\n",
    "    total_men+=numbers\n",
    "\n",
    "print('total number of men = ', total_men)"
   ]
  },
  {
   "cell_type": "code",
   "execution_count": 56,
   "id": "76fd483a",
   "metadata": {
    "ExecuteTime": {
     "end_time": "2023-06-25T11:52:53.152883Z",
     "start_time": "2023-06-25T11:52:52.690207Z"
    }
   },
   "outputs": [
    {
     "name": "stderr",
     "output_type": "stream",
     "text": [
      "/opt/anaconda3/lib/python3.7/site-packages/ipykernel_launcher.py:5: RuntimeWarning: divide by zero encountered in double_scalars\n",
      "  \"\"\"\n"
     ]
    },
    {
     "data": {
      "image/png": "[encoded data removed]",
      "text/plain": [
       "<Figure size 600x500 with 1 Axes>"
      ]
     },
     "metadata": {},
     "output_type": "display_data"
    }
   ],
   "source": [
    "age_prevalence_mCA_plot_X_Y(mLOY_numbers, total_men_age_groups, X_Y_s_mu_dict, mLOY_fmin, 'Y-')"
   ]
  },
  {
   "cell_type": "markdown",
   "id": "da2e79c4",
   "metadata": {},
   "source": [
    "## mLOX"
   ]
  },
  {
   "cell_type": "code",
   "execution_count": 26,
   "id": "a3e31f7d",
   "metadata": {
    "ExecuteTime": {
     "end_time": "2023-06-25T10:00:27.702208Z",
     "start_time": "2023-06-25T10:00:27.692576Z"
    }
   },
   "outputs": [
    {
     "name": "stdout",
     "output_type": "stream",
     "text": [
      "mLOX_fmin =  0.012\n"
     ]
    }
   ],
   "source": [
    "mLOX_df = pd.read_csv('Data_files/X_Y_mCAs/mLOX_CELL_FRAC.txt', sep = '\\t')\n",
    "mLOX_fmin = mCA_specific_fmin_X_Y(mLOX_df)\n",
    "print('mLOX_fmin = ', mLOX_fmin)"
   ]
  },
  {
   "cell_type": "markdown",
   "id": "4e515318",
   "metadata": {},
   "source": [
    "### Age dependence assuming mLOX has a single fitness (s) and mutation rate (mu)"
   ]
  },
  {
   "cell_type": "code",
   "execution_count": 27,
   "id": "be6fb6dd",
   "metadata": {
    "ExecuteTime": {
     "end_time": "2023-06-25T10:00:32.214122Z",
     "start_time": "2023-06-25T10:00:32.211749Z"
    }
   },
   "outputs": [],
   "source": [
    "X_Y_s_mu_dict = {'X-': {'s': 0.118112244897959, 'mu': 0.0000001211891057881}, 'Y-': {'s': 0.13172449, 'mu': 8.61582768017863E-07}}"
   ]
  },
  {
   "cell_type": "code",
   "execution_count": 28,
   "id": "00cbf944",
   "metadata": {
    "ExecuteTime": {
     "end_time": "2023-06-25T10:00:32.732592Z",
     "start_time": "2023-06-25T10:00:32.728106Z"
    }
   },
   "outputs": [
    {
     "name": "stdout",
     "output_type": "stream",
     "text": [
      "total number of women with mLOX =  8577\n"
     ]
    }
   ],
   "source": [
    "mLOX_numbers = {\n",
    "    '40-45': 120,\n",
    "    '45-50': 254,\n",
    "    '50-55': 569,\n",
    "    '55-60': 1301,\n",
    "    '60-65': 2991,\n",
    "    '65-70': 3253,\n",
    "    '70-75': 89}\n",
    "\n",
    "total_women_with_mLOX = 0\n",
    "for numbers in mLOX_numbers.values():\n",
    "    total_women_with_mLOX+=numbers\n",
    "\n",
    "print('total number of women with mLOX = ', total_women_with_mLOX)"
   ]
  },
  {
   "cell_type": "code",
   "execution_count": 29,
   "id": "a2160946",
   "metadata": {
    "ExecuteTime": {
     "end_time": "2023-06-25T10:00:33.202879Z",
     "start_time": "2023-06-25T10:00:33.198825Z"
    }
   },
   "outputs": [
    {
     "name": "stdout",
     "output_type": "stream",
     "text": [
      "total number of women =  261889\n"
     ]
    }
   ],
   "source": [
    "total_women_age_groups = {\n",
    "    '40-45': 26598,\n",
    "    '45-50': 35211,\n",
    "    '50-55': 41397,\n",
    "    '55-60': 48605,\n",
    "    '60-65': 63511,\n",
    "    '65-70': 45433,\n",
    "    '70-75': 1134}\n",
    "\n",
    "total_women = 0\n",
    "for numbers in total_women_age_groups.values():\n",
    "    total_women+=numbers\n",
    "\n",
    "print('total number of women = ', total_women)"
   ]
  },
  {
   "cell_type": "code",
   "execution_count": 39,
   "id": "6abc1c17",
   "metadata": {
    "ExecuteTime": {
     "end_time": "2023-06-25T10:01:36.697048Z",
     "start_time": "2023-06-25T10:01:36.252842Z"
    }
   },
   "outputs": [
    {
     "name": "stderr",
     "output_type": "stream",
     "text": [
      "/opt/anaconda3/lib/python3.7/site-packages/ipykernel_launcher.py:5: RuntimeWarning: divide by zero encountered in double_scalars\n",
      "  \"\"\"\n"
     ]
    },
    {
     "data": {
      "image/png": "[encoded data removed]",
      "text/plain": [
       "<Figure size 600x500 with 1 Axes>"
      ]
     },
     "metadata": {},
     "output_type": "display_data"
    }
   ],
   "source": [
    "age_prevalence_mCA_plot_X_Y(mLOX_numbers, total_women_age_groups, X_Y_s_mu_dict, mLOX_fmin, 'X-')"
   ]
  },
  {
   "cell_type": "markdown",
   "id": "e91518ef",
   "metadata": {},
   "source": [
    "### Age dependence for mLOX with 2 different fitness (s1, s2) and mutation rates (mu1, mu2)"
   ]
  },
  {
   "cell_type": "code",
   "execution_count": 46,
   "id": "6fb8cba1",
   "metadata": {
    "ExecuteTime": {
     "end_time": "2023-06-25T10:13:39.186591Z",
     "start_time": "2023-06-25T10:13:39.184019Z"
    }
   },
   "outputs": [],
   "source": [
    "# inferred s1, s2, mu1, mu2\n",
    "s1 =  0.07671428571428571\n",
    "s2 =  0.16306122448979593\n",
    "mu1 =  1.12724556597987e-06\n",
    "mu2 =  9.239872356958361e-09"
   ]
  },
  {
   "cell_type": "code",
   "execution_count": 49,
   "id": "e05c59f6",
   "metadata": {
    "ExecuteTime": {
     "end_time": "2023-06-25T10:15:28.175740Z",
     "start_time": "2023-06-25T10:15:25.857405Z"
    }
   },
   "outputs": [
    {
     "name": "stderr",
     "output_type": "stream",
     "text": [
      "/opt/anaconda3/lib/python3.7/site-packages/ipykernel_launcher.py:5: RuntimeWarning: divide by zero encountered in double_scalars\n",
      "  \"\"\"\n"
     ]
    },
    {
     "data": {
      "image/png": "[encoded data removed]",
      "text/plain": [
       "<Figure size 600x500 with 1 Axes>"
      ]
     },
     "metadata": {},
     "output_type": "display_data"
    }
   ],
   "source": [
    "age_prevalence_mCA_plot_2s2mu(mLOX_numbers, total_women_age_groups, s1, s2, mu1, mu2, mLOX_fmin, 'X-')"
   ]
  }
 ],
 "metadata": {
  "kernelspec": {
   "display_name": "Python 3 (ipykernel)",
   "language": "python",
   "name": "python3"
  },
  "language_info": {
   "codemirror_mode": {
    "name": "ipython",
    "version": 3
   },
   "file_extension": ".py",
   "mimetype": "text/x-python",
   "name": "python",
   "nbconvert_exporter": "python",
   "pygments_lexer": "ipython3",
   "version": "3.7.4"
  },
  "toc": {
   "base_numbering": 1,
   "nav_menu": {},
   "number_sections": true,
   "sideBar": true,
   "skip_h1_title": false,
   "title_cell": "Table of Contents",
   "title_sidebar": "Contents",
   "toc_cell": true,
   "toc_position": {},
   "toc_section_display": true,
   "toc_window_display": true
  }
 },
 "nbformat": 4,
 "nbformat_minor": 5
}
