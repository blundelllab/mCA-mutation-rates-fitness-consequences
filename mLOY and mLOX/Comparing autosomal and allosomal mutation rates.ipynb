{
 "cells": [
  {
   "cell_type": "markdown",
   "id": "4e30cedf",
   "metadata": {
    "toc": true
   },
   "source": [
    "<h1>Table of Contents<span class=\"tocSkip\"></span></h1>\n",
    "<div class=\"toc\"><ul class=\"toc-item\"><li><span><a href=\"#Notebook-setup\" data-toc-modified-id=\"Notebook-setup-1\"><span class=\"toc-item-num\">1&nbsp;&nbsp;</span>Notebook setup</a></span></li><li><span><a href=\"#Import-data\" data-toc-modified-id=\"Import-data-2\"><span class=\"toc-item-num\">2&nbsp;&nbsp;</span>Import data</a></span><ul class=\"toc-item\"><li><span><a href=\"#Inferred-s-and-mu-values\" data-toc-modified-id=\"Inferred-s-and-mu-values-2.1\"><span class=\"toc-item-num\">2.1&nbsp;&nbsp;</span>Inferred s and mu values</a></span></li></ul></li><li><span><a href=\"#Autosomal-and-allosomal-mutation-rates-(Figure-5b)\" data-toc-modified-id=\"Autosomal-and-allosomal-mutation-rates-(Figure-5b)-3\"><span class=\"toc-item-num\">3&nbsp;&nbsp;</span>Autosomal and allosomal mutation rates (Figure 5b)</a></span></li></ul></div>"
   ]
  },
  {
   "cell_type": "code",
   "execution_count": 1,
   "id": "c0da8ff5",
   "metadata": {
    "ExecuteTime": {
     "end_time": "2023-08-14T10:47:47.134951Z",
     "start_time": "2023-08-14T10:47:47.119740Z"
    }
   },
   "outputs": [
    {
     "data": {
      "text/html": [
       "<style>.container { width:80% !important; }</style>"
      ],
      "text/plain": [
       "<IPython.core.display.HTML object>"
      ]
     },
     "metadata": {},
     "output_type": "display_data"
    }
   ],
   "source": [
    "from IPython.core.display import display, HTML\n",
    "display(HTML(\"<style>.container { width:80% !important; }</style>\"))"
   ]
  },
  {
   "cell_type": "markdown",
   "id": "da9c2925",
   "metadata": {},
   "source": [
    "# Notebook setup"
   ]
  },
  {
   "cell_type": "code",
   "execution_count": 2,
   "id": "a3db6d9f",
   "metadata": {
    "ExecuteTime": {
     "end_time": "2023-08-14T10:47:49.268942Z",
     "start_time": "2023-08-14T10:47:47.850643Z"
    }
   },
   "outputs": [],
   "source": [
    "# imported packages\n",
    "import matplotlib\n",
    "import matplotlib.pyplot as plt\n",
    "import matplotlib.ticker as ticker\n",
    "from matplotlib.ticker import MultipleLocator\n",
    "import pandas as pd\n",
    "import numpy as np"
   ]
  },
  {
   "cell_type": "code",
   "execution_count": 3,
   "id": "7b24c7ab",
   "metadata": {
    "ExecuteTime": {
     "end_time": "2023-08-14T10:47:49.276359Z",
     "start_time": "2023-08-14T10:47:49.271160Z"
    }
   },
   "outputs": [],
   "source": [
    "plt.style.use('cwpython.mplstyle') #use custom style file"
   ]
  },
  {
   "cell_type": "code",
   "execution_count": 4,
   "id": "0ba624d5",
   "metadata": {
    "ExecuteTime": {
     "end_time": "2023-08-14T10:47:49.284089Z",
     "start_time": "2023-08-14T10:47:49.278208Z"
    },
    "code_folding": [
     0
    ]
   },
   "outputs": [],
   "source": [
    "#define the colors from colorbrewer2\n",
    "orange1 = '#feedde'\n",
    "orange2 = '#fdbe85'\n",
    "orange3 = '#fd8d3c'\n",
    "orange4 = '#e6550d'\n",
    "orange5 = '#a63603'\n",
    "blue1 = '#eff3ff'\n",
    "blue2 = '#bdd7e7'\n",
    "blue3 = '#6baed6'\n",
    "blue4 = '#3182bd'\n",
    "blue5 = '#08519c'\n",
    "green1 = '#edf8e9'\n",
    "green2 = '#bae4b3'\n",
    "green3 = '#74c476'\n",
    "green4 = '#31a354'\n",
    "green5 = '#006d2c'\n",
    "grey1 = '#f7f7f7'\n",
    "grey2 = '#cccccc'\n",
    "grey3 = '#969696'\n",
    "grey4 = '#636363'\n",
    "grey5 = '#252525'\n",
    "purple1 = '#f2f0f7'\n",
    "purple2 = '#cbc9e2'\n",
    "purple3 = '#9e9ac8'\n",
    "purple4 = '#756bb1'\n",
    "purple5 = '#54278f'\n",
    "red1 = '#fee5d9'\n",
    "red2 = '#fcae91'\n",
    "red3 = '#fb6a4a'\n",
    "red4 = '#de2d26'\n",
    "red5 = '#a50f15'"
   ]
  },
  {
   "cell_type": "code",
   "execution_count": 5,
   "id": "77e29212",
   "metadata": {
    "ExecuteTime": {
     "end_time": "2023-08-14T10:47:49.290179Z",
     "start_time": "2023-08-14T10:47:49.286853Z"
    }
   },
   "outputs": [],
   "source": [
    "mLOY_color='#243161'\n",
    "mLOX1_color = '#00a65c'\n",
    "mLOX2_color = '#bc88ba'"
   ]
  },
  {
   "cell_type": "markdown",
   "id": "28ce6746",
   "metadata": {},
   "source": [
    "# Import data"
   ]
  },
  {
   "cell_type": "markdown",
   "id": "17c962d5",
   "metadata": {},
   "source": [
    "## Inferred s and mu values"
   ]
  },
  {
   "cell_type": "code",
   "execution_count": 7,
   "id": "a161f4f4",
   "metadata": {
    "ExecuteTime": {
     "end_time": "2023-08-14T10:52:26.695571Z",
     "start_time": "2023-08-14T10:52:26.682987Z"
    }
   },
   "outputs": [],
   "source": [
    "#s and mu values inferred from MLE - for individual autosomal mCAs\n",
    "single_mCA_s_mu = pd.read_csv('Data_files/mCA_s_mu_with_confidence_intervals_individual_mCAs.txt', sep = '\\t')\n",
    "single_mCA_s_mu = single_mCA_s_mu.set_index('mCA')\n",
    "single_mCA_s_mu = single_mCA_s_mu.sort_values(by=['s', 'lower_95_s'], ascending = [True, True])\n",
    "single_mCA_s_mu_dict = pd.DataFrame.to_dict(single_mCA_s_mu, orient = 'index')"
   ]
  },
  {
   "cell_type": "code",
   "execution_count": 8,
   "id": "dee1b676",
   "metadata": {
    "ExecuteTime": {
     "end_time": "2023-08-14T10:52:26.998928Z",
     "start_time": "2023-08-14T10:52:26.990588Z"
    },
    "scrolled": true
   },
   "outputs": [],
   "source": [
    "#s and mu values inferred from MLE - for X and Y chromosomes\n",
    "X_Y_s_mu = pd.read_csv('Data_files/mCA_s_mu_with_confidence_intervals_individual_mCAs_chromosome_X_and_Y_biobank.txt', sep = '\\t')\n",
    "X_Y_s_mu = X_Y_s_mu.set_index('mCA')\n",
    "X_Y_s_mu = X_Y_s_mu.sort_values(by=['s', 'lower_95_s'], ascending = [True, True])\n",
    "X_Y_s_mu_dict = pd.DataFrame.to_dict(X_Y_s_mu, orient = 'index')"
   ]
  },
  {
   "cell_type": "markdown",
   "id": "5f2754a1",
   "metadata": {},
   "source": [
    "# Autosomal and allosomal mutation rates (Figure 5b)"
   ]
  },
  {
   "cell_type": "code",
   "execution_count": 9,
   "id": "7c9a6e55",
   "metadata": {
    "ExecuteTime": {
     "end_time": "2023-08-14T10:52:29.168133Z",
     "start_time": "2023-08-14T10:52:29.164076Z"
    }
   },
   "outputs": [],
   "source": [
    "mutation_rates = {}\n",
    "for k, v, in single_mCA_s_mu_dict.items():\n",
    "    mutation_rates[k]=(v['mu'], v['lower_95_mu'], v['upper_95_mu'], v['s'])\n",
    "    \n",
    "for k, v, in X_Y_s_mu_dict.items():\n",
    "    mutation_rates[k]=(v['mu'], v['lower_95_mu'], v['upper_95_mu'], v['s'])\n",
    "    \n",
    "mutation_rates_sorted = {k: v for k, v in sorted(mutation_rates.items(), key=lambda item: item[1][0])}"
   ]
  },
  {
   "cell_type": "code",
   "execution_count": 10,
   "id": "c7c50cb3",
   "metadata": {
    "ExecuteTime": {
     "end_time": "2023-08-14T10:52:47.503098Z",
     "start_time": "2023-08-14T10:52:46.583432Z"
    },
    "code_folding": [
     0
    ]
   },
   "outputs": [
    {
     "name": "stdout",
     "output_type": "stream",
     "text": [
      "number of autosomes =  105\n",
      "mean of violin plot =  1.4059980952380953e-09\n",
      "min of violin plot =  4.56e-11\n",
      "max of violin plot =  5.97e-09\n"
     ]
    },
    {
     "data": {
      "image/png": "[encoded data removed]",
      "text/plain": [
       "<Figure size 450x400 with 1 Axes>"
      ]
     },
     "metadata": {},
     "output_type": "display_data"
    }
   ],
   "source": [
    "#plot the autosomal and allosomal mutation rates\n",
    "fig, ax1 = plt.subplots(figsize = (4.5, 4))\n",
    "\n",
    "autosomes = []\n",
    "x = []\n",
    "y = []\n",
    "lower_err = []\n",
    "upper_err = []\n",
    "colors = []\n",
    "\n",
    "n = 2\n",
    "for mCA, mutation_rates in mutation_rates_sorted.items():\n",
    "    if mCA[:2] in ['X-', 'Y-']:\n",
    "        x.append(n)\n",
    "        y.append(mutation_rates[0])\n",
    "        lower_err.append(mutation_rates[0]-mutation_rates[1])\n",
    "        upper_err.append(mutation_rates[2]-mutation_rates[0])\n",
    "        if mCA[0]=='Y':\n",
    "            colors.append(mLOY_color)\n",
    "        if mCA[-1]=='2':\n",
    "            colors.append(mLOX2_color)\n",
    "        if mCA[-1]=='1':\n",
    "            colors.append(mLOX1_color)\n",
    "        n+=0.75\n",
    "    else:\n",
    "        autosomes.append(mutation_rates[0])\n",
    "        \n",
    "errors_list = [tuple(lower_err), tuple(upper_err)]\n",
    "\n",
    "print('number of autosomes = ', len(autosomes))\n",
    "print('mean of violin plot = ', np.mean(autosomes))\n",
    "print('min of violin plot = ', min(autosomes))\n",
    "print('max of violin plot = ', max(autosomes))\n",
    "\n",
    "violin = ax1.violinplot(autosomes, showmeans = True)\n",
    "ax1.scatter(x, y, zorder = 50, s = 125, lw = 1, edgecolor = 'k', alpha = 1.0, color = colors)\n",
    "ax1.errorbar(x, y, yerr = errors_list, ls='none', zorder = 0, ecolor = grey4, elinewidth = 1.5, capsize = 4, capthick = 1.5)\n",
    "\n",
    "for pc in violin['bodies']:\n",
    "    pc.set_facecolor(grey3)\n",
    "    pc.set_alpha(0.5)\n",
    "    \n",
    "for partname in ('cbars','cmins','cmaxes','cmeans'):\n",
    "    vp = violin[partname]\n",
    "    vp.set_edgecolor(grey4)\n",
    "    vp.set_linewidth(1.5)\n",
    "\n",
    "ax1.set_xlim(0.2, 3.75)\n",
    "ax1.set_ylim(1e-11, 1e-5)\n",
    "ax1.set_yscale('log')\n",
    "plt.yticks(fontsize = 14)\n",
    "ax1.set_ylabel('mutation rate (per year)')\n",
    "\n",
    "ax1.xaxis.set_major_locator(ticker.MultipleLocator(1))\n",
    "ax1.xaxis.set_minor_locator(ticker.MultipleLocator(1))\n",
    "\n",
    "x_major_ticks = [1, 2, 2.75, 3.5]\n",
    "x_major_tick_labels = [\"autosomal\\nmCAs\", \"mLOX1\", \"mLOY\", \"mLOX2\"]\n",
    "ax1.set_xticks(x_major_ticks)\n",
    "ax1.set_xticklabels(x_major_tick_labels, fontsize = 14)\n",
    "\n",
    "plt.grid(zorder = 0)\n",
    "\n",
    "ax1.set_yscale('log')\n",
    "\n",
    "plt.savefig('Figures/Mutation_rates_autosomes_allosomes.pdf')"
   ]
  },
  {
   "cell_type": "code",
   "execution_count": null,
   "id": "f3670daa",
   "metadata": {},
   "outputs": [],
   "source": []
  }
 ],
 "metadata": {
  "kernelspec": {
   "display_name": "Python 3 (ipykernel)",
   "language": "python",
   "name": "python3"
  },
  "language_info": {
   "codemirror_mode": {
    "name": "ipython",
    "version": 3
   },
   "file_extension": ".py",
   "mimetype": "text/x-python",
   "name": "python",
   "nbconvert_exporter": "python",
   "pygments_lexer": "ipython3",
   "version": "3.7.4"
  },
  "toc": {
   "base_numbering": 1,
   "nav_menu": {},
   "number_sections": true,
   "sideBar": true,
   "skip_h1_title": false,
   "title_cell": "Table of Contents",
   "title_sidebar": "Contents",
   "toc_cell": true,
   "toc_position": {},
   "toc_section_display": true,
   "toc_window_display": true
  }
 },
 "nbformat": 4,
 "nbformat_minor": 5
}
