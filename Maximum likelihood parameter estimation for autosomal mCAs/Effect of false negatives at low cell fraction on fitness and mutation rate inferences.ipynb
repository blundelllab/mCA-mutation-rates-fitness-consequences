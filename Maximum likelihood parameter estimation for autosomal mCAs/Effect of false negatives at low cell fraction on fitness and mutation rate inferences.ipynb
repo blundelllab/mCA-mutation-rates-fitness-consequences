{
 "cells": [
  {
   "cell_type": "markdown",
   "id": "325ee456",
   "metadata": {
    "toc": true
   },
   "source": [
    "<h1>Table of Contents<span class=\"tocSkip\"></span></h1>\n",
    "<div class=\"toc\"><ul class=\"toc-item\"><li><span><a href=\"#Import-data\" data-toc-modified-id=\"Import-data-1\"><span class=\"toc-item-num\">1&nbsp;&nbsp;</span>Import data</a></span></li><li><span><a href=\"#Functions\" data-toc-modified-id=\"Functions-2\"><span class=\"toc-item-num\">2&nbsp;&nbsp;</span>Functions</a></span><ul class=\"toc-item\"><li><span><a href=\"#For-filtering-dataframes\" data-toc-modified-id=\"For-filtering-dataframes-2.1\"><span class=\"toc-item-num\">2.1&nbsp;&nbsp;</span>For filtering dataframes</a></span></li><li><span><a href=\"#For-plotting-all-mCAs-in-a-class-to-find-lower-cell-fraction-limit-of-detection\" data-toc-modified-id=\"For-plotting-all-mCAs-in-a-class-to-find-lower-cell-fraction-limit-of-detection-2.2\"><span class=\"toc-item-num\">2.2&nbsp;&nbsp;</span>For plotting all mCAs in a class to find lower cell fraction limit of detection</a></span></li><li><span><a href=\"#Calculating-how-many-datapoints-left-after-trimming\" data-toc-modified-id=\"Calculating-how-many-datapoints-left-after-trimming-2.3\"><span class=\"toc-item-num\">2.3&nbsp;&nbsp;</span>Calculating how many datapoints left after trimming</a></span></li></ul></li><li><span><a href=\"#Create-dataframes-of-mCAs-seen-in-individuals-as-single-events\" data-toc-modified-id=\"Create-dataframes-of-mCAs-seen-in-individuals-as-single-events-3\"><span class=\"toc-item-num\">3&nbsp;&nbsp;</span>Create dataframes of mCAs seen in individuals as single events</a></span></li><li><span><a href=\"#Functions\" data-toc-modified-id=\"Functions-4\"><span class=\"toc-item-num\">4&nbsp;&nbsp;</span>Functions</a></span></li><li><span><a href=\"#Plots-histograms-of-all-mCAs-in-each-class,-to-find-lower-limit-of-detection-(Supplementary-Fig.-7a-c)\" data-toc-modified-id=\"Plots-histograms-of-all-mCAs-in-each-class,-to-find-lower-limit-of-detection-(Supplementary-Fig.-7a-c)-5\"><span class=\"toc-item-num\">5&nbsp;&nbsp;</span>Plots histograms of all mCAs in each class, to find lower limit of detection (Supplementary Fig. 7a-c)</a></span></li><li><span><a href=\"#How-many-datapoints-left-after-trimming?\" data-toc-modified-id=\"How-many-datapoints-left-after-trimming?-6\"><span class=\"toc-item-num\">6&nbsp;&nbsp;</span>How many datapoints left after trimming?</a></span></li><li><span><a href=\"#Compare-s-and-mu-inferred-from-trimmed-and-non-trimmed-histograms-(Supplementary-Fig.-7d)\" data-toc-modified-id=\"Compare-s-and-mu-inferred-from-trimmed-and-non-trimmed-histograms-(Supplementary-Fig.-7d)-7\"><span class=\"toc-item-num\">7&nbsp;&nbsp;</span>Compare s and mu inferred from trimmed and non-trimmed histograms (Supplementary Fig. 7d)</a></span></li></ul></div>"
   ]
  },
  {
   "cell_type": "markdown",
   "id": "93621a1f",
   "metadata": {
    "ExecuteTime": {
     "end_time": "2023-06-27T07:05:48.063356Z",
     "start_time": "2023-06-27T07:05:48.059431Z"
    }
   },
   "source": [
    "- look at cell fraction density histogram for all losses combined - take the cell fraction at which density starts to fall as lower limit of detection for all losses (and do the same for gains and CNLOH)\n",
    "- then calculate mutation rate and fitness effect with the data trimmed below this mCA-specific lower limit of detection"
   ]
  },
  {
   "cell_type": "code",
   "execution_count": 1,
   "id": "67e4cee3",
   "metadata": {
    "ExecuteTime": {
     "end_time": "2023-06-29T11:11:11.275626Z",
     "start_time": "2023-06-29T11:11:11.259719Z"
    }
   },
   "outputs": [
    {
     "data": {
      "text/html": [
       "<style>.container { width:80% !important; }</style>"
      ],
      "text/plain": [
       "<IPython.core.display.HTML object>"
      ]
     },
     "metadata": {},
     "output_type": "display_data"
    }
   ],
   "source": [
    "from IPython.core.display import display, HTML\n",
    "display(HTML(\"<style>.container { width:80% !important; }</style>\"))"
   ]
  },
  {
   "cell_type": "code",
   "execution_count": 1,
   "id": "6a3c14e5",
   "metadata": {
    "ExecuteTime": {
     "end_time": "2023-06-29T16:23:25.462411Z",
     "start_time": "2023-06-29T16:23:24.620289Z"
    }
   },
   "outputs": [],
   "source": [
    "# imported packages:\n",
    "import matplotlib\n",
    "import matplotlib.pyplot as plt\n",
    "import matplotlib.ticker as ticker\n",
    "from matplotlib.ticker import MultipleLocator\n",
    "from matplotlib.lines import Line2D\n",
    "import pandas as pd\n",
    "import numpy as np\n",
    "import scipy\n",
    "import scipy.special\n",
    "import scipy.integrate as it\n",
    "from scipy.integrate import quad\n",
    "from scipy import optimize\n",
    "import math\n",
    "import time\n",
    "import zipfile"
   ]
  },
  {
   "cell_type": "code",
   "execution_count": 2,
   "id": "02436097",
   "metadata": {
    "ExecuteTime": {
     "end_time": "2023-06-29T16:23:26.550847Z",
     "start_time": "2023-06-29T16:23:26.546651Z"
    }
   },
   "outputs": [],
   "source": [
    "plt.style.use('cwpython.mplstyle') #use custom style file"
   ]
  },
  {
   "cell_type": "code",
   "execution_count": 3,
   "id": "20b586f1",
   "metadata": {
    "ExecuteTime": {
     "end_time": "2023-06-29T16:23:26.738272Z",
     "start_time": "2023-06-29T16:23:26.733432Z"
    },
    "code_folding": [
     0
    ]
   },
   "outputs": [],
   "source": [
    "#define the colors from colorbrewer2\n",
    "orange1 = '#feedde'\n",
    "orange2 = '#fdbe85'\n",
    "orange3 = '#fd8d3c'\n",
    "orange4 = '#e6550d'\n",
    "orange5 = '#a63603'\n",
    "blue1 = '#eff3ff'\n",
    "blue2 = '#bdd7e7'\n",
    "blue3 = '#6baed6'\n",
    "blue4 = '#3182bd'\n",
    "blue5 = '#08519c'\n",
    "green1 = '#edf8e9'\n",
    "green2 = '#bae4b3'\n",
    "green3 = '#74c476'\n",
    "green4 = '#31a354'\n",
    "green5 = '#006d2c'\n",
    "grey1 = '#f7f7f7'\n",
    "grey2 = '#cccccc'\n",
    "grey3 = '#969696'\n",
    "grey4 = '#636363'\n",
    "grey5 = '#252525'\n",
    "purple1 = '#f2f0f7'\n",
    "purple2 = '#cbc9e2'\n",
    "purple3 = '#9e9ac8'\n",
    "purple4 = '#756bb1'\n",
    "purple5 = '#54278f'\n",
    "red1 = '#fee5d9'\n",
    "red2 = '#fcae91'\n",
    "red3 = '#fb6a4a'\n",
    "red4 = '#de2d26'\n",
    "red5 = '#a50f15'"
   ]
  },
  {
   "cell_type": "code",
   "execution_count": 4,
   "id": "2270e1d6",
   "metadata": {
    "ExecuteTime": {
     "end_time": "2023-06-29T16:23:26.877708Z",
     "start_time": "2023-06-29T16:23:26.875187Z"
    }
   },
   "outputs": [],
   "source": [
    "neutral_color='#fdbf6f'\n",
    "gain_color = '#e31a1c'\n",
    "loss_color = '#a6cee3'"
   ]
  },
  {
   "cell_type": "code",
   "execution_count": 5,
   "id": "8082c113",
   "metadata": {
    "ExecuteTime": {
     "end_time": "2023-06-29T16:23:27.030324Z",
     "start_time": "2023-06-29T16:23:27.027804Z"
    }
   },
   "outputs": [],
   "source": [
    "total_people = 482789"
   ]
  },
  {
   "cell_type": "markdown",
   "id": "c80d0849",
   "metadata": {},
   "source": [
    "# Import data"
   ]
  },
  {
   "cell_type": "code",
   "execution_count": 6,
   "id": "3df3018a",
   "metadata": {
    "ExecuteTime": {
     "end_time": "2023-06-29T16:23:42.026170Z",
     "start_time": "2023-06-29T16:23:41.235860Z"
    }
   },
   "outputs": [
    {
     "data": {
      "text/html": [
       "<div>\n",
       "<style scoped>\n",
       "    .dataframe tbody tr th:only-of-type {\n",
       "        vertical-align: middle;\n",
       "    }\n",
       "\n",
       "    .dataframe tbody tr th {\n",
       "        vertical-align: top;\n",
       "    }\n",
       "\n",
       "    .dataframe thead th {\n",
       "        text-align: right;\n",
       "    }\n",
       "</style>\n",
       "<table border=\"1\" class=\"dataframe\">\n",
       "  <thead>\n",
       "    <tr style=\"text-align: right;\">\n",
       "      <th></th>\n",
       "      <th>Unnamed: 0</th>\n",
       "      <th>ID</th>\n",
       "      <th>SEX</th>\n",
       "      <th>AGE</th>\n",
       "      <th>PREV_CANCER</th>\n",
       "      <th>CHR</th>\n",
       "      <th>START_MB</th>\n",
       "      <th>END_MB</th>\n",
       "      <th>SIZE_MB</th>\n",
       "      <th>BAF (SE)</th>\n",
       "      <th>...</th>\n",
       "      <th>END_MB_RANGE</th>\n",
       "      <th>affects</th>\n",
       "      <th>proportion_of_chrom_or_arm</th>\n",
       "      <th>annotation</th>\n",
       "      <th>bands_involved</th>\n",
       "      <th>genes_involved</th>\n",
       "      <th>number_genes_involved</th>\n",
       "      <th>total_mCAs</th>\n",
       "      <th>persons_total_mCAs</th>\n",
       "      <th>persons_total_known_mCAs</th>\n",
       "    </tr>\n",
       "  </thead>\n",
       "  <tbody>\n",
       "    <tr>\n",
       "      <th>0</th>\n",
       "      <td>0</td>\n",
       "      <td>1</td>\n",
       "      <td>M</td>\n",
       "      <td>60-65</td>\n",
       "      <td>1</td>\n",
       "      <td>1</td>\n",
       "      <td>0.91</td>\n",
       "      <td>249.21</td>\n",
       "      <td>248.30</td>\n",
       "      <td>0.0042 (0.0006)</td>\n",
       "      <td>...</td>\n",
       "      <td>249.2-249.2</td>\n",
       "      <td>whole-chromosome</td>\n",
       "      <td>0.996</td>\n",
       "      <td>1?</td>\n",
       "      <td>['1p36.33', '1p36.32', '1p36.31', '1p36.23', '...</td>\n",
       "      <td>['SGIP1', 'SLC45A1', 'NECAP2', 'CLIC4', 'AZIN2...</td>\n",
       "      <td>2608</td>\n",
       "      <td>4</td>\n",
       "      <td>['12q?', '1?', '7?', '8+']</td>\n",
       "      <td>['8+']</td>\n",
       "    </tr>\n",
       "    <tr>\n",
       "      <th>1</th>\n",
       "      <td>1</td>\n",
       "      <td>2</td>\n",
       "      <td>M</td>\n",
       "      <td>55-60</td>\n",
       "      <td>0</td>\n",
       "      <td>1</td>\n",
       "      <td>0.84</td>\n",
       "      <td>249.16</td>\n",
       "      <td>248.32</td>\n",
       "      <td>0.0042 (0.0006)</td>\n",
       "      <td>...</td>\n",
       "      <td>249.1-249.2</td>\n",
       "      <td>whole-chromosome</td>\n",
       "      <td>0.996</td>\n",
       "      <td>1=</td>\n",
       "      <td>['1p36.33', '1p36.32', '1p36.31', '1p36.23', '...</td>\n",
       "      <td>['SGIP1', 'SLC45A1', 'NECAP2', 'CLIC4', 'AZIN2...</td>\n",
       "      <td>2611</td>\n",
       "      <td>1</td>\n",
       "      <td>['1=']</td>\n",
       "      <td>['1=']</td>\n",
       "    </tr>\n",
       "    <tr>\n",
       "      <th>2</th>\n",
       "      <td>2</td>\n",
       "      <td>3</td>\n",
       "      <td>F</td>\n",
       "      <td>45-50</td>\n",
       "      <td>1</td>\n",
       "      <td>1</td>\n",
       "      <td>0.84</td>\n",
       "      <td>249.20</td>\n",
       "      <td>248.36</td>\n",
       "      <td>0.0034 (0.0005)</td>\n",
       "      <td>...</td>\n",
       "      <td>249.2-249.2</td>\n",
       "      <td>whole-chromosome</td>\n",
       "      <td>0.996</td>\n",
       "      <td>1?</td>\n",
       "      <td>['1p36.33', '1p36.32', '1p36.31', '1p36.23', '...</td>\n",
       "      <td>['SGIP1', 'SLC45A1', 'NECAP2', 'CLIC4', 'AZIN2...</td>\n",
       "      <td>2611</td>\n",
       "      <td>1</td>\n",
       "      <td>['1?']</td>\n",
       "      <td>[]</td>\n",
       "    </tr>\n",
       "    <tr>\n",
       "      <th>3</th>\n",
       "      <td>3</td>\n",
       "      <td>4</td>\n",
       "      <td>M</td>\n",
       "      <td>60-65</td>\n",
       "      <td>0</td>\n",
       "      <td>1</td>\n",
       "      <td>0.75</td>\n",
       "      <td>249.22</td>\n",
       "      <td>248.47</td>\n",
       "      <td>0.0041 (0.0006)</td>\n",
       "      <td>...</td>\n",
       "      <td>249.2-249.2</td>\n",
       "      <td>whole-chromosome</td>\n",
       "      <td>0.997</td>\n",
       "      <td>1?</td>\n",
       "      <td>['1p36.33', '1p36.32', '1p36.31', '1p36.23', '...</td>\n",
       "      <td>['SGIP1', 'SLC45A1', 'NECAP2', 'CLIC4', 'AZIN2...</td>\n",
       "      <td>2616</td>\n",
       "      <td>1</td>\n",
       "      <td>['1?']</td>\n",
       "      <td>[]</td>\n",
       "    </tr>\n",
       "    <tr>\n",
       "      <th>4</th>\n",
       "      <td>4</td>\n",
       "      <td>5</td>\n",
       "      <td>F</td>\n",
       "      <td>55-60</td>\n",
       "      <td>0</td>\n",
       "      <td>1</td>\n",
       "      <td>0.75</td>\n",
       "      <td>249.21</td>\n",
       "      <td>248.46</td>\n",
       "      <td>0.0056 (0.0005)</td>\n",
       "      <td>...</td>\n",
       "      <td>249.2-249.2</td>\n",
       "      <td>whole-chromosome</td>\n",
       "      <td>0.997</td>\n",
       "      <td>1=</td>\n",
       "      <td>['1p36.33', '1p36.32', '1p36.31', '1p36.23', '...</td>\n",
       "      <td>['SGIP1', 'SLC45A1', 'NECAP2', 'CLIC4', 'AZIN2...</td>\n",
       "      <td>2616</td>\n",
       "      <td>2</td>\n",
       "      <td>['12q=', '1=']</td>\n",
       "      <td>['12q=', '1=']</td>\n",
       "    </tr>\n",
       "  </tbody>\n",
       "</table>\n",
       "<p>5 rows × 25 columns</p>\n",
       "</div>"
      ],
      "text/plain": [
       "   Unnamed: 0  ID SEX    AGE  PREV_CANCER  CHR  START_MB  END_MB  SIZE_MB  \\\n",
       "0           0   1   M  60-65            1    1      0.91  249.21   248.30   \n",
       "1           1   2   M  55-60            0    1      0.84  249.16   248.32   \n",
       "2           2   3   F  45-50            1    1      0.84  249.20   248.36   \n",
       "3           3   4   M  60-65            0    1      0.75  249.22   248.47   \n",
       "4           4   5   F  55-60            0    1      0.75  249.21   248.46   \n",
       "\n",
       "          BAF (SE)  ... END_MB_RANGE           affects  \\\n",
       "0  0.0042 (0.0006)  ...  249.2-249.2  whole-chromosome   \n",
       "1  0.0042 (0.0006)  ...  249.1-249.2  whole-chromosome   \n",
       "2  0.0034 (0.0005)  ...  249.2-249.2  whole-chromosome   \n",
       "3  0.0041 (0.0006)  ...  249.2-249.2  whole-chromosome   \n",
       "4  0.0056 (0.0005)  ...  249.2-249.2  whole-chromosome   \n",
       "\n",
       "  proportion_of_chrom_or_arm  annotation  \\\n",
       "0                      0.996          1?   \n",
       "1                      0.996          1=   \n",
       "2                      0.996          1?   \n",
       "3                      0.997          1?   \n",
       "4                      0.997          1=   \n",
       "\n",
       "                                      bands_involved  \\\n",
       "0  ['1p36.33', '1p36.32', '1p36.31', '1p36.23', '...   \n",
       "1  ['1p36.33', '1p36.32', '1p36.31', '1p36.23', '...   \n",
       "2  ['1p36.33', '1p36.32', '1p36.31', '1p36.23', '...   \n",
       "3  ['1p36.33', '1p36.32', '1p36.31', '1p36.23', '...   \n",
       "4  ['1p36.33', '1p36.32', '1p36.31', '1p36.23', '...   \n",
       "\n",
       "                                      genes_involved number_genes_involved  \\\n",
       "0  ['SGIP1', 'SLC45A1', 'NECAP2', 'CLIC4', 'AZIN2...                  2608   \n",
       "1  ['SGIP1', 'SLC45A1', 'NECAP2', 'CLIC4', 'AZIN2...                  2611   \n",
       "2  ['SGIP1', 'SLC45A1', 'NECAP2', 'CLIC4', 'AZIN2...                  2611   \n",
       "3  ['SGIP1', 'SLC45A1', 'NECAP2', 'CLIC4', 'AZIN2...                  2616   \n",
       "4  ['SGIP1', 'SLC45A1', 'NECAP2', 'CLIC4', 'AZIN2...                  2616   \n",
       "\n",
       "   total_mCAs          persons_total_mCAs persons_total_known_mCAs  \n",
       "0           4  ['12q?', '1?', '7?', '8+']                   ['8+']  \n",
       "1           1                      ['1=']                   ['1=']  \n",
       "2           1                      ['1?']                       []  \n",
       "3           1                      ['1?']                       []  \n",
       "4           2              ['12q=', '1=']           ['12q=', '1=']  \n",
       "\n",
       "[5 rows x 25 columns]"
      ]
     },
     "execution_count": 6,
     "metadata": {},
     "output_type": "execute_result"
    }
   ],
   "source": [
    "zf = zipfile.ZipFile('Data_files/Supplementary_data_annotated_cw.csv.zip') \n",
    "df = pd.read_csv(zf.open('Supplementary_data_annotated_cw.csv'))\n",
    "df.head()"
   ]
  },
  {
   "cell_type": "markdown",
   "id": "cc7df336",
   "metadata": {},
   "source": [
    "#  Functions"
   ]
  },
  {
   "cell_type": "markdown",
   "id": "837e0327",
   "metadata": {},
   "source": [
    "## For filtering dataframes"
   ]
  },
  {
   "cell_type": "code",
   "execution_count": 8,
   "id": "ad1f869e",
   "metadata": {
    "ExecuteTime": {
     "end_time": "2023-06-29T11:11:13.820115Z",
     "start_time": "2023-06-29T11:11:13.817345Z"
    },
    "code_folding": [
     0
    ]
   },
   "outputs": [],
   "source": [
    "def filter_by_mCA_type(mCA_type, dataframe): #filter to e.g. only include those that have gains\n",
    "    mask = [(mCA_type in x) for x in dataframe['COPY_CHANGE']]\n",
    "    return dataframe[mask].copy()"
   ]
  },
  {
   "cell_type": "code",
   "execution_count": 9,
   "id": "a9e9a45e",
   "metadata": {
    "ExecuteTime": {
     "end_time": "2023-06-29T11:11:13.960510Z",
     "start_time": "2023-06-29T11:11:13.957899Z"
    },
    "code_folding": [
     0
    ]
   },
   "outputs": [],
   "source": [
    "def filter_by_number_mCAs(number_mCAs, dataframe): #e.g. filter by those that e.g. only have 1 total mCA\n",
    "    mask = dataframe['total_mCAs']==number_mCAs\n",
    "    return dataframe[mask].copy()"
   ]
  },
  {
   "cell_type": "code",
   "execution_count": 10,
   "id": "f9a19a93",
   "metadata": {
    "ExecuteTime": {
     "end_time": "2023-06-29T11:11:14.108409Z",
     "start_time": "2023-06-29T11:11:14.105977Z"
    },
    "code_folding": [
     0
    ]
   },
   "outputs": [],
   "source": [
    "def filter_by_annotation(annotation, dataframe): #e.g. 3+\n",
    "    mask = dataframe['annotation'] == annotation\n",
    "    return dataframe[mask].copy()"
   ]
  },
  {
   "cell_type": "markdown",
   "id": "bc0bdee6",
   "metadata": {},
   "source": [
    "## For plotting all mCAs in a class to find lower cell fraction limit of detection"
   ]
  },
  {
   "cell_type": "code",
   "execution_count": 11,
   "id": "741d0b39",
   "metadata": {
    "ExecuteTime": {
     "end_time": "2023-06-29T11:11:14.388648Z",
     "start_time": "2023-06-29T11:11:14.384881Z"
    },
    "code_folding": [
     0
    ]
   },
   "outputs": [],
   "source": [
    "def log_CFs_class(df):\n",
    "    df_copy = df.copy(deep = True)\n",
    "    CFs_mCA_class = df_copy['CELL_FRAC'].to_list()\n",
    "    CFs = []\n",
    "    for i in CFs_mCA_class:\n",
    "        CFs.append(np.log(float(i)))\n",
    "    print('total mCAs = '+str(len(CFs)))\n",
    "    return CFs"
   ]
  },
  {
   "cell_type": "code",
   "execution_count": 12,
   "id": "fb2a3294",
   "metadata": {
    "ExecuteTime": {
     "end_time": "2023-06-29T11:11:14.570998Z",
     "start_time": "2023-06-29T11:11:14.564119Z"
    },
    "code_folding": [
     0
    ]
   },
   "outputs": [],
   "source": [
    "def error_bars(hist, normed_value, widths):\n",
    "    \n",
    "    errors={}\n",
    "    n=0\n",
    "    for i in list(hist):\n",
    "        normalised_hist = i/(normed_value*widths)\n",
    "        log_hist = np.log(normalised_hist)\n",
    "        sqrt_hist = math.sqrt(i)\n",
    "        if sqrt_hist == 1:\n",
    "            upper_error = 1\n",
    "            lower_error = 0.9\n",
    "        if sqrt_hist !=1:\n",
    "            upper_error = sqrt_hist\n",
    "            lower_error = sqrt_hist\n",
    "        normalised_upper_error = upper_error/(normed_value*widths)\n",
    "        normalised_lower_error = lower_error/(normed_value*widths)\n",
    "        errors[n]=(normalised_hist[0], normalised_upper_error[0], normalised_lower_error[0])\n",
    "        n = n+1\n",
    "\n",
    "    errors_corrected ={}\n",
    "    for k, v in errors.items():\n",
    "        binheight = v[0]\n",
    "        log_binheight = np.log(v[0])\n",
    "        upper_error = v[1]\n",
    "        lower_error = v[2]\n",
    "        log_upper_error = (np.log(upper_error+binheight))-log_binheight\n",
    "        log_lower_error = log_binheight-(np.log(binheight-lower_error))\n",
    "        errors_corrected[k] = (log_binheight, log_upper_error, log_lower_error)\n",
    "\n",
    "    lower_err=[]\n",
    "    upper_err=[]\n",
    "    for k, v in errors_corrected.items():\n",
    "        lower_error = v[2]\n",
    "        upper_error = v[1]\n",
    "        lower_err.append(lower_error)\n",
    "        upper_err.append(upper_error)\n",
    "\n",
    "    err = [tuple(lower_err),tuple(upper_err)]\n",
    "    \n",
    "    return err"
   ]
  },
  {
   "cell_type": "code",
   "execution_count": 13,
   "id": "587b932a",
   "metadata": {
    "ExecuteTime": {
     "end_time": "2023-06-29T11:11:14.752858Z",
     "start_time": "2023-06-29T11:11:14.739202Z"
    },
    "code_folding": [
     0
    ]
   },
   "outputs": [],
   "source": [
    "def plot_cell_fraction_distribution_with_trimming_point(mCA_type, labelname, log_VAFs, total_people, points_to_trim):\n",
    "\n",
    "    ###################################################\n",
    "    fig, ax1 = plt.subplots(figsize=(6.5, 5), nrows=1, ncols=1)\n",
    "    fig.subplots_adjust(hspace=0.3, wspace = 0.3)\n",
    "    \n",
    "    label = labelname\n",
    "\n",
    "    ## Plot the data ###    \n",
    "    m_width = 1.5\n",
    "    c_size = 3\n",
    "    c_thick = 1.5\n",
    "    e_width = 1.5\n",
    "    alpha = 1\n",
    "    \n",
    "    if mCA_type == '+':\n",
    "        color = gain_color\n",
    "    if mCA_type == '-':\n",
    "        color = loss_color\n",
    "    if mCA_type == '=':\n",
    "        color = neutral_color\n",
    "    \n",
    "    mu = 1\n",
    "    bin_size = 'doane'\n",
    "\n",
    "    normed_value = total_people*mu #study_total*mu\n",
    "    hist, bins = np.histogram(log_VAFs, bins=bin_size, range=(min(log_VAFs),max(log_VAFs)))\n",
    "\n",
    "    cell_fraction_bins = []\n",
    "    for i in bins:\n",
    "        cell_fraction_bins.append(np.exp(i)*100)\n",
    "\n",
    "    #plot the line where want to trim\n",
    "    ax1.plot([bins[points_to_trim], bins[points_to_trim]], [-12, -4], color = color, lw = 2, linestyle = ':')\n",
    "    \n",
    "    trimming_VAF = np.exp(bins[points_to_trim])\n",
    "    \n",
    "    ax1.annotate(str(round(trimming_VAF*100, 2))+'%', xy = (bins[points_to_trim], -11),\n",
    "                va=\"center\", ha=\"center\",\n",
    "                  bbox=dict(boxstyle=\"round\", fc=\"w\"), fontsize = 12)\n",
    "    \n",
    "    widths = np.diff(bins)\n",
    "    bin_centres = (bins[:-1] + bins[1:])/2\n",
    "    hist = np.array(hist, dtype=float)\n",
    "    normalised_hist = hist/(normed_value*widths)\n",
    "    log_hist_for_plot = np.log(normalised_hist)\n",
    "\n",
    "    errors = error_bars(hist, normed_value, widths)\n",
    "\n",
    "    ax1.errorbar(bin_centres, log_hist_for_plot, yerr= errors, fmt = 'o', ecolor = color, \\\n",
    "     elinewidth = e_width, capsize = c_size, capthick = c_thick, markersize = 8, markeredgewidth = 0.5, \\\n",
    "     markeredgecolor = 'k', markerfacecolor = color, zorder=0, alpha = alpha)\n",
    "\n",
    "    x_major_ticks = [np.log(0.001), np.log(0.002),np.log(0.003),np.log(0.004),np.log(0.005),np.log(0.006),np.log(0.007),np.log(0.008),np.log(0.009), \\\n",
    "                     np.log(0.01),np.log(0.02),np.log(0.03),np.log(0.04),np.log(0.05),np.log(0.06),np.log(0.07),np.log(0.08),np.log(0.09),\\\n",
    "                     np.log(0.1),np.log(0.2),np.log(0.3),np.log(0.4),np.log(0.5),np.log(0.6),np.log(0.7),np.log(0.8),np.log(0.9), np.log(1.0)]\n",
    "    x_major_tick_labels = [\"0.1\",\"\",\"\",\"\",\"\",\"\",\"\",\"\",\"\",\\\n",
    "                           \"1\",\"\",\"\",\"\",\"\",\"\",\"\",\"\",\"\",\\\n",
    "                           \"10\",\"\",\"\",\"\",\"50\",\"\",\"\",\"\",\"\",\"100\"]\n",
    "\n",
    "    ax1.set_xlabel('fraction of cells (%)')\n",
    "    ax1.set_xticks(x_major_ticks)\n",
    "    ax1.set_xticklabels(x_major_tick_labels)\n",
    "    ax1.set_yticks([])\n",
    "    ax1.set_yticklabels([])\n",
    "    ax1.tick_params(axis = 'both', which = 'major', color = grey4)\n",
    "    ax1.tick_params(axis = 'both', which='minor', bottom=False)\n",
    "    ax1.set_ylim(-12, -4)\n",
    "    ax1.set_xlim(np.log(0.001), 0)\n",
    "    ax1.set_title(labelname)\n",
    "\n",
    "    ax1.set_ylabel('relative density of mCAs')\n",
    "    \n",
    "    plt.tight_layout(w_pad = 5)\n",
    "\n",
    "    savename = labelname.replace(' ', '_')\n",
    "    \n",
    "#     plt.savefig('Figures/'+str(savename)+'_cell_fraction_density_histogram_trimming.pdf')\n",
    "\n",
    "    plt.show()\n",
    "    \n",
    "    return trimming_VAF"
   ]
  },
  {
   "cell_type": "code",
   "execution_count": 14,
   "id": "1bdfa39f",
   "metadata": {
    "ExecuteTime": {
     "end_time": "2023-06-29T11:11:14.913591Z",
     "start_time": "2023-06-29T11:11:14.909835Z"
    },
    "code_folding": [
     0
    ]
   },
   "outputs": [],
   "source": [
    "def log_CFs_plot_all_mCAs(df, mCA_class, labelname, total_people, points_to_trim):\n",
    "    logCFs = log_CFs_class(df)\n",
    "    print('plotting the histograms...')\n",
    "    print('')\n",
    "    trimming_VAF = plot_cell_fraction_distribution_with_trimming_point(mCA_class, labelname, logCFs, total_people, points_to_trim)\n",
    "    return trimming_VAF"
   ]
  },
  {
   "cell_type": "markdown",
   "id": "9f943b8c",
   "metadata": {},
   "source": [
    "## Calculating how many datapoints left after trimming"
   ]
  },
  {
   "cell_type": "code",
   "execution_count": 38,
   "id": "114753fc",
   "metadata": {
    "ExecuteTime": {
     "end_time": "2023-06-29T11:14:43.564969Z",
     "start_time": "2023-06-29T11:14:43.560387Z"
    },
    "code_folding": [
     0
    ]
   },
   "outputs": [],
   "source": [
    "def log_CFs_with_trimming(df, mCA, trimming_VAF):\n",
    "    df_copy = df.copy(deep = True)\n",
    "    CFs_mCA = df_copy[df_copy['annotation']== mCA]['CELL_FRAC'].to_list()\n",
    "    CFs = []\n",
    "    for i in CFs_mCA:\n",
    "        if float(i) >=float(trimming_VAF):\n",
    "            CFs.append(np.log(float(i)))\n",
    "    print('total '+mCA+' mCAs = '+str(len(CFs)))\n",
    "    return CFs"
   ]
  },
  {
   "cell_type": "code",
   "execution_count": 15,
   "id": "0a33db15",
   "metadata": {
    "ExecuteTime": {
     "end_time": "2023-06-29T11:11:15.267688Z",
     "start_time": "2023-06-29T11:11:15.265251Z"
    }
   },
   "outputs": [],
   "source": [
    "def length_log_CFs_with_trimming(df, mCA, trimming_cell_fraction):\n",
    "    logCFs = log_CFs_with_trimming(df, mCA, trimming_cell_fraction)\n",
    "    return len(logCFs)  "
   ]
  },
  {
   "cell_type": "markdown",
   "id": "4b8cea6d",
   "metadata": {},
   "source": [
    "# Create dataframes of mCAs seen in individuals as single events"
   ]
  },
  {
   "cell_type": "code",
   "execution_count": 16,
   "id": "b650c0d0",
   "metadata": {
    "ExecuteTime": {
     "end_time": "2023-06-29T11:11:15.650232Z",
     "start_time": "2023-06-29T11:11:15.641534Z"
    }
   },
   "outputs": [],
   "source": [
    "gain_df = filter_by_mCA_type('gain', df) #filter the dataframe to just include gains\n",
    "single_gain_df = filter_by_number_mCAs(1, gain_df) #filter the dataframe to only include people that have total 1 mCA"
   ]
  },
  {
   "cell_type": "code",
   "execution_count": 17,
   "id": "3095f2ab",
   "metadata": {
    "ExecuteTime": {
     "end_time": "2023-06-29T11:11:15.841390Z",
     "start_time": "2023-06-29T11:11:15.832019Z"
    }
   },
   "outputs": [],
   "source": [
    "loss_df = filter_by_mCA_type('loss', df) #filter the dataframe to just include losss\n",
    "single_loss_df = filter_by_number_mCAs(1, loss_df) #filter the dataframe to only include people that have total 1 mCA"
   ]
  },
  {
   "cell_type": "code",
   "execution_count": 18,
   "id": "a48f0afc",
   "metadata": {
    "ExecuteTime": {
     "end_time": "2023-06-29T11:11:16.022922Z",
     "start_time": "2023-06-29T11:11:16.009951Z"
    }
   },
   "outputs": [],
   "source": [
    "CNLOH_df = filter_by_mCA_type('neutral', df) #filter the dataframe to just include CNLOHs\n",
    "single_CNLOH_df = filter_by_number_mCAs(1, CNLOH_df) #filter the dataframe to only include people that have total 1 mCA"
   ]
  },
  {
   "cell_type": "markdown",
   "id": "2c65ee5b",
   "metadata": {},
   "source": [
    "# Functions"
   ]
  },
  {
   "cell_type": "code",
   "execution_count": 19,
   "id": "1175e6a0",
   "metadata": {
    "ExecuteTime": {
     "end_time": "2023-06-29T11:11:16.387601Z",
     "start_time": "2023-06-29T11:11:16.382682Z"
    },
    "code_folding": [
     0
    ]
   },
   "outputs": [],
   "source": [
    "def proportion(chromosome, start, end, size):\n",
    "    chromosome_size = chromosome_sizes[str(chromosome)]/1e6\n",
    "    q_arm_start = chromosome_arm_sizes[str(chromosome)+'p']/1e6\n",
    "    p_arm_size = chromosome_arm_sizes[str(chromosome)+'p']/1e6\n",
    "    q_arm_size = chromosome_arm_sizes[str(chromosome)+'q']/1e6\n",
    "        \n",
    "    proportion = ''\n",
    "    \n",
    "    if start < q_arm_start:\n",
    "        if end <= q_arm_start:\n",
    "            effects = 'p-arm'\n",
    "            proportion = size/p_arm_size\n",
    "        if end > q_arm_start:\n",
    "            effects = 'whole-chromosome'\n",
    "            proportion = size/chromosome_size\n",
    "    if start >= q_arm_start:\n",
    "        effects = 'q-arm'\n",
    "        proportion = size/q_arm_size\n",
    "    \n",
    "    return round(proportion, 3) #function to calculate what proportion of the p arm, q arm or whole chromosome the mCA affects"
   ]
  },
  {
   "cell_type": "code",
   "execution_count": 20,
   "id": "6e3835c4",
   "metadata": {
    "ExecuteTime": {
     "end_time": "2023-06-29T11:11:16.561385Z",
     "start_time": "2023-06-29T11:11:16.556146Z"
    },
    "code_folding": [
     0
    ]
   },
   "outputs": [],
   "source": [
    "def affects(chromosome, start, end, size):\n",
    "    chromosome_size = chromosome_sizes[str(chromosome)]/1e6\n",
    "    q_arm_start = chromosome_arm_sizes[str(chromosome)+'p']/1e6\n",
    "    p_arm_size = chromosome_arm_sizes[str(chromosome)+'p']/1e6\n",
    "    q_arm_size = chromosome_arm_sizes[str(chromosome)+'q']/1e6\n",
    "    \n",
    "    effects = ''\n",
    "    \n",
    "    if start < q_arm_start:\n",
    "        if end <= q_arm_start:\n",
    "            affects = 'p-arm'\n",
    "            proportion = size/p_arm_size\n",
    "        if end > q_arm_start:\n",
    "            affects = 'whole-chromosome'\n",
    "            proportion = size/chromosome_size\n",
    "    if start >= q_arm_start:\n",
    "        affects = 'q-arm'\n",
    "        proportion = size/q_arm_size\n",
    "    \n",
    "    return affects #function to calculate if the mCA affects just the p arm, just the q arm or both ('whole chromosome')"
   ]
  },
  {
   "cell_type": "code",
   "execution_count": 21,
   "id": "15a2f25f",
   "metadata": {
    "ExecuteTime": {
     "end_time": "2023-06-29T11:11:16.743552Z",
     "start_time": "2023-06-29T11:11:16.739485Z"
    },
    "code_folding": [
     0
    ]
   },
   "outputs": [],
   "source": [
    "def log_VAFs(df, mCA):\n",
    "    df_copy = df.copy(deep = True)\n",
    "    VAFs_mCA = df_copy[df_copy['annotation']== mCA]['CELL_FRAC'].to_list()\n",
    "    VAFs = []\n",
    "    for i in VAFs_mCA:\n",
    "        VAFs.append(np.log(float(i)))\n",
    "    print('total '+mCA+' mCAs = '+str(len(VAFs)))\n",
    "    return VAFs"
   ]
  },
  {
   "cell_type": "code",
   "execution_count": 22,
   "id": "aa99063a",
   "metadata": {
    "ExecuteTime": {
     "end_time": "2023-06-29T11:11:16.920107Z",
     "start_time": "2023-06-29T11:11:16.915527Z"
    },
    "code_folding": [
     0
    ]
   },
   "outputs": [],
   "source": [
    "def log_VAFs_MLE_and_plot_single_mCA(df, mCA, labelname, total_people):\n",
    "    print(mCA)\n",
    "    logVAFs = log_VAFs(df, mCA)\n",
    "    print('calculating s and mu...')\n",
    "    start_time = time.time()\n",
    "    s, mu = cumulative_MLE_s_mu(mCA, logVAFs, total_people)\n",
    "    print('MLE for '+str(mCA)+' completed in %s minutes' % round((time.time() - start_time)/60, 3))\n",
    "    print('s = ', s)\n",
    "    print('mu = ', mu)\n",
    "    print('plotting the histograms...')\n",
    "    plots_with_cumulative_MLE(mCA, labelname, s, mu, logVAFs, total_people)\n",
    "    print('')\n",
    "    return s, mu    "
   ]
  },
  {
   "cell_type": "markdown",
   "id": "76af0d09",
   "metadata": {},
   "source": [
    "# Plots histograms of all mCAs in each class, to find lower limit of detection (Supplementary Fig. 7a-c)"
   ]
  },
  {
   "cell_type": "code",
   "execution_count": 23,
   "id": "8ae95cda",
   "metadata": {
    "ExecuteTime": {
     "end_time": "2023-06-29T11:11:17.739464Z",
     "start_time": "2023-06-29T11:11:17.283452Z"
    }
   },
   "outputs": [
    {
     "name": "stdout",
     "output_type": "stream",
     "text": [
      "total mCAs = 1410\n",
      "plotting the histograms...\n",
      "\n"
     ]
    },
    {
     "data": {
      "image/png": "[encoded data removed]",
      "text/plain": [
       "<Figure size 650x500 with 1 Axes>"
      ]
     },
     "metadata": {},
     "output_type": "display_data"
    },
    {
     "name": "stdout",
     "output_type": "stream",
     "text": [
      "lower cell fraction limit of detection for gains = 2.58%\n"
     ]
    }
   ],
   "source": [
    "gain_trimming_cell_fraction = log_CFs_plot_all_mCAs(single_gain_df, '+', 'all gains', total_people, 3) \n",
    "#3 = number of lower histogram bins to trim off, because that is where density starts to decline\n",
    "print('lower cell fraction limit of detection for gains = '+str(round(gain_trimming_cell_fraction*100, 2))+'%')"
   ]
  },
  {
   "cell_type": "code",
   "execution_count": 24,
   "id": "edbf74c3",
   "metadata": {
    "ExecuteTime": {
     "end_time": "2023-06-29T11:11:18.180763Z",
     "start_time": "2023-06-29T11:11:17.741499Z"
    }
   },
   "outputs": [
    {
     "name": "stdout",
     "output_type": "stream",
     "text": [
      "total mCAs = 2248\n",
      "plotting the histograms...\n",
      "\n"
     ]
    },
    {
     "data": {
      "image/png": "[encoded data removed]",
      "text/plain": [
       "<Figure size 650x500 with 1 Axes>"
      ]
     },
     "metadata": {},
     "output_type": "display_data"
    },
    {
     "name": "stdout",
     "output_type": "stream",
     "text": [
      "lower cell fraction limit of detection for losses = 4.83%\n"
     ]
    }
   ],
   "source": [
    "loss_trimming_cell_fraction = log_CFs_plot_all_mCAs(single_loss_df, '-', 'all losses', total_people, 4)\n",
    "#4 = number of lower histogram bins to trim off, because that is where density starts to decline\n",
    "print('lower cell fraction limit of detection for losses = '+str(round(loss_trimming_cell_fraction*100, 2))+'%')"
   ]
  },
  {
   "cell_type": "code",
   "execution_count": 25,
   "id": "091ae1f3",
   "metadata": {
    "ExecuteTime": {
     "end_time": "2023-06-29T11:11:18.625568Z",
     "start_time": "2023-06-29T11:11:18.182187Z"
    }
   },
   "outputs": [
    {
     "name": "stdout",
     "output_type": "stream",
     "text": [
      "total mCAs = 7433\n",
      "plotting the histograms...\n",
      "\n"
     ]
    },
    {
     "data": {
      "image/png": "[encoded data removed]",
      "text/plain": [
       "<Figure size 650x500 with 1 Axes>"
      ]
     },
     "metadata": {},
     "output_type": "display_data"
    },
    {
     "name": "stdout",
     "output_type": "stream",
     "text": [
      "lower cell fraction limit of detection for CN-LOH = 1.54%\n"
     ]
    }
   ],
   "source": [
    "CNLOH_trimming_cell_fraction = log_CFs_plot_all_mCAs(single_CNLOH_df, '=', 'all CNLOH', total_people, 4)\n",
    "#4 = number of lower histogram bins to trim off, because that is where density starts to decline\n",
    "print('lower cell fraction limit of detection for CN-LOH = '+str(round(CNLOH_trimming_cell_fraction*100, 2))+'%')"
   ]
  },
  {
   "cell_type": "markdown",
   "id": "f29c2266",
   "metadata": {},
   "source": [
    "# How many datapoints left after trimming?"
   ]
  },
  {
   "cell_type": "code",
   "execution_count": 34,
   "id": "a94d3d25",
   "metadata": {
    "ExecuteTime": {
     "end_time": "2023-06-29T11:14:04.204830Z",
     "start_time": "2023-06-29T11:14:04.109906Z"
    }
   },
   "outputs": [],
   "source": [
    "#create a dictionary that contains, for each possible all_gains, the gain as the key and the dataframe as the value\n",
    "#for just those individuals with 1 mCA total\n",
    "all_gains_dataframes = {}\n",
    "all_gains_df = pd.DataFrame(columns=['gain', 'number_people'])\n",
    "for i in range(1, 23):\n",
    "    for change in ['+', 'p+', 'q+']:\n",
    "        gain_mCA = str(i)+change\n",
    "        tri_dataframe = filter_by_annotation(gain_mCA, single_gain_df)\n",
    "        all_gains_dataframes[gain_mCA] = tri_dataframe\n",
    "        df_to_add = pd.DataFrame([[gain_mCA, len(tri_dataframe)]], columns=['gain', 'number_people'])\n",
    "        all_gains_df = all_gains_df.append(df_to_add)\n",
    "\n",
    "all_gains_df_sorted = all_gains_df.sort_values('number_people', ascending = False)\n",
    "all_gains_df_sorted_non_zero = all_gains_df_sorted[all_gains_df_sorted['number_people']!=0].copy()\n",
    "\n",
    "gains_8_or_more = all_gains_df_sorted_non_zero[all_gains_df_sorted_non_zero['number_people'] >=8].copy(deep=True)['gain'].to_list()"
   ]
  },
  {
   "cell_type": "code",
   "execution_count": 35,
   "id": "314283fe",
   "metadata": {
    "ExecuteTime": {
     "end_time": "2023-06-29T11:14:04.728408Z",
     "start_time": "2023-06-29T11:14:04.631217Z"
    }
   },
   "outputs": [],
   "source": [
    "#create a dictionary that contains, for each possible all_losses, the loss as the key and the dataframe as the value\n",
    "#for just those individuals with 1 mCA total\n",
    "all_losses_dataframes = {}\n",
    "all_losses_df = pd.DataFrame(columns=['loss', 'number_people'])\n",
    "for i in range(1, 23):\n",
    "    for change in ['-', 'p-', 'q-']:\n",
    "        loss_mCA = str(i)+change\n",
    "        loss_dataframe = filter_by_annotation(loss_mCA, single_loss_df)\n",
    "        all_losses_dataframes[loss_mCA] = loss_dataframe\n",
    "        df_to_add = pd.DataFrame([[loss_mCA, len(loss_dataframe)]], columns=['loss', 'number_people'])\n",
    "        all_losses_df = all_losses_df.append(df_to_add)\n",
    "\n",
    "all_losses_df_sorted = all_losses_df.sort_values('number_people', ascending = False)\n",
    "all_losses_df_sorted_non_zero = all_losses_df_sorted[all_losses_df_sorted['number_people']!=0].copy()\n",
    "\n",
    "losses_8_or_more = all_losses_df_sorted_non_zero[all_losses_df_sorted_non_zero['number_people'] >=8].copy(deep=True)['loss'].to_list()"
   ]
  },
  {
   "cell_type": "code",
   "execution_count": 36,
   "id": "cd36f4e4",
   "metadata": {
    "ExecuteTime": {
     "end_time": "2023-06-29T11:14:05.114932Z",
     "start_time": "2023-06-29T11:14:04.973681Z"
    }
   },
   "outputs": [],
   "source": [
    "#create a dictionary that contains, for each possible all_CNLOH, the CNLOH as the key and the dataframe as the value\n",
    "#for just those individuals with 1 mCA total\n",
    "all_CNLOH_dataframes = {}\n",
    "all_CNLOH_df = pd.DataFrame(columns=['neutral', 'number_people'])\n",
    "for i in range(1, 23):\n",
    "    for change in ['=', 'p=', 'q=']:\n",
    "        CNLOH_mCA = str(i)+change\n",
    "        CNLOH_dataframe = filter_by_annotation(CNLOH_mCA, single_CNLOH_df)\n",
    "        all_CNLOH_dataframes[CNLOH_mCA] = CNLOH_dataframe\n",
    "        df_to_add = pd.DataFrame([[CNLOH_mCA, len(CNLOH_dataframe)]], columns=['CNLOH', 'number_people'])\n",
    "        all_CNLOH_df = all_CNLOH_df.append(df_to_add)\n",
    "\n",
    "all_CNLOH_df_sorted = all_CNLOH_df.sort_values('number_people', ascending = False)\n",
    "all_CNLOH_df_sorted_non_zero = all_CNLOH_df_sorted[all_CNLOH_df_sorted['number_people']!=0].copy()\n",
    "\n",
    "CNLOH_8_or_more = all_CNLOH_df_sorted_non_zero[all_CNLOH_df_sorted_non_zero['number_people'] >=8].copy(deep=True)['CNLOH'].to_list()"
   ]
  },
  {
   "cell_type": "code",
   "execution_count": 39,
   "id": "ccf294e1",
   "metadata": {
    "ExecuteTime": {
     "end_time": "2023-06-29T11:14:46.541240Z",
     "start_time": "2023-06-29T11:14:46.382756Z"
    },
    "scrolled": true
   },
   "outputs": [
    {
     "name": "stdout",
     "output_type": "stream",
     "text": [
      "total 12+ mCAs = 212\n",
      "total 15q+ mCAs = 172\n",
      "total 22q+ mCAs = 152\n",
      "total 14q+ mCAs = 130\n",
      "total 21q+ mCAs = 119\n",
      "total 8+ mCAs = 61\n",
      "total 18+ mCAs = 36\n",
      "total 9+ mCAs = 38\n",
      "total 5p+ mCAs = 32\n",
      "total 3+ mCAs = 21\n",
      "total 1p+ mCAs = 23\n",
      "total 5+ mCAs = 20\n",
      "total 9q+ mCAs = 16\n",
      "total 3q+ mCAs = 15\n",
      "total 12q+ mCAs = 15\n",
      "total 1q+ mCAs = 14\n",
      "total 6p+ mCAs = 13\n",
      "total 18q+ mCAs = 10\n",
      "total 5q+ mCAs = 8\n",
      "total 17q+ mCAs = 9\n",
      "total 6q+ mCAs = 8\n",
      "total 2p+ mCAs = 8\n",
      "total 9p+ mCAs = 8\n",
      "total 3p+ mCAs = 8\n",
      "total 20q- mCAs = 350\n",
      "total 13q- mCAs = 292\n",
      "total 10q- mCAs = 129\n",
      "total 11q- mCAs = 116\n",
      "total 5q- mCAs = 99\n",
      "total 2p- mCAs = 105\n",
      "total 16p- mCAs = 104\n",
      "total 4q- mCAs = 84\n",
      "total 14q- mCAs = 58\n",
      "total 7q- mCAs = 53\n",
      "total 22q- mCAs = 54\n",
      "total 17q- mCAs = 44\n",
      "total 2q- mCAs = 33\n",
      "total 6q- mCAs = 25\n",
      "total 11p- mCAs = 28\n",
      "total 16q- mCAs = 25\n",
      "total 9q- mCAs = 25\n",
      "total 3p- mCAs = 24\n",
      "total 12q- mCAs = 23\n",
      "total 7p- mCAs = 20\n",
      "total 21q- mCAs = 10\n",
      "total 8p- mCAs = 15\n",
      "total 1q- mCAs = 19\n",
      "total 6p- mCAs = 16\n",
      "total 12p- mCAs = 16\n",
      "total 1p- mCAs = 14\n",
      "total 15q- mCAs = 11\n",
      "total 3q- mCAs = 15\n",
      "total 20- mCAs = 6\n",
      "total 18p- mCAs = 7\n",
      "total 18q- mCAs = 10\n",
      "total 17p- mCAs = 9\n",
      "total 8q- mCAs = 8\n",
      "total 14q= mCAs = 490\n",
      "total 1p= mCAs = 441\n",
      "total 11p= mCAs = 388\n",
      "total 1q= mCAs = 307\n",
      "total 15q= mCAs = 283\n",
      "total 13q= mCAs = 302\n",
      "total 11q= mCAs = 286\n",
      "total 17q= mCAs = 255\n",
      "total 22q= mCAs = 275\n",
      "total 9q= mCAs = 235\n",
      "total 9p= mCAs = 260\n",
      "total 16p= mCAs = 202\n",
      "total 6p= mCAs = 189\n",
      "total 12q= mCAs = 147\n",
      "total 16q= mCAs = 142\n",
      "total 4q= mCAs = 126\n",
      "total 19q= mCAs = 151\n",
      "total 20q= mCAs = 136\n",
      "total 19p= mCAs = 130\n",
      "total 2q= mCAs = 108\n",
      "total 21q= mCAs = 127\n",
      "total 5q= mCAs = 87\n",
      "total 3p= mCAs = 82\n",
      "total 7q= mCAs = 82\n",
      "total 2p= mCAs = 81\n",
      "total 3q= mCAs = 74\n",
      "total 17p= mCAs = 84\n",
      "total 8q= mCAs = 74\n",
      "total 10q= mCAs = 64\n",
      "total 18q= mCAs = 66\n",
      "total 1= mCAs = 36\n",
      "total 9= mCAs = 35\n",
      "total 7p= mCAs = 50\n",
      "total 6q= mCAs = 49\n",
      "total 16= mCAs = 30\n",
      "total 4p= mCAs = 38\n",
      "total 20p= mCAs = 38\n",
      "total 10p= mCAs = 32\n",
      "total 12p= mCAs = 34\n",
      "total 8p= mCAs = 31\n",
      "total 4= mCAs = 15\n",
      "total 11= mCAs = 10\n",
      "total 18p= mCAs = 14\n",
      "total 5p= mCAs = 14\n",
      "total 2= mCAs = 11\n",
      "total 20= mCAs = 8\n",
      "total 17= mCAs = 8\n",
      "total 12= mCAs = 6\n"
     ]
    }
   ],
   "source": [
    "length_log_CFs = {}\n",
    "for gain in gains_8_or_more: #gains_8_or_more\n",
    "    length_log_CFs[gain] = length_log_CFs_with_trimming(single_gain_df, gain, gain_trimming_cell_fraction)\n",
    "for loss in losses_8_or_more: #gains_8_or_more\n",
    "    length_log_CFs[loss] = length_log_CFs_with_trimming(single_loss_df, loss, loss_trimming_cell_fraction)\n",
    "for CNLOH in CNLOH_8_or_more: #gains_8_or_more\n",
    "    length_log_CFs[CNLOH] = length_log_CFs_with_trimming(single_CNLOH_df, CNLOH, CNLOH_trimming_cell_fraction)"
   ]
  },
  {
   "cell_type": "markdown",
   "id": "afab0019",
   "metadata": {},
   "source": [
    "# Compare s and mu inferred from trimmed and non-trimmed histograms (Supplementary Fig. 7d)"
   ]
  },
  {
   "cell_type": "code",
   "execution_count": 40,
   "id": "ab069ced",
   "metadata": {
    "ExecuteTime": {
     "end_time": "2023-06-29T11:14:59.612792Z",
     "start_time": "2023-06-29T11:14:59.598624Z"
    }
   },
   "outputs": [],
   "source": [
    "# Import the fitness and mutation rate inferences from trimmed histograms (s and mu inferred from mCA_mu_and_s_MLE_using_heatmaps_with_lower_trimming.py)\n",
    "df_trimmed = pd.read_csv('Data_files/mCA_s_mu_with_confidence_intervals_individual_mCAs_with_lower_cell_fraction_trimming.csv')\n",
    "df_trimmed = df_trimmed.rename(columns = {'Unnamed: 0': 'mCA', 's': 's_trimmed', 'mu': 'mu_trimmed'})\n",
    "df_trimmed = df_trimmed.set_index('mCA')"
   ]
  },
  {
   "cell_type": "code",
   "execution_count": 41,
   "id": "4d4610da",
   "metadata": {
    "ExecuteTime": {
     "end_time": "2023-06-29T11:14:59.841352Z",
     "start_time": "2023-06-29T11:14:59.828078Z"
    }
   },
   "outputs": [],
   "source": [
    "# Import the fitness and mutation rate inferences (from the UNtrimmed cell fractions)\n",
    "df_original = pd.read_csv('Data_files/mCA_s_mu_with_confidence_intervals_individual_mCAs.txt', sep = '\\t')\n",
    "df_untrimmed = df_original[['mCA', 's', 'mu']].copy()\n",
    "df_untrimmed = df_untrimmed.set_index('mCA')"
   ]
  },
  {
   "cell_type": "code",
   "execution_count": 42,
   "id": "890ae857",
   "metadata": {
    "ExecuteTime": {
     "end_time": "2023-06-29T11:15:00.030012Z",
     "start_time": "2023-06-29T11:15:00.023443Z"
    }
   },
   "outputs": [],
   "source": [
    "# Merge the 2 dataframes and create a dictionary, where key = mCA and value = a dictionary of 's', 'mu', 's_trimmed' and 'mu_trimmed'\n",
    "df_merged = pd.merge(df_untrimmed, df_trimmed, left_index=True, right_index=True)\n",
    "df_merged_dict = df_merged.to_dict(orient = 'index')"
   ]
  },
  {
   "cell_type": "code",
   "execution_count": 43,
   "id": "e89f1c27",
   "metadata": {
    "ExecuteTime": {
     "end_time": "2023-06-29T11:15:00.460389Z",
     "start_time": "2023-06-29T11:15:00.455500Z"
    },
    "code_folding": [
     0
    ]
   },
   "outputs": [
    {
     "name": "stdout",
     "output_type": "stream",
     "text": [
      "mCAs where the s is >20% different between the trimmed and untrimmed MLE =  ['2q-']\n",
      "\n",
      "mCAs where the mu is >50% different between the trimmed and untrimmed MLE =  ['10q-', '12=', '15q-', '18p-', '20-', '21q-']\n"
     ]
    }
   ],
   "source": [
    "#lists of mCAs where the difference between trimmed and untrimmed is >x%\n",
    "s_different = []\n",
    "mu_different = []\n",
    "\n",
    "for k, v in df_merged_dict.items():\n",
    "    s = v['s']\n",
    "    mu = v['mu']\n",
    "    s_trimmed = v['s_trimmed']\n",
    "    mu_trimmed = v['mu_trimmed']\n",
    "    if s/s_trimmed >1.2:\n",
    "        s_different.append(k)\n",
    "    if s_trimmed/s >1.2:\n",
    "        s_different.append(k)\n",
    "    if mu/mu_trimmed >1.5:\n",
    "        mu_different.append(k)\n",
    "    if mu_trimmed/mu >1.5:\n",
    "        mu_different.append(k)\n",
    "        \n",
    "print('mCAs where the s is >20% different between the trimmed and untrimmed MLE = ', s_different)\n",
    "print('')\n",
    "print('mCAs where the mu is >50% different between the trimmed and untrimmed MLE = ', mu_different)"
   ]
  },
  {
   "cell_type": "code",
   "execution_count": 44,
   "id": "1bb790fe",
   "metadata": {
    "ExecuteTime": {
     "end_time": "2023-06-29T11:15:03.813665Z",
     "start_time": "2023-06-29T11:15:01.426707Z"
    },
    "code_folding": [
     0
    ]
   },
   "outputs": [
    {
     "data": {
      "image/png": "[encoded data removed]",
      "text/plain": [
       "<Figure size 1400x500 with 2 Axes>"
      ]
     },
     "metadata": {},
     "output_type": "display_data"
    }
   ],
   "source": [
    "# Plot the correlation between inferred fitness and mutation rate using trimmed vs. untrimmed cell fractions\n",
    "fig, axes = plt.subplots(figsize=(14, 5), nrows=1, ncols=2)\n",
    "fig.subplots_adjust(hspace=0.3, wspace = 0.3)\n",
    "    \n",
    "ax1 = axes[0]\n",
    "ax2 = axes[1]\n",
    "\n",
    "## Plot the data ###    \n",
    "m_width = 1.5\n",
    "c_size = 3\n",
    "c_thick = 1.5\n",
    "e_width = 1.5\n",
    "    \n",
    "mCA_colors = {'+': gain_color, '-': loss_color, '=':  neutral_color}\n",
    "\n",
    "for k, v in df_merged_dict.items():\n",
    "    total_mCA_trimmed = length_log_CFs[k]\n",
    "    if total_mCA_trimmed >=8:\n",
    "        s = float(v['s'])*100\n",
    "        if s>28:\n",
    "            s = 29.75\n",
    "        s_trimmed = float(v['s_trimmed'])*100\n",
    "        if s_trimmed>28:\n",
    "            s_trimmed = 29.75\n",
    "        ax1.scatter(float(v['mu']), float(v['mu_trimmed']), color = mCA_colors[k[-1]], s = 50, lw = 1, edgecolor = 'k', zorder = 2, alpha = 1)\n",
    "        ax2.scatter(s, s_trimmed, color = mCA_colors[k[-1]], s = 50, lw = 1, edgecolor = 'k', zorder = 2, alpha = 1)\n",
    "        if k in mu_different:\n",
    "            ax1.annotate(k, xy = (float(v['mu']), float(v['mu_trimmed'])),\n",
    "                    xytext=(5, 4), textcoords=\"offset points\", va=\"center\", ha=\"left\", fontsize = 10)\n",
    "        if k in s_different:\n",
    "            ax2.annotate(k, xy = (float(v['s'])*100, float(v['s_trimmed'])*100),\n",
    "                    xytext=(5, 4), textcoords=\"offset points\", va=\"center\", ha=\"left\", fontsize = 10)\n",
    "        \n",
    "    if total_mCA_trimmed <8:\n",
    "        s = float(v['s'])*100\n",
    "        if s>28:\n",
    "            s = 29.75\n",
    "        s_trimmed = float(v['s_trimmed'])*100\n",
    "        if s_trimmed>28:\n",
    "            s_trimmed = 29.75\n",
    "        ax1.scatter(float(v['mu']), float(v['mu_trimmed']), color = mCA_colors[k[-1]], s = 50, lw = 1, linestyle = ':', edgecolor = 'k', zorder = 2, alpha = 0.5)\n",
    "        ax2.scatter(s, s_trimmed, color = mCA_colors[k[-1]], s = 50, lw = 1, linestyle = ':', edgecolor = 'k', zorder = 2, alpha = 0.5)\n",
    "        if k in mu_different:\n",
    "            ax1.annotate(k, xy = (float(v['mu']), float(v['mu_trimmed'])),\n",
    "                    xytext=(5, 4), textcoords=\"offset points\", va=\"center\", ha=\"left\", fontsize = 10, color = grey4)\n",
    "        if k in s_different:\n",
    "            ax2.annotate(k, xy = (float(v['s'])*100, float(v['s_trimmed'])*100),\n",
    "                    xytext=(5, 4), textcoords=\"offset points\", va=\"center\", ha=\"left\", fontsize = 10, color = grey4)\n",
    "\n",
    "    \n",
    "ax1.plot([3e-11, 1e-8], [3e-11, 1e-8], color = grey4, lw = 2, linestyle = ':', zorder = 0)\n",
    "ax2.plot([5, 31], [5, 31], color = grey4, lw = 2, linestyle = ':', zorder = 0)\n",
    "\n",
    "ax1.tick_params(axis = 'both', which = 'major', color = grey4)\n",
    "ax1.tick_params(axis = 'both', which='minor', color = grey4)\n",
    "ax1.set_xscale('log')\n",
    "ax1.set_yscale('log')\n",
    "ax1.set_xlim(3e-11, 1e-8)\n",
    "ax1.set_ylim(3e-11, 1e-8)\n",
    "ax1.set_title('\\u03BC', y = 1.1)\n",
    "ax1.set_xlabel('\\u03BC (no data trimming)')\n",
    "ax1.set_ylabel('\\u03BC (data trimming)')\n",
    "\n",
    "ax2.set_title('s', y = 1.1)\n",
    "ax2.set_xlim(5, 31)\n",
    "ax2.set_ylim(5, 31)\n",
    "x_major_ticks = [6, 8, 10, 12, 14, 16, 18, 20, 22, 24, 26, 28, 29.75]\n",
    "x_major_tick_labels = [\"6\", \"8\", \"10\", \"12\", \"14\", \"16\", \"18\", \"20\", \"22\", \"24\", \"26\", \"28\", \">28\"]\n",
    "ax2.set_xticks(x_major_ticks)\n",
    "ax2.set_xticklabels(x_major_tick_labels)\n",
    "ax2.set_yticks(x_major_ticks)\n",
    "ax2.set_yticklabels(x_major_tick_labels)\n",
    "ax2.tick_params(axis = 'both', which = 'major', color = grey4)\n",
    "ax2.tick_params(axis = 'both', which='minor', bottom=False)\n",
    "ax2.set_xlabel('s (%) (no data trimming)')\n",
    "ax2.set_ylabel('s (%) (data trimming)')\n",
    "\n",
    "ax1.grid(which=\"both\", color = grey2)\n",
    "ax2.grid(which=\"major\", color = grey2)\n",
    "\n",
    "custom_lines = [Line2D([0], [0], color=gain_color, lw=0, marker = 'o'),\n",
    "                Line2D([0], [0], color=loss_color, lw=0, marker = 'o'),\n",
    "                Line2D([0], [0], color=neutral_color, lw=0, marker = 'o')]\n",
    "\n",
    "ax1.legend(custom_lines, ['gain', 'loss', 'CNLOH'], ncol = 3, bbox_to_anchor=(0.5, 1.05), loc = 'center', frameon = 'yes', fancybox = 'yes')\n",
    "ax2.legend(custom_lines, ['gain', 'loss', 'CNLOH'], ncol = 3, bbox_to_anchor=(0.5, 1.05), loc = 'center', frameon = 'yes', fancybox = 'yes')\n",
    "\n",
    "plt.tight_layout(w_pad = 5)\n",
    "\n",
    "# plt.savefig('Figures/mu_vs_mutrimmed_and_s_vs_strimmed.pdf')\n",
    "\n",
    "plt.show()"
   ]
  }
 ],
 "metadata": {
  "kernelspec": {
   "display_name": "Python 3 (ipykernel)",
   "language": "python",
   "name": "python3"
  },
  "language_info": {
   "codemirror_mode": {
    "name": "ipython",
    "version": 3
   },
   "file_extension": ".py",
   "mimetype": "text/x-python",
   "name": "python",
   "nbconvert_exporter": "python",
   "pygments_lexer": "ipython3",
   "version": "3.7.4"
  },
  "toc": {
   "base_numbering": 1,
   "nav_menu": {},
   "number_sections": true,
   "sideBar": true,
   "skip_h1_title": false,
   "title_cell": "Table of Contents",
   "title_sidebar": "Contents",
   "toc_cell": true,
   "toc_position": {},
   "toc_section_display": true,
   "toc_window_display": true
  }
 },
 "nbformat": 4,
 "nbformat_minor": 5
}
